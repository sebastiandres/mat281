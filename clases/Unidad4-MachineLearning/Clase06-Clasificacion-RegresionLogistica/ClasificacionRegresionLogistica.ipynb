{
 "cells": [
  {
   "cell_type": "code",
   "execution_count": 54,
   "metadata": {
    "collapsed": false,
    "slideshow": {
     "slide_type": "skip"
    }
   },
   "outputs": [
    {
     "data": {
      "text/html": [
       "<style>\n",
       "\n",
       ".reveal {\n",
       "overflow: visible;\n",
       "}\n",
       "\n",
       "/*********************************************\n",
       " * COLORS FOR EXAMPLES\n",
       " *********************************************/\n",
       "em {font-style: normal !important;\n",
       "    color: #800000;}\n",
       "span.good {color: #008000;}\n",
       "span.warning {color: #808000;}\n",
       "span.bad {color: #800000;}\n",
       "\n",
       "/*********************************************\n",
       " * GLOBAL STYLES\n",
       " *********************************************/\n",
       ".reveal h1 {color: #000000; text-shadow: 0px 0px 6px rgba(0, 0, 0, 0.2);}\n",
       ".reveal h2 {color: #222222; text-shadow: 0px 0px 5px rgba(0, 0, 0, 0.2);}\n",
       ".reveal h3 {color: #444444; text-shadow: 0px 0px 4px rgba(0, 0, 0, 0.2);}\n",
       ".reveal h4 {color: #666666; text-shadow: 0px 0px 3px rgba(0, 0, 0, 0.2);}\n",
       ".reveal h5 {color: #888888; text-shadow: 0px 0px 2px rgba(0, 0, 0, 0.2);}\n",
       ".reveal h6 {color: #AAAAAA; text-shadow: 0px 0px 1px rgba(0, 0, 0, 0.2);}\n",
       "\n",
       "/*********************************************\n",
       " * IMAGES\n",
       " *********************************************/\n",
       ".reveal section img { margin-left:auto; margin-right:auto;}\n",
       "\n",
       "</style>\n"
      ],
      "text/plain": [
       "<IPython.core.display.HTML object>"
      ]
     },
     "execution_count": 54,
     "metadata": {},
     "output_type": "execute_result"
    }
   ],
   "source": [
    "\"\"\"\n",
    "IPython Notebook v4.0 para python 2.7\n",
    "Librerías adicionales: numpy, matplotlib, sklearn\n",
    "Contenido bajo licencia CC-BY 4.0. Código bajo licencia MIT. (c) Sebastian Flores.\n",
    "\"\"\"\n",
    "\n",
    "# Configuracion para recargar módulos y librerías \n",
    "%reload_ext autoreload\n",
    "%autoreload 2\n",
    "\n",
    "%matplotlib inline\n",
    "\n",
    "from IPython.core.display import HTML\n",
    "\n",
    "HTML(open(\"style/mat281.css\", \"r\").read())"
   ]
  },
  {
   "cell_type": "markdown",
   "metadata": {
    "slideshow": {
     "slide_type": "slide"
    }
   },
   "source": [
    "<header class=\"w3-container w3-teal\">\n",
    "<img src=\"images/utfsm.png\" alt=\"\" height=\"100px\" align=\"left\"/>\n",
    "<img src=\"images/mat.png\" alt=\"\" height=\"100px\" align=\"right\"/>\n",
    "</header>\n",
    "<br/><br/><br/><br/><br/>\n",
    "# MAT281\n",
    "## Aplicaciones de la Matemática en la Ingeniería\n",
    "### Sebastián Flores\n",
    "https://www.github.com/usantamaria/mat281"
   ]
  },
  {
   "cell_type": "markdown",
   "metadata": {
    "slideshow": {
     "slide_type": "slide"
    }
   },
   "source": [
    "## Clase anterior\n",
    "\n",
    "***Regresión Lineal***\n",
    "* ¿Cómo se llamaba el algoritmo que vimos?\n",
    "* ¿Cuál era la aproximación ingenieril? ¿Machine Learning? ¿Estadística? \n",
    "* ¿Cuándo funcionaba y cuándo fallaba?"
   ]
  },
  {
   "cell_type": "markdown",
   "metadata": {
    "slideshow": {
     "slide_type": "slide"
    }
   },
   "source": [
    "## ¿Qué veremos hoy?\n",
    "Clasificación y Regresión logística."
   ]
  },
  {
   "cell_type": "markdown",
   "metadata": {
    "slideshow": {
     "slide_type": "slide"
    }
   },
   "source": [
    "## ¿Porqué veremos ese contenido?\n",
    "Porque clasificación es un problema muy común puesto que permite la toma de decisiones. \n",
    "Regresión logística es un algoritmo que surge naturalmente como extensión de regresión lineal pero en el contexto de clasificación."
   ]
  },
  {
   "cell_type": "markdown",
   "metadata": {
    "slideshow": {
     "slide_type": "slide"
    }
   },
   "source": [
    "## Problemas de Clasificación\n",
    "\n",
    "¿Conocen algún problema de clasificación?"
   ]
  },
  {
   "cell_type": "markdown",
   "metadata": {
    "slideshow": {
     "slide_type": "slide"
    }
   },
   "source": [
    "## Wine Dataset\n",
    "\n",
    "<img src=\"images/wine.jpg\" alt=\"\" width=\"600px\" align=\"middle\"/>"
   ]
  },
  {
   "cell_type": "markdown",
   "metadata": {
    "slideshow": {
     "slide_type": "slide"
    }
   },
   "source": [
    "## Wine Dataset\n",
    "\n",
    "Los datos corresponden a 3 cultivos diferentes de vinos de la misma región de Italia, y que han sido identificados con las etiquetas 1, 2 y 3. Para cada tipo de vino se realizado 13 análisis químicos:\n",
    "\n",
    "1. Alcohol \n",
    "2.  Malic acid \n",
    "3. Ash \n",
    "4. Alcalinity of ash \n",
    "5. Magnesium \n",
    "6. Total phenols \n",
    "7. Flavanoids \n",
    "8. Nonflavanoid phenols \n",
    "9. Proanthocyanins \n",
    "10. Color intensity \n",
    "11. Hue \n",
    "12. OD280/OD315 of diluted wines \n",
    "13. Proline \n",
    "\n",
    "\n",
    "La base de datos contiene 178 muestras distintas en total."
   ]
  },
  {
   "cell_type": "markdown",
   "metadata": {
    "slideshow": {
     "slide_type": "slide"
    }
   },
   "source": [
    "# Wine dataset\n",
    "\n",
    "* Si no conocemos de antemano las etiquetas, es decir, los cultivos 1,2 o 3 a los que pertenece cada muestra, el problema es de clustering:\n",
    "  * $$\\textrm{Tenemos } X \\in R^{n,m} \\textrm{ buscamos las etiquetas } Y \\in N^m$$\n",
    "\n",
    "  * ¿Cuántos grupos existen? ¿A que grupo pertenece cada dato?\n",
    "\n",
    "* Si conocemos los valores y las etiquetas, y se desea obtener la etiqueta de una muestra sin etiquetar, el problema es de clasificación:\n",
    "  * $$\\textrm{Tenemos } X \\in R^{n \\times m} \\textrm{ y } Y \\in N^m \\textrm{ y buscamos las etiquetas de } x \\in R^n$$\n",
    " \n",
    "  * ¿A qué grupo pertenece este nuevo dato?"
   ]
  },
  {
   "cell_type": "markdown",
   "metadata": {
    "slideshow": {
     "slide_type": "slide"
    }
   },
   "source": [
    "## Regresión Lineal\n",
    "Se buscaba entrenar una función lineal\n",
    "$$h_{\\theta}(x) = \\theta_0 + \\theta_1 x_1 + ... + \\theta_n x_n$$ de\n",
    "forma que se minimice\n",
    "$$J(\\theta) = \\frac{1}{2} \\sum_{i=1}^{m} \\left( h_{\\theta}(x^{(i)}) - y^{(i)}\\right)^2$$\n"
   ]
  },
  {
   "cell_type": "markdown",
   "metadata": {
    "slideshow": {
     "slide_type": "slide"
    }
   },
   "source": [
    "## Regresión Logística\n",
    "Buscaremos entrenar una función\n",
    "logística\n",
    "$$h_{\\theta}(x) = \\frac{1}{1 + e^{-(\\theta_0 + \\theta_1 x_1 + ... + \\theta_n x_n)}}$$\n",
    "\n",
    "de forma que se minimice\n",
    "\n",
    "$$J(\\theta) = \\frac{1}{2} \\sum_{i=1}^{m} \\left( h_{\\theta}(x^{(i)}) - y^{(i)}\\right)^2$$\n"
   ]
  },
  {
   "cell_type": "markdown",
   "metadata": {
    "slideshow": {
     "slide_type": "slide"
    }
   },
   "source": [
    "## Ejemplo 2D\n",
    "¿Conocen el accidente del Space Shuttle Challeger?\n",
    "\n",
    "28 Junio 1986. A pesar de existir evidencia de funcionamiento defectuoso, se da luz verde al lanzamiento.\n",
    "\n",
    "<img src=\"images/Challenger1.gif\" alt=\"\" width=\"600px\" align=\"middle\"/>"
   ]
  },
  {
   "cell_type": "markdown",
   "metadata": {
    "slideshow": {
     "slide_type": "slide"
    }
   },
   "source": [
    "## Ejemplo 2D\n",
    "\n",
    "A los 73 segundos de vuelo, el transbordador espacial explota, matando a los 7 pasajeros.\n",
    "\n",
    "<img src=\"images/Challenger2.jpg\" alt=\"\" width=\"600px\" align=\"middle\"/>"
   ]
  },
  {
   "cell_type": "markdown",
   "metadata": {
    "slideshow": {
     "slide_type": "slide"
    }
   },
   "source": [
    "## Ejemplo 2D\n",
    "Como parte del debriefing del accidente, se obtuvieron los siguientes datos"
   ]
  },
  {
   "cell_type": "code",
   "execution_count": null,
   "metadata": {
    "collapsed": false
   },
   "outputs": [],
   "source": [
    "%%bash\n",
    "cat data/Challenger.txt"
   ]
  },
  {
   "cell_type": "markdown",
   "metadata": {
    "slideshow": {
     "slide_type": "slide"
    }
   },
   "source": [
    "## Ejemplo 2D\n",
    "Grafiquemos los datos"
   ]
  },
  {
   "cell_type": "code",
   "execution_count": null,
   "metadata": {
    "collapsed": false,
    "slideshow": {
     "slide_type": "slide"
    }
   },
   "outputs": [],
   "source": [
    "from matplotlib import pyplot as plt\n",
    "import numpy as np\n",
    "# Plot of data\n",
    "data = np.loadtxt(\"data/Challenger.txt\", skiprows=1)\n",
    "x = data[:,0]\n",
    "y = data[:,1]\n",
    "plt.figure(figsize=(16,8))\n",
    "plt.plot(x, y, 'bo', ms=8)\n",
    "plt.title(\"Exito o Falla en lanzamiento de Challenger\")\n",
    "plt.xlabel(r\"T [${}^o F$]\")\n",
    "plt.ylabel(r\"Bad Rings\")\n",
    "plt.ylim([-0.1,3.1])\n",
    "plt.show()"
   ]
  },
  {
   "cell_type": "markdown",
   "metadata": {
    "slideshow": {
     "slide_type": "slide"
    }
   },
   "source": [
    "## Ejemplo 2D\n",
    "Nos gustaría saber en qué condiciones se produce accidente. No nos importa el número de fallas, sólo si existe falla o no."
   ]
  },
  {
   "cell_type": "code",
   "execution_count": 55,
   "metadata": {
    "collapsed": false,
    "slideshow": {
     "slide_type": "-"
    }
   },
   "outputs": [
    {
     "data": {
      "image/png": "[encoded data removed]",
      "text/plain": [
       "<matplotlib.figure.Figure at 0x7fbe7f7147d0>"
      ]
     },
     "metadata": {},
     "output_type": "display_data"
    }
   ],
   "source": [
    "# Plot of data\n",
    "data = np.loadtxt(\"data/Challenger.txt\", skiprows=1)\n",
    "x = (data[:,0]-32.)/1.8\n",
    "y = np.array(data[:,1]==0,int)\n",
    "plt.figure(figsize=(16,8))\n",
    "plt.plot(x[y==0], y[y==0], 'bo', label=\"Falla\", ms=8)\n",
    "plt.plot(x[y>0], y[y>0], 'rs', label=\"Exito\", ms=8)\n",
    "plt.ylim([-0.1, 1.1])\n",
    "plt.legend(loc=0, numpoints=1)\n",
    "plt.title(\"Exito o Falla en lanzamiento de Challenger\")\n",
    "plt.xlabel(r\"T [${}^o C$]\")\n",
    "plt.ylabel(r\"$y$\")\n",
    "plt.show()"
   ]
  },
  {
   "cell_type": "markdown",
   "metadata": {
    "slideshow": {
     "slide_type": "slide"
    }
   },
   "source": [
    "## Modelo\n",
    "\n",
    "Definimos como\n",
    "antes\n",
    "\n",
    "$$\\begin{aligned}\n",
    "Y &= \\begin{bmatrix}y^{(1)} \\\\ y^{(2)} \\\\ \\vdots \\\\ y^{(m)}\\end{bmatrix}\\end{aligned}$$\n",
    "\n",
    "y\n",
    "\n",
    "$$\\begin{aligned}\n",
    "X = \n",
    "\\begin{bmatrix} \n",
    "1 & x^{(1)}_1 & \\dots & x^{(1)}_n \\\\ \n",
    "1 & x^{(2)}_1 & \\dots & x^{(2)}_n \\\\\n",
    "\\vdots & \\vdots & & \\vdots \\\\\n",
    "1 & x^{(m)}_1 & \\dots & x^{(m)}_n \\\\\n",
    "\\end{bmatrix}\\end{aligned}$$\n"
   ]
  },
  {
   "cell_type": "markdown",
   "metadata": {
    "slideshow": {
     "slide_type": "slide"
    }
   },
   "source": [
    "## Modelo\n",
    "\n",
    "Luego la\n",
    "evaluación de todos los datos puede escribirse matricialmente como\n",
    "\n",
    "$$\\begin{aligned}\n",
    "X \\theta &= \n",
    "\\begin{bmatrix}\n",
    "1 & x_1^{(1)} & ... & x_n^{(1)} \\\\\n",
    "\\vdots & \\vdots & & \\vdots \\\\\n",
    "1 & x_1^{(m)} & ... & x_n^{(m)} \\\\\n",
    "\\end{bmatrix}\n",
    "\\begin{bmatrix}\\theta_0 \\\\ \\theta_1 \\\\ \\vdots \\\\ \\theta_n\\end{bmatrix} \\\\\n",
    "& = \n",
    "\\begin{bmatrix}\n",
    "1 \\theta_0 + x^{(1)}_1 \\theta_1 + ... + x^{(1)}_n \\theta_n \\\\\n",
    "\\vdots \\\\\n",
    "1 \\theta_0 + x^{(m)}_1 \\theta_1 + ... + x^{(m)}_n \\theta_n \\\\\n",
    "\\end{bmatrix}\\end{aligned}$$\n"
   ]
  },
  {
   "cell_type": "markdown",
   "metadata": {
    "slideshow": {
     "slide_type": "slide"
    }
   },
   "source": [
    "## Modelo\n",
    "\n",
    "Nuestro problema\n",
    "es encontrar un “buen” conjunto de valores $\\theta$ \n",
    "de modo que\n",
    "\n",
    "$$\\begin{aligned}\n",
    "g(X\\theta)\n",
    "\\approx\n",
    "Y\\end{aligned}$$\n",
    "\n",
    "donde $g(z)$ es la función sigmoide (en. sigmoid function).\n",
    "$$g(z) = \\frac{1}{1+e^{-z}}$$\n"
   ]
  },
  {
   "cell_type": "markdown",
   "metadata": {
    "slideshow": {
     "slide_type": "slide"
    }
   },
   "source": [
    "## Interpretación gráfica"
   ]
  },
  {
   "cell_type": "code",
   "execution_count": 56,
   "metadata": {
    "collapsed": false
   },
   "outputs": [
    {
     "data": {
      "image/png": "[encoded data removed]",
      "text/plain": [
       "<matplotlib.figure.Figure at 0x7fbe7f2544d0>"
      ]
     },
     "metadata": {},
     "output_type": "display_data"
    }
   ],
   "source": [
    "from matplotlib import pyplot as plt\n",
    "import numpy as np\n",
    "\n",
    "def sigmoid(z):\n",
    "    return (1+np.exp(-z))**(-1.)\n",
    "\n",
    "z = np.linspace(-5,5,100)\n",
    "g = sigmoid(z)\n",
    "fig = plt.figure(figsize=(16,8))\n",
    "plt.plot(z,sigmoid(z), lw=2.0)\n",
    "plt.plot(z,sigmoid(z*2), lw=2.0)\n",
    "plt.plot(z,sigmoid(z-2), lw=2.0)\n",
    "plt.grid(\"on\")\n",
    "plt.show()"
   ]
  },
  {
   "cell_type": "markdown",
   "metadata": {
    "slideshow": {
     "slide_type": "slide"
    }
   },
   "source": [
    "#### Modelo\n",
    "## Función Sigmoide\n",
    "\n",
    "La función\n",
    "sigmoide $g(z) = (1+e^{-z})^{-1}$ tiene la siguiente propiedad:\n",
    "$$g'(z) =  g(z)(1-g(z))$$"
   ]
  },
  {
   "cell_type": "markdown",
   "metadata": {
    "slideshow": {
     "slide_type": "slide"
    }
   },
   "source": [
    "#### Modelo\n",
    "## Función Sigmoide\n",
    "\n",
    "$g(z) = (1+e^{-z})^{-1}$ y $g'(z) =  g(z)(1-g(z))$.\n",
    "\n",
    "Demostración:\n",
    "\n",
    "$$\\begin{aligned}\n",
    "g'(z) &= \\frac{-1}{(1+e^{-z})^2} (-e^{-z}) \\\\\n",
    "      &= \\frac{e^{-z}}{(1+e^{-z})^2} \\\\\n",
    "      &= \\frac{1}{1+e^{-z}} \\frac{e^{-z}}{1+e^{-z}} \\\\\n",
    "      &= \\frac{1}{1+e^{-z}} \\left(1 - \\frac{1}{1+e^{-z}} \\right) \\\\\n",
    "      &= g(z)(1-g(z))\\end{aligned}$$"
   ]
  },
  {
   "cell_type": "markdown",
   "metadata": {
    "slideshow": {
     "slide_type": "slide"
    }
   },
   "source": [
    "## Interpretación gráfica"
   ]
  },
  {
   "cell_type": "code",
   "execution_count": null,
   "metadata": {
    "collapsed": false
   },
   "outputs": [],
   "source": [
    "from matplotlib import pyplot as plt\n",
    "import numpy as np\n",
    "\n",
    "def sigmoid(z):\n",
    "    return (1+np.exp(-z))**(-1.)\n",
    "\n",
    "z = np.linspace(-5,5,100)\n",
    "g = sigmoid(z)\n",
    "dgdz = g*(1-g)\n",
    "fig = plt.figure(figsize=(16,8))\n",
    "plt.plot(z, g, \"k\", label=\"g(z)\", lw=2)\n",
    "plt.plot(z, dgdz, \"r\", label=\"dg(z)/dz\", lw=2)\n",
    "plt.legend()\n",
    "plt.grid(\"on\")\n",
    "plt.show()"
   ]
  },
  {
   "cell_type": "markdown",
   "metadata": {
    "slideshow": {
     "slide_type": "slide"
    }
   },
   "source": [
    "## Aproximación Ingenieril\n",
    "\n",
    "¿Cómo podemos reutilizar lo que conocemos de regresión lineal?\n",
    "\n",
    "Si buscamos minimizar\n",
    "$$J(\\theta) = \\frac{1}{2} \\sum_{i=1}^{m} \\left( h_{\\theta}(x^{(i)}) - y^{(i)}\\right)^2$$\n",
    "Podemos calcular el gradiente y luego utilizar el método del máximo\n",
    "descenso para obtener $\\theta$.\n",
    "\n"
   ]
  },
  {
   "cell_type": "markdown",
   "metadata": {
    "slideshow": {
     "slide_type": "slide"
    }
   },
   "source": [
    "## Aproximación Ingenieril\n",
    "\n",
    "El\n",
    "cálculo del gradiente es directo:\n",
    "\n",
    "$$\\begin{aligned}\n",
    "\\frac{\\partial J(\\theta)}{\\partial \\theta_k}\n",
    "&= \\sum_{i=1}^{m} \\left( h_{\\theta}(x^{(i)}) - y^{(i)}\\right) \\frac{\\partial}{\\partial \\theta_k} h_{\\theta}(x^{(i)}) \\\\\n",
    "&= \\sum_{i=1}^{m} \\left( h_{\\theta}(x^{(i)}) - y^{(i)}\\right) \\frac{\\partial}{\\partial \\theta_k} g(\\theta^T x^{(i)}) \\\\\n",
    "&= \\sum_{i=1}^{m} \\left( h_{\\theta}(x^{(i)}) - y^{(i)}\\right) h_{\\theta}(x^{(i)}) \\left(1-h_{\\theta}(x^{(i)})\\right) \\frac{\\partial}{\\partial \\theta_k} (\\theta^T x^{(i)}) \\\\\n",
    "&= \\sum_{i=1}^{m} \\left( h_{\\theta}(x^{(i)}) - y^{(i)}\\right) h_{\\theta}(x^{(i)}) \\left(1-h_{\\theta}(x^{(i)})\\right) x^{(i)}_k\\end{aligned}$$\n"
   ]
  },
  {
   "cell_type": "markdown",
   "metadata": {
    "slideshow": {
     "slide_type": "slide"
    }
   },
   "source": [
    "## Aproximación Ingenieril\n",
    "\n",
    "¿Hay alguna forma de escribir todo esto de manera matricial? Recordemos\n",
    "que si las componentes eran\n",
    "\n",
    "$$\\begin{aligned}\n",
    "\\sum_{i=1}^{m} \\left( h_{\\theta}(x^{(i)}) - y^{(i)}\\right) x^{(i)}_k = \\sum_{i=1}^{m}  x^{(i)}_k \\left( h_{\\theta}(x^{(i)}) - y^{(i)}\\right)\\end{aligned}$$\n",
    "\n",
    "podíamos escribirlo vectorialmente como $$X^T (X\\theta - Y)$$\n",
    "\n"
   ]
  },
  {
   "cell_type": "markdown",
   "metadata": {
    "slideshow": {
     "slide_type": "slide"
    }
   },
   "source": [
    "## Aproximación Ingenieril\n",
    "\n",
    "Luego, para\n",
    "\n",
    "$$\\begin{aligned}\n",
    "\\frac{\\partial J(\\theta)}{\\partial \\theta_k}\n",
    "&= \\sum_{i=1}^{m} \\left( h_{\\theta}(x^{(i)}) - y^{(i)}\\right) h_{\\theta}(x^{(i)}) \\left(1-h_{\\theta}(x^{(i)})\\right) x^{(i)}_k \\\\\n",
    "&= \\sum_{i=1}^{m}  x^{(i)}_k \\left( h_{\\theta}(x^{(i)}) - y^{(i)}\\right) h_{\\theta}(x^{(i)}) \\left(1-h_{\\theta}(x^{(i)})\\right)\\end{aligned}$$\n",
    "\n",
    "podemos escribirlo vectorialmente como\n",
    "$$\\nabla_{\\theta} J(\\theta) = X^T  \\Big[ (g(X\\theta) - Y) \\odot g(X\\theta) \\odot (1-g(X\\theta)) \\Big]$$\n",
    "donde $\\odot$ es la multiplicación elemento a elemento (element-wise)."
   ]
  },
  {
   "cell_type": "markdown",
   "metadata": {
    "slideshow": {
     "slide_type": "slide"
    }
   },
   "source": [
    "## Aproximación Ingenieril\n",
    "\n",
    "Observación crucial:\n",
    "$$\\nabla_{\\theta} J(\\theta) = X^T  \\Big[ (g(X\\theta) - Y) \\odot g(X\\theta) \\odot (1-g(X\\theta)) \\Big]$$\n",
    "no permite construir un sistema lineal para $\\theta$, por lo cual sólo\n",
    "podemos resolver iterativamente.\n"
   ]
  },
  {
   "cell_type": "markdown",
   "metadata": {
    "slideshow": {
     "slide_type": "slide"
    }
   },
   "source": [
    "## Aproximación Ingenieril\n",
    "\n",
    "Por\n",
    "lo tanto tenemos el algoritmo\n",
    "\n",
    "$$\\begin{aligned}\n",
    "\\theta^{(n+1)} & = \\theta^{(n)} - \\alpha \\nabla_{\\theta} J(\\theta^{(n)}) \\\\\n",
    "\\nabla_{\\theta} J(\\theta) &= X^T  \\Big[ (g(X\\theta) - Y) \\odot g(X\\theta) \\odot (1-g(X\\theta)) \\Big]\\end{aligned}$$\n",
    "\n"
   ]
  },
  {
   "cell_type": "markdown",
   "metadata": {
    "slideshow": {
     "slide_type": "slide"
    }
   },
   "source": [
    "## Aproximación Ingenieril\n",
    "\n",
    "El código sería el siguiente:"
   ]
  },
  {
   "cell_type": "code",
   "execution_count": null,
   "metadata": {
    "collapsed": true
   },
   "outputs": [],
   "source": [
    "import numpy as np\n",
    "\n",
    "def sigmoid(z):\n",
    "    return 1./(1+np.exp(-z))\n",
    "\n",
    "def norm2_error_logistic_regression(X, Y, theta0, tol=1E-6):\n",
    "    converged = False\n",
    "    alpha = 0.01/len(Y)\n",
    "    theta = theta0\n",
    "    while not converged:\n",
    "        H = sigmoid(np.dot(X, theta))\n",
    "        gradient = np.dot(X.T, (H-Y)*H*(1-H))\n",
    "        new_theta = theta - alpha * gradient\n",
    "        converged = np.linalg.norm(theta-new_theta) < tol * np.linalg.norm(theta) \n",
    "        theta = new_theta\n",
    "    return theta"
   ]
  },
  {
   "cell_type": "markdown",
   "metadata": {
    "slideshow": {
     "slide_type": "slide"
    }
   },
   "source": [
    "## Interpretación Probabilística\n",
    "\n",
    "¿Es la derivación anterior\n",
    "probabilísticamente correcta?\n",
    "\n",
    "Asumamos que la pertenencia a los grupos está dado por\n",
    "\n",
    "$$\\begin{aligned}\n",
    "\\mathbb{P}[y = 1| \\ x ; \\theta ] & = h_\\theta(x) \\\\\n",
    "\\mathbb{P}[y = 0| \\ x ; \\theta ] & = 1 - h_\\theta(x)\\end{aligned}$$\n",
    "\n",
    "Esto es, una distribución de Bernoulli con $p=h_\\theta(x)$.\\\n",
    "Las expresiones anteriores pueden escribirse de manera más compacta como\n",
    "\n",
    "$$\\begin{aligned}\n",
    "\\mathbb{P}[y | \\ x ; \\theta ] & = (h_\\theta(x))^y (1 - h_\\theta(x))^{(1-y)} \\\\\\end{aligned}$$\n"
   ]
  },
  {
   "cell_type": "markdown",
   "metadata": {
    "slideshow": {
     "slide_type": "slide"
    }
   },
   "source": [
    "## Interpretación Probabilística\n",
    "\n",
    "La función de verosimilitud $L(\\theta)$ nos\n",
    "permite entender que tan probable es encontrar los datos observados,\n",
    "para una elección del parámetro $\\theta$.\n",
    "\n",
    "$$\\begin{aligned}\n",
    "L(\\theta) \n",
    "&= \\prod_{i=1}^{m} \\mathbb{P}[y^{(i)}| x^{(i)}; \\theta ] \\\\\n",
    "&= \\prod_{i=1}^{m} \\Big(h_{\\theta}(x^{(i)})\\Big)^{y^{(i)}} \\Big(1 - h_\\theta(x^{(i)})\\Big)^{(1-y^{(i)})}\\end{aligned}$$\n",
    "\n",
    "Nos gustaría encontrar el parámetro $\\theta$ que más probablemente haya\n",
    "generado los datos observados, es decir, el parámetro $\\theta$ que\n",
    "maximiza la función de verosimilitud.\n"
   ]
  },
  {
   "cell_type": "markdown",
   "metadata": {
    "slideshow": {
     "slide_type": "slide"
    }
   },
   "source": [
    "## Interpretación Probabilística\n",
    "\n",
    "Calculamos la log-verosimilitud:\n",
    "\n",
    "$$\\begin{aligned}\n",
    "l(\\theta) \n",
    "&= \\log L(\\theta) \\\\\n",
    "&= \\log \\prod_{i=1}^{m} (h_\\theta(x^{(i)}))^{y^{(i)}} (1 - h_\\theta(x^{(i)}))^{(1-y^{(i)})} \\\\\n",
    "&= \\sum_{i=1}^{m} y^{(i)}\\log (h_\\theta(x^{(i)})) + (1-y^{(i)}) \\log (1 - h_\\theta(x^{(i)}))\\end{aligned}$$\n",
    "\n",
    "No existe una fórmula cerrada que nos permita obtener el máximo de la\n",
    "log-verosimitud. Pero podemos utilizar nuevamente el método del\n",
    "gradiente máximo.\n"
   ]
  },
  {
   "cell_type": "markdown",
   "metadata": {
    "slideshow": {
     "slide_type": "slide"
    }
   },
   "source": [
    "## Interpretación Probabilística\n",
    "\n",
    "\n",
    "Recordemos que si\n",
    "\n",
    "$$\\begin{aligned}\n",
    "g(z) = \\frac{1}{1+e^{-z}}\\end{aligned}$$\n",
    "\n",
    "Entonces\n",
    "\n",
    "$$\\begin{aligned}\n",
    "g'(z) &= g(z)(1-g(z))\\end{aligned}$$\n",
    "\n",
    "y luego tenemos que\n",
    "\n",
    "$$\\begin{aligned}\n",
    "\\frac{\\partial}{\\partial \\theta_k} h_\\theta(x) &= h_\\theta(x) (1-h_\\theta(x)) x_k\\end{aligned}$$\n"
   ]
  },
  {
   "cell_type": "markdown",
   "metadata": {
    "slideshow": {
     "slide_type": "slide"
    }
   },
   "source": [
    "## Interpretación Probabilística\n",
    "\n",
    "$$\\begin{aligned}\n",
    "\\frac{\\partial}{\\partial \\theta_k} l(\\theta) &=\n",
    "\\frac{\\partial}{\\partial \\theta_k}  \\sum_{i=1}^{m} y^{(i)}\\log (h_\\theta(x^{(i)})) + (1-y^{(i)}) \\log (1 - h_\\theta(x^{(i)})) \\\\\n",
    "&= \\sum_{i=1}^{m} y^{(i)}\\frac{\\partial}{\\partial \\theta_k}   \\log (h_\\theta(x^{(i)})) + (1-y^{(i)}) \\frac{\\partial}{\\partial \\theta_k}  \\log (1 - h_\\theta(x^{(i)})) \\\\\n",
    "&= \\sum_{i=1}^{m} y^{(i)}\\frac{1}{h_\\theta(x^{(i)})}\\frac{\\partial h_\\theta(x^{(i)})}{\\partial \\theta_k} \n",
    "+ (1-y^{(i)}) \\frac{1}{1 - h_\\theta(x^{(i)})} \\frac{\\partial (1-h_\\theta(x^{(i)}))}{\\partial \\theta_k} \\\\\n",
    "&= \\sum_{i=1}^{m} y^{(i)}(1-h_\\theta(x^{(i)})) x^{(i)}- (1-y^{(i)}) h_\\theta(x^{(i)}) x^{(i)}\\\\\n",
    "&= \\sum_{i=1}^{m} y^{(i)}x^{(i)}- y^{(i)}h_\\theta(x^{(i)}) x^{(i)}- h_\\theta(x^{(i)}) x^{(i)}+ y^{(i)}h_\\theta(x^{(i)}) x^{(i)}\\\\\n",
    "&= \\sum_{i=1}^{m} (y^{(i)}-h_\\theta(x^{(i)})) x^{(i)}\\end{aligned}$$\n"
   ]
  },
  {
   "cell_type": "markdown",
   "metadata": {
    "slideshow": {
     "slide_type": "slide"
    }
   },
   "source": [
    "## Interpretación Probabilística\n",
    "\n",
    "Es decir, para maximizar la log-verosimilitud\n",
    "obtenemos igual que para la regresión lineal:\n",
    "\n",
    "$$\\begin{aligned}\n",
    "\\theta^{(n+1)} & = \\theta^{(n)} - \\alpha \\nabla_{\\theta} l(\\theta^{(n)}) \\\\\n",
    "\\frac{\\partial l(\\theta)}{\\partial \\theta_k}\n",
    "&= \\sum_{i=1}^{m} \\left( h_{\\theta}(x^{(i)}) - y^{(i)}\\right) x^{(i)}_k\\end{aligned}$$\n",
    "\n",
    "Aunque, en el caso de regresión logística, se tiene\n",
    "$h_\\theta(x)=1/(1+e^{-x^T\\theta})$\n",
    "\n",
    "OBS: La elección de $\\alpha$ es crucial para la convergencia. En\n",
    "particular, $0.01/m$ funciona bien.\n",
    "\n"
   ]
  },
  {
   "cell_type": "markdown",
   "metadata": {
    "slideshow": {
     "slide_type": "slide"
    }
   },
   "source": [
    "## Recuerdo de la aproximación Ingenieril\n",
    "\n",
    "Por\n",
    "lo tanto tenemos el algoritmo\n",
    "\n",
    "$$\\begin{aligned}\n",
    "\\theta^{(n+1)} & = \\theta^{(n)} - \\alpha \\nabla_{\\theta} J(\\theta^{(n)}) \\\\\n",
    "\\nabla_{\\theta} J(\\theta) &= X^T  \\Big[ (g(X\\theta) - Y) \\odot g(X\\theta) \\odot (1-g(X\\theta)) \\Big]\\end{aligned}$$\n",
    "\n"
   ]
  },
  {
   "cell_type": "markdown",
   "metadata": {
    "slideshow": {
     "slide_type": "slide"
    }
   },
   "source": [
    "## Interpretación Probabilística\n",
    "\n",
    "Es decir, para maximizar la log-verosimilitud\n",
    "obtenemos igual que para la regresión lineal:\n",
    "\n",
    "$$\\begin{aligned}\n",
    "\\theta^{(n+1)} & = \\theta^{(n)} - \\alpha \\nabla_{\\theta} l(\\theta^{(n)}) \\\\\n",
    "\\frac{\\partial l(\\theta)}{\\partial \\theta_k}\n",
    "&= \\sum_{i=1}^{m} \\left( h_{\\theta}(x^{(i)}) - y^{(i)}\\right) x^{(i)}_k\\end{aligned}$$\n",
    "\n",
    "Aunque, en el caso de regresión logística, se tiene\n",
    "$h_\\theta(x)=1/(1+e^{-x^T\\theta})$\n",
    "\n",
    "OBS: La elección de $\\alpha$ es crucial para la convergencia. En\n",
    "particular, $0.01/m$ funciona bien.\n",
    "\n"
   ]
  },
  {
   "cell_type": "code",
   "execution_count": null,
   "metadata": {
    "collapsed": true,
    "slideshow": {
     "slide_type": "slide"
    }
   },
   "outputs": [],
   "source": [
    "import numpy as np\n",
    "\n",
    "def likelihood_logistic_regression(X, Y, theta0, tol=1E-6):\n",
    "    converged = False\n",
    "    alpha = 0.01/len(Y)\n",
    "    theta = theta0\n",
    "    while not converged:\n",
    "        H = sigmoid(np.dot(X, theta))\n",
    "        gradient = np.dot(X.T, H-Y)\n",
    "        new_theta = theta - alpha * gradient\n",
    "        converged = np.linalg.norm(theta-new_theta) < tol * np.linalg.norm(theta) \n",
    "        theta = new_theta\n",
    "    return theta\n",
    "\n",
    "def sigmoid(z):\n",
    "    return 1./(1+np.exp(-z))"
   ]
  },
  {
   "cell_type": "markdown",
   "metadata": {
    "slideshow": {
     "slide_type": "slide"
    }
   },
   "source": [
    "## Interpretación del resultado\n",
    "\n",
    "* ¿Qué significa el parámetro obtenido $\\theta$?\n",
    "* ¿Cómo relacionamos la pertenencia a una clase (discreto) con la hipótesis $h_{\\theta}(x)$ (continuo)."
   ]
  },
  {
   "cell_type": "markdown",
   "metadata": {
    "slideshow": {
     "slide_type": "slide"
    }
   },
   "source": [
    "## 1. Aplicación a Datos del Challenger\n",
    "\n",
    "Apliquemos lo anterior a los datos que tenemos del Challenger."
   ]
  },
  {
   "cell_type": "code",
   "execution_count": 57,
   "metadata": {
    "collapsed": false
   },
   "outputs": [
    {
     "name": "stdout",
     "output_type": "stream",
     "text": [
      "theta_0 [ 0.70833333  0.03362637]\n",
      "theta_J [-4.47303889  0.26849859]\n",
      "theta_l [-5.2760258   0.30270258]\n"
     ]
    }
   ],
   "source": [
    "# Plot of data\n",
    "data = np.loadtxt(\"data/Challenger.txt\", skiprows=1)\n",
    "x = (data[:,0]-32.)/1.8\n",
    "X = np.array([np.ones(x.shape[0]), x]).T\n",
    "y = np.array(data[:,1]==0,int)\n",
    "theta_0 = y.mean()/X.mean(axis=0)\n",
    "print \"theta_0\", theta_0\n",
    "theta_J = norm2_error_logistic_regression(X, y, theta_0)\n",
    "print \"theta_J\", theta_J\n",
    "theta_l = likelihood_logistic_regression(X, y, theta_0)\n",
    "print \"theta_l\",theta_l"
   ]
  },
  {
   "cell_type": "markdown",
   "metadata": {
    "slideshow": {
     "slide_type": "slide"
    }
   },
   "source": [
    "## 1. Aplicación a Datos del Challenger\n",
    "Visualización de resultados"
   ]
  },
  {
   "cell_type": "code",
   "execution_count": null,
   "metadata": {
    "collapsed": false,
    "slideshow": {
     "slide_type": "-"
    }
   },
   "outputs": [],
   "source": [
    "# Predictions\n",
    "y_pred_J = sigmoid(np.dot(X, theta_J))\n",
    "y_pred_l = sigmoid(np.dot(X, theta_l))\n",
    "# Plot of data\n",
    "plt.figure(figsize=(16,8))\n",
    "plt.plot(x[y==0], y[y==0], 'bo', label=\"Falla\", ms=8)\n",
    "plt.plot(x[y>0], y[y>0], 'rs', label=\"Exito\", ms=8)\n",
    "plt.plot(x, y_pred_J, label=\"Norm 2 error prediction\")\n",
    "plt.plot(x, y_pred_l, label=\"Likelihood prediction\")\n",
    "plt.ylim([-0.1, 1.1])\n",
    "plt.legend(loc=0, numpoints=1)\n",
    "plt.title(\"Exito o Falla en lanzamiento de Challenger\")\n",
    "plt.xlabel(r\"T [${}^o C$]\")\n",
    "plt.ylabel(r\"$y$\")\n",
    "plt.show()"
   ]
  },
  {
   "cell_type": "markdown",
   "metadata": {
    "slideshow": {
     "slide_type": "slide"
    }
   },
   "source": [
    "## 2. Aplicación al Iris Dataset\n",
    "\n",
    "Hay\n",
    "definidas $3$ clases, pero nosotros sólo podemos clasificar en $2$ clases. ¿Qué hacer?"
   ]
  },
  {
   "cell_type": "code",
   "execution_count": null,
   "metadata": {
    "collapsed": false
   },
   "outputs": [],
   "source": [
    "import numpy as np\n",
    "from sklearn import datasets\n",
    "\n",
    "# Loading the data\n",
    "iris = datasets.load_iris()\n",
    "X = iris.data\n",
    "Y = iris.target\n",
    "\n",
    "# Print data and labels\n",
    "for x, y in zip(X,Y):\n",
    "    print x, y"
   ]
  },
  {
   "cell_type": "markdown",
   "metadata": {
    "slideshow": {
     "slide_type": "slide"
    }
   },
   "source": [
    "## 2. Aplicación al Iris Dataset\n",
    "\n",
    "Podemos ***definir*** 2 clases: Iris Setosa y no Iris Setosa.\n",
    "¿Que label le pondremos a cada clase?"
   ]
  },
  {
   "cell_type": "code",
   "execution_count": null,
   "metadata": {
    "collapsed": false
   },
   "outputs": [],
   "source": [
    "import numpy as np\n",
    "from sklearn import datasets\n",
    "\n",
    "# Loading the data\n",
    "iris = datasets.load_iris()\n",
    "names = iris.target_names\n",
    "print names\n",
    "X = iris.data\n",
    "Y = np.array(iris.target==0, int)\n",
    "\n",
    "# Print data and labels\n",
    "for x, y in zip(X,Y):\n",
    "    print x, y"
   ]
  },
  {
   "cell_type": "markdown",
   "metadata": {
    "slideshow": {
     "slide_type": "slide"
    }
   },
   "source": [
    "## 2.  Aplicación al Iris Dataset\n",
    "\n",
    "Para aplicar el algoritmo, utilizando el algoritmo [Logistic Regression](http://scikit-learn.org/stable/modules/linear_model.html#logistic-regression) de la librería sklearn, requerimos un código como el siguiente:"
   ]
  },
  {
   "cell_type": "code",
   "execution_count": null,
   "metadata": {
    "collapsed": false
   },
   "outputs": [],
   "source": [
    "import numpy as np\n",
    "from sklearn import datasets\n",
    "from sklearn.linear_model import LogisticRegression\n",
    "\n",
    "# Loading the data\n",
    "iris = datasets.load_iris()\n",
    "names = iris.target_names\n",
    "X = iris.data\n",
    "Y = np.array(iris.target==0, int)\n",
    "\n",
    "# Fitting the model\n",
    "Logit = LogisticRegression()\n",
    "Logit.fit(X,Y)\n",
    "\n",
    "# Obtain the coefficients\n",
    "print Logit.intercept_, Logit.coef_ \n",
    "\n",
    "# Predicting values\n",
    "Y_pred = Logit.predict(X)"
   ]
  },
  {
   "cell_type": "markdown",
   "metadata": {
    "slideshow": {
     "slide_type": "slide"
    }
   },
   "source": [
    "## 2.  Aplicación al Iris Dataset\n",
    "\n",
    "Podemos visualizar el resultado con una matriz de confusión."
   ]
  },
  {
   "cell_type": "code",
   "execution_count": null,
   "metadata": {
    "collapsed": false
   },
   "outputs": [],
   "source": [
    "from sklearn.metrics import confusion_matrix\n",
    "\n",
    "cm = confusion_matrix(Y, Y_pred)\n",
    "\n",
    "print cm"
   ]
  },
  {
   "cell_type": "markdown",
   "metadata": {
    "slideshow": {
     "slide_type": "fragment"
    }
   },
   "source": [
    "¡Nuestra clasificación es perfecta!"
   ]
  },
  {
   "cell_type": "markdown",
   "metadata": {
    "slideshow": {
     "slide_type": "slide"
    }
   },
   "source": [
    "## Referencias\n",
    "\n",
    "* Jake VanderPlas, ESAC Data Analysis and Statistics Workshop 2014, https://github.com/jakevdp/ESAC-stats-2014\n",
    "* Andrew Ng, Machine Learning CS144, Stanford University."
   ]
  }
 ],
 "metadata": {
  "celltoolbar": "Slideshow",
  "kernelspec": {
   "display_name": "Python 2",
   "language": "python",
   "name": "python2"
  },
  "language_info": {
   "codemirror_mode": {
    "name": "ipython",
    "version": 2
   },
   "file_extension": ".py",
   "mimetype": "text/x-python",
   "name": "python",
   "nbconvert_exporter": "python",
   "pygments_lexer": "ipython2",
   "version": "2.7.6"
  }
 },
 "nbformat": 4,
 "nbformat_minor": 0
}
