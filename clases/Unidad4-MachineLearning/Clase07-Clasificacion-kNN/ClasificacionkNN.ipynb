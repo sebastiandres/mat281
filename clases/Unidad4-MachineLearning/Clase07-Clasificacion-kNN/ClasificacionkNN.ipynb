{
 "cells": [
  {
   "cell_type": "code",
   "execution_count": 86,
   "metadata": {
    "collapsed": false,
    "slideshow": {
     "slide_type": "skip"
    }
   },
   "outputs": [
    {
     "data": {
      "text/html": [
       "<style>\n",
       "\n",
       ".reveal {\n",
       "overflow: visible;\n",
       "}\n",
       "\n",
       "/*********************************************\n",
       " * COLORS FOR EXAMPLES\n",
       " *********************************************/\n",
       "em {font-style: normal !important;\n",
       "    color: #800000;}\n",
       "span.good {color: #008000;}\n",
       "span.warning {color: #808000;}\n",
       "span.bad {color: #800000;}\n",
       "\n",
       "/*********************************************\n",
       " * GLOBAL STYLES\n",
       " *********************************************/\n",
       ".reveal h1 {color: #000000; text-shadow: 0px 0px 6px rgba(0, 0, 0, 0.2);}\n",
       ".reveal h2 {color: #222222; text-shadow: 0px 0px 5px rgba(0, 0, 0, 0.2);}\n",
       ".reveal h3 {color: #444444; text-shadow: 0px 0px 4px rgba(0, 0, 0, 0.2);}\n",
       ".reveal h4 {color: #666666; text-shadow: 0px 0px 3px rgba(0, 0, 0, 0.2);}\n",
       ".reveal h5 {color: #888888; text-shadow: 0px 0px 2px rgba(0, 0, 0, 0.2);}\n",
       ".reveal h6 {color: #AAAAAA; text-shadow: 0px 0px 1px rgba(0, 0, 0, 0.2);}\n",
       "\n",
       "/*********************************************\n",
       " * IMAGES\n",
       " *********************************************/\n",
       ".reveal section img { margin-left:auto; margin-right:auto;}\n",
       "\n",
       "</style>\n"
      ],
      "text/plain": [
       "<IPython.core.display.HTML object>"
      ]
     },
     "execution_count": 86,
     "metadata": {},
     "output_type": "execute_result"
    }
   ],
   "source": [
    "\"\"\"\n",
    "IPython Notebook v4.0 para python 2.7\n",
    "Librerías adicionales: numpy, matplotlib, sklearn\n",
    "Contenido bajo licencia CC-BY 4.0. Código bajo licencia MIT. (c) Sebastian Flores.\n",
    "\"\"\"\n",
    "\n",
    "# Configuracion para recargar módulos y librerías \n",
    "%reload_ext autoreload\n",
    "%autoreload 2\n",
    "\n",
    "%matplotlib inline\n",
    "\n",
    "from IPython.core.display import HTML\n",
    "\n",
    "HTML(open(\"style/mat281.css\", \"r\").read())"
   ]
  },
  {
   "cell_type": "markdown",
   "metadata": {
    "slideshow": {
     "slide_type": "slide"
    }
   },
   "source": [
    "<header class=\"w3-container w3-teal\">\n",
    "<img src=\"images/utfsm.png\" alt=\"\" height=\"100px\" align=\"left\"/>\n",
    "<img src=\"images/mat.png\" alt=\"\" height=\"100px\" align=\"right\"/>\n",
    "</header>\n",
    "<br/><br/><br/><br/><br/>\n",
    "# MAT281\n",
    "## Aplicaciones de la Matemática en la Ingeniería\n",
    "### Sebastián Flores\n",
    "https://www.github.com/usantamaria/mat281"
   ]
  },
  {
   "cell_type": "markdown",
   "metadata": {
    "slideshow": {
     "slide_type": "slide"
    }
   },
   "source": [
    "## Clase anterior\n",
    "\n",
    "***Regresión Logística***\n",
    "* ¿Cómo se llamaba el algoritmo que vimos?\n",
    "* ¿Cuál era la aproximación ingenieril? ¿Machine Learning? ¿Estadística? \n",
    "* ¿Cuándo funcionaba y cuándo fallaba?"
   ]
  },
  {
   "cell_type": "markdown",
   "metadata": {
    "slideshow": {
     "slide_type": "slide"
    }
   },
   "source": [
    "## ¿Qué veremos hoy?\n",
    "Clasificación con k-Nearest Neighbors (kNN)."
   ]
  },
  {
   "cell_type": "markdown",
   "metadata": {
    "slideshow": {
     "slide_type": "slide"
    }
   },
   "source": [
    "## ¿Porqué veremos ese contenido?\n",
    "\n",
    "Clasificación con k-Nearest Neighbors (kNN).\n",
    "\n",
    "* Porque clasificación en múltiples categorías es un problema muy común.\n",
    "* kNN es el algoritmo más simple que permite clasificar en múltiples categorías y utiliza la noción de distancia/similaridad."
   ]
  },
  {
   "cell_type": "markdown",
   "metadata": {
    "slideshow": {
     "slide_type": "slide"
    }
   },
   "source": [
    "## kNN\n",
    "\n",
    "Algoritmo **k Nearest Neighbors** es un método no paramétrico: una vez que $k$ se ha fijado, no se busca obtener ningún parámetro.\n",
    "\n",
    "Sean los puntos $x^{(i)} = (x^{(i)}_1, ..., x^{(i)}_n)$  de etiqueta $y^{(i)}$ conocida, para $i=1, ..., m$.\n",
    "\n",
    "El problema de clasificación consiste en encontrar la etiqueta de un nuevo punto $x=(x_1, ..., x_m)$ para el cual no conocemos la etiqueta."
   ]
  },
  {
   "cell_type": "markdown",
   "metadata": {
    "slideshow": {
     "slide_type": "slide"
    }
   },
   "source": [
    "## kNN\n",
    "\n",
    "* Para $k=1$, **1NN** asigna a $x$ la etiqueta de su vecino más cercano. \n",
    "* Para $k$ genérico, **kNN** asigna a $x$ la etiqueta más popular de los k vecinos más cercanos. \n",
    "\n",
    "\n",
    "El modelo subyacente a kNN es el conjunto de entrenamiento completo. Cuando se necesita realizar una predicción, el algoritmo mira **todos** los datos y selecciona los k datos más similares, para regresar la etiqueta más popular. Los datos no se resumen en un parámetro, como en regresión logística, sino que siempre deben mantenerse en memoria."
   ]
  },
  {
   "cell_type": "markdown",
   "metadata": {
    "slideshow": {
     "slide_type": "slide"
    }
   },
   "source": [
    "<img src=\"images/1.png\" alt=\"\" width=\"600px\" align=\"middle\"/>"
   ]
  },
  {
   "cell_type": "markdown",
   "metadata": {
    "slideshow": {
     "slide_type": "slide"
    }
   },
   "source": [
    "<img src=\"images/2.png\" alt=\"\" width=\"600px\" align=\"middle\"/>"
   ]
  },
  {
   "cell_type": "markdown",
   "metadata": {
    "slideshow": {
     "slide_type": "slide"
    }
   },
   "source": [
    "<img src=\"images/3a.png\" alt=\"\" width=\"600px\" align=\"middle\"/>"
   ]
  },
  {
   "cell_type": "markdown",
   "metadata": {
    "slideshow": {
     "slide_type": "slide"
    }
   },
   "source": [
    "<img src=\"images/3b.png\" alt=\"\" width=\"600px\" align=\"middle\"/>"
   ]
  },
  {
   "cell_type": "markdown",
   "metadata": {
    "slideshow": {
     "slide_type": "slide"
    }
   },
   "source": [
    "<img src=\"images/5a.png\" alt=\"\" width=\"600px\" align=\"middle\"/>"
   ]
  },
  {
   "cell_type": "markdown",
   "metadata": {
    "slideshow": {
     "slide_type": "slide"
    }
   },
   "source": [
    "<img src=\"images/5b.png\" alt=\"\" width=\"600px\" align=\"middle\"/>"
   ]
  },
  {
   "cell_type": "markdown",
   "metadata": {
    "slideshow": {
     "slide_type": "slide"
    }
   },
   "source": [
    "## kNN\n",
    "\n",
    "En caso de empate, existen diversas maneras de desempatar:\n",
    "* Elegir la etiqueta del vecino más cercano (problema: no garantiza solución).\n",
    "* Elegir la etiqueta de menor valor (problema: arbitrario).\n",
    "* Elegir la etiqueta que se obtendría con $k+1$ o $k-1$ (problema: no garantiza solución, aumenta tiempo de cálculo)."
   ]
  },
  {
   "cell_type": "markdown",
   "metadata": {
    "slideshow": {
     "slide_type": "slide"
    }
   },
   "source": [
    "#### kNN\n",
    "### Medida de similaridad\n",
    "¿Cómo medimos la cercanía o similaridad entre los datos?\n",
    "\n",
    "Depende del tipo de datos. \n",
    "\n",
    "* Para datos reales, puede utilizarse cualquier distancia, siendo la distancia euclidiana la más utilizada. También es posible ponderar unas componentes más que otras. Resulta conveniente normalizar para poder utilizar la noción de distancia más naturalmente.\n",
    "\n",
    "* Para datos categóricos o binarios, suele utilizarse la distancia de Hamming."
   ]
  },
  {
   "cell_type": "markdown",
   "metadata": {
    "slideshow": {
     "slide_type": "slide"
    }
   },
   "source": [
    "#### kNN\n",
    "### Medida de similaridad\n",
    "La distancia de Hamming entre 2 strings consiste en el número de posiciones en los cuales los strings son distintos."
   ]
  },
  {
   "cell_type": "code",
   "execution_count": 3,
   "metadata": {
    "collapsed": false
   },
   "outputs": [
    {
     "name": "stdout",
     "output_type": "stream",
     "text": [
      "No comparable\n",
      "None\n",
      "0\n",
      "0\n"
     ]
    }
   ],
   "source": [
    "def hamming(s1, s2):\n",
    "    # Caso no comparable\n",
    "    if len(s1)!=len(s2):\n",
    "        print(\"No comparable\")\n",
    "        return None\n",
    "    h = 0\n",
    "    # Caso comparable\n",
    "    # FIX ME\n",
    "    return h\n",
    "\n",
    "print hamming(\"cara\", \"c\") \n",
    "print hamming(\"cara\", \"casa\") \n",
    "print hamming(\"cera\", \"cese\")"
   ]
  },
  {
   "cell_type": "markdown",
   "metadata": {
    "slideshow": {
     "slide_type": "slide"
    }
   },
   "source": [
    "#### 1. kNN\n",
    "## Implementación de kNN en python y numpy\n",
    "\n",
    "Es posible realizar la siguiente implementación en python y numpy"
   ]
  },
  {
   "cell_type": "code",
   "execution_count": 123,
   "metadata": {
    "collapsed": true
   },
   "outputs": [],
   "source": [
    "import numpy as np\n",
    "\n",
    "def knn_search(X, k, x):\n",
    "    \"\"\" find K nearest neighbours of data among D \"\"\"\n",
    "    # Distancia euclidiana\n",
    "    d = np.sqrt(((X - x[:,:k])**2).sum(axis=0))\n",
    "    # Ordenar por cercania\n",
    "    idx = np.argsort(d)\n",
    "    # Regresar los k mas cercanos\n",
    "    return idx[:k]\n",
    "\n",
    "def knn(X,Y,k,x):\n",
    "    # Obtener los k mas cercanos\n",
    "    k_closest = knn_search(X, k, x)\n",
    "    # Obtener las etiquetas\n",
    "    Y_closest = Y[k_closest]\n",
    "    # Obtener la mas popular\n",
    "    counts = np.bincount(Y_closest)\n",
    "    # Regresar la mas popular (cualquiera, si hay empate)\n",
    "    return np.argmax(counts)"
   ]
  },
  {
   "cell_type": "markdown",
   "metadata": {
    "slideshow": {
     "slide_type": "slide"
    }
   },
   "source": [
    "#### 1. kNN\n",
    "## Visualización"
   ]
  },
  {
   "cell_type": "code",
   "execution_count": 124,
   "metadata": {
    "collapsed": false
   },
   "outputs": [
    {
     "name": "stdout",
     "output_type": "stream",
     "text": [
      "etiqueta= 1\n"
     ]
    },
    {
     "data": {
      "image/png": "[encoded data removed]",
      "text/plain": [
       "<matplotlib.figure.Figure at 0x7fc5ae023290>"
      ]
     },
     "metadata": {},
     "output_type": "display_data"
    }
   ],
   "source": [
    "import numpy as np\n",
    "from matplotlib import pyplot as plt\n",
    "\n",
    "X = np.random.rand(2,100) # random dataset\n",
    "Y = np.array(np.random.rand(100)<0.8, dtype=int) # random dataset\n",
    "x = np.random.rand(2,1) # query point\n",
    "\n",
    "# performing the search\n",
    "k = 10\n",
    "neig_idx = knn_search(X, k, x)\n",
    "y = knn(X, Y, k, x)\n",
    "print \"etiqueta=\", y\n",
    "\n",
    "# plotting the data and the input point\n",
    "fig = plt.figure(figsize=(16,8))\n",
    "plt.plot(X[0,:][Y==0],X[1,:][Y==0],'ob', ms=8)\n",
    "plt.plot(X[0,:][Y==1],X[1,:][Y==1],'sr', ms=8)\n",
    "plt.plot(x[0,0],x[1,0],'ok', ms=16)\n",
    "\n",
    "# highlighting the neighbours\n",
    "plt.plot(X[0,neig_idx], X[1,neig_idx], 'o', markerfacecolor='None', markersize=24, markeredgewidth=1)\n",
    "plt.show()"
   ]
  },
  {
   "cell_type": "markdown",
   "metadata": {
    "slideshow": {
     "slide_type": "slide"
    }
   },
   "source": [
    "## 2. Aplicación al Iris Dataset\n",
    "\n",
    "Aplicaremos $kNN$ en las $3$ clases conocidas. \n",
    "\n",
    "<img src=\"images/iris_petal_sepal.png\" alt=\"\" width=\"300px\" align=\"middle\"/>\n",
    "\n",
    "\n",
    "¿Qué valor de $k$ es razonable tomar?"
   ]
  },
  {
   "cell_type": "code",
   "execution_count": 20,
   "metadata": {
    "collapsed": false
   },
   "outputs": [
    {
     "name": "stdout",
     "output_type": "stream",
     "text": [
      "['setosa' 'versicolor' 'virginica']\n",
      "[ 5.1  3.5  1.4  0.2] 0\n",
      "[ 4.9  3.   1.4  0.2] 0\n",
      "[ 4.7  3.2  1.3  0.2] 0\n",
      "[ 4.6  3.1  1.5  0.2] 0\n",
      "[ 5.   3.6  1.4  0.2] 0\n",
      "[ 5.4  3.9  1.7  0.4] 0\n",
      "[ 4.6  3.4  1.4  0.3] 0\n",
      "[ 5.   3.4  1.5  0.2] 0\n",
      "[ 4.4  2.9  1.4  0.2] 0\n",
      "[ 4.9  3.1  1.5  0.1] 0\n",
      "[ 5.4  3.7  1.5  0.2] 0\n",
      "[ 4.8  3.4  1.6  0.2] 0\n",
      "[ 4.8  3.   1.4  0.1] 0\n",
      "[ 4.3  3.   1.1  0.1] 0\n",
      "[ 5.8  4.   1.2  0.2] 0\n",
      "[ 5.7  4.4  1.5  0.4] 0\n",
      "[ 5.4  3.9  1.3  0.4] 0\n",
      "[ 5.1  3.5  1.4  0.3] 0\n",
      "[ 5.7  3.8  1.7  0.3] 0\n",
      "[ 5.1  3.8  1.5  0.3] 0\n",
      "[ 5.4  3.4  1.7  0.2] 0\n",
      "[ 5.1  3.7  1.5  0.4] 0\n",
      "[ 4.6  3.6  1.   0.2] 0\n",
      "[ 5.1  3.3  1.7  0.5] 0\n",
      "[ 4.8  3.4  1.9  0.2] 0\n",
      "[ 5.   3.   1.6  0.2] 0\n",
      "[ 5.   3.4  1.6  0.4] 0\n",
      "[ 5.2  3.5  1.5  0.2] 0\n",
      "[ 5.2  3.4  1.4  0.2] 0\n",
      "[ 4.7  3.2  1.6  0.2] 0\n",
      "[ 4.8  3.1  1.6  0.2] 0\n",
      "[ 5.4  3.4  1.5  0.4] 0\n",
      "[ 5.2  4.1  1.5  0.1] 0\n",
      "[ 5.5  4.2  1.4  0.2] 0\n",
      "[ 4.9  3.1  1.5  0.1] 0\n",
      "[ 5.   3.2  1.2  0.2] 0\n",
      "[ 5.5  3.5  1.3  0.2] 0\n",
      "[ 4.9  3.1  1.5  0.1] 0\n",
      "[ 4.4  3.   1.3  0.2] 0\n",
      "[ 5.1  3.4  1.5  0.2] 0\n",
      "[ 5.   3.5  1.3  0.3] 0\n",
      "[ 4.5  2.3  1.3  0.3] 0\n",
      "[ 4.4  3.2  1.3  0.2] 0\n",
      "[ 5.   3.5  1.6  0.6] 0\n",
      "[ 5.1  3.8  1.9  0.4] 0\n",
      "[ 4.8  3.   1.4  0.3] 0\n",
      "[ 5.1  3.8  1.6  0.2] 0\n",
      "[ 4.6  3.2  1.4  0.2] 0\n",
      "[ 5.3  3.7  1.5  0.2] 0\n",
      "[ 5.   3.3  1.4  0.2] 0\n",
      "[ 7.   3.2  4.7  1.4] 1\n",
      "[ 6.4  3.2  4.5  1.5] 1\n",
      "[ 6.9  3.1  4.9  1.5] 1\n",
      "[ 5.5  2.3  4.   1.3] 1\n",
      "[ 6.5  2.8  4.6  1.5] 1\n",
      "[ 5.7  2.8  4.5  1.3] 1\n",
      "[ 6.3  3.3  4.7  1.6] 1\n",
      "[ 4.9  2.4  3.3  1. ] 1\n",
      "[ 6.6  2.9  4.6  1.3] 1\n",
      "[ 5.2  2.7  3.9  1.4] 1\n",
      "[ 5.   2.   3.5  1. ] 1\n",
      "[ 5.9  3.   4.2  1.5] 1\n",
      "[ 6.   2.2  4.   1. ] 1\n",
      "[ 6.1  2.9  4.7  1.4] 1\n",
      "[ 5.6  2.9  3.6  1.3] 1\n",
      "[ 6.7  3.1  4.4  1.4] 1\n",
      "[ 5.6  3.   4.5  1.5] 1\n",
      "[ 5.8  2.7  4.1  1. ] 1\n",
      "[ 6.2  2.2  4.5  1.5] 1\n",
      "[ 5.6  2.5  3.9  1.1] 1\n",
      "[ 5.9  3.2  4.8  1.8] 1\n",
      "[ 6.1  2.8  4.   1.3] 1\n",
      "[ 6.3  2.5  4.9  1.5] 1\n",
      "[ 6.1  2.8  4.7  1.2] 1\n",
      "[ 6.4  2.9  4.3  1.3] 1\n",
      "[ 6.6  3.   4.4  1.4] 1\n",
      "[ 6.8  2.8  4.8  1.4] 1\n",
      "[ 6.7  3.   5.   1.7] 1\n",
      "[ 6.   2.9  4.5  1.5] 1\n",
      "[ 5.7  2.6  3.5  1. ] 1\n",
      "[ 5.5  2.4  3.8  1.1] 1\n",
      "[ 5.5  2.4  3.7  1. ] 1\n",
      "[ 5.8  2.7  3.9  1.2] 1\n",
      "[ 6.   2.7  5.1  1.6] 1\n",
      "[ 5.4  3.   4.5  1.5] 1\n",
      "[ 6.   3.4  4.5  1.6] 1\n",
      "[ 6.7  3.1  4.7  1.5] 1\n",
      "[ 6.3  2.3  4.4  1.3] 1\n",
      "[ 5.6  3.   4.1  1.3] 1\n",
      "[ 5.5  2.5  4.   1.3] 1\n",
      "[ 5.5  2.6  4.4  1.2] 1\n",
      "[ 6.1  3.   4.6  1.4] 1\n",
      "[ 5.8  2.6  4.   1.2] 1\n",
      "[ 5.   2.3  3.3  1. ] 1\n",
      "[ 5.6  2.7  4.2  1.3] 1\n",
      "[ 5.7  3.   4.2  1.2] 1\n",
      "[ 5.7  2.9  4.2  1.3] 1\n",
      "[ 6.2  2.9  4.3  1.3] 1\n",
      "[ 5.1  2.5  3.   1.1] 1\n",
      "[ 5.7  2.8  4.1  1.3] 1\n",
      "[ 6.3  3.3  6.   2.5] 2\n",
      "[ 5.8  2.7  5.1  1.9] 2\n",
      "[ 7.1  3.   5.9  2.1] 2\n",
      "[ 6.3  2.9  5.6  1.8] 2\n",
      "[ 6.5  3.   5.8  2.2] 2\n",
      "[ 7.6  3.   6.6  2.1] 2\n",
      "[ 4.9  2.5  4.5  1.7] 2\n",
      "[ 7.3  2.9  6.3  1.8] 2\n",
      "[ 6.7  2.5  5.8  1.8] 2\n",
      "[ 7.2  3.6  6.1  2.5] 2\n",
      "[ 6.5  3.2  5.1  2. ] 2\n",
      "[ 6.4  2.7  5.3  1.9] 2\n",
      "[ 6.8  3.   5.5  2.1] 2\n",
      "[ 5.7  2.5  5.   2. ] 2\n",
      "[ 5.8  2.8  5.1  2.4] 2\n",
      "[ 6.4  3.2  5.3  2.3] 2\n",
      "[ 6.5  3.   5.5  1.8] 2\n",
      "[ 7.7  3.8  6.7  2.2] 2\n",
      "[ 7.7  2.6  6.9  2.3] 2\n",
      "[ 6.   2.2  5.   1.5] 2\n",
      "[ 6.9  3.2  5.7  2.3] 2\n",
      "[ 5.6  2.8  4.9  2. ] 2\n",
      "[ 7.7  2.8  6.7  2. ] 2\n",
      "[ 6.3  2.7  4.9  1.8] 2\n",
      "[ 6.7  3.3  5.7  2.1] 2\n",
      "[ 7.2  3.2  6.   1.8] 2\n",
      "[ 6.2  2.8  4.8  1.8] 2\n",
      "[ 6.1  3.   4.9  1.8] 2\n",
      "[ 6.4  2.8  5.6  2.1] 2\n",
      "[ 7.2  3.   5.8  1.6] 2\n",
      "[ 7.4  2.8  6.1  1.9] 2\n",
      "[ 7.9  3.8  6.4  2. ] 2\n",
      "[ 6.4  2.8  5.6  2.2] 2\n",
      "[ 6.3  2.8  5.1  1.5] 2\n",
      "[ 6.1  2.6  5.6  1.4] 2\n",
      "[ 7.7  3.   6.1  2.3] 2\n",
      "[ 6.3  3.4  5.6  2.4] 2\n",
      "[ 6.4  3.1  5.5  1.8] 2\n",
      "[ 6.   3.   4.8  1.8] 2\n",
      "[ 6.9  3.1  5.4  2.1] 2\n",
      "[ 6.7  3.1  5.6  2.4] 2\n",
      "[ 6.9  3.1  5.1  2.3] 2\n",
      "[ 5.8  2.7  5.1  1.9] 2\n",
      "[ 6.8  3.2  5.9  2.3] 2\n",
      "[ 6.7  3.3  5.7  2.5] 2\n",
      "[ 6.7  3.   5.2  2.3] 2\n",
      "[ 6.3  2.5  5.   1.9] 2\n",
      "[ 6.5  3.   5.2  2. ] 2\n",
      "[ 6.2  3.4  5.4  2.3] 2\n",
      "[ 5.9  3.   5.1  1.8] 2\n"
     ]
    }
   ],
   "source": [
    "import numpy as np\n",
    "from sklearn import datasets\n",
    "\n",
    "# Loading the data\n",
    "iris = datasets.load_iris()\n",
    "X = iris.data\n",
    "Y = iris.target\n",
    "print iris.target_names\n",
    "\n",
    "# Print data and labels\n",
    "for x, y in zip(X,Y):\n",
    "    print x, y"
   ]
  },
  {
   "cell_type": "markdown",
   "metadata": {
    "slideshow": {
     "slide_type": "slide"
    }
   },
   "source": [
    "## 2.  Aplicación al Iris Dataset\n",
    "\n",
    "Para aplicar el k Nearest Neighbors, utilizando el algoritmo [kNN](http://scikit-learn.org/stable/modules/generated/sklearn.neighbors.KNeighborsClassifier.html) de la librería sklearn, requerimos un código como el siguiente:"
   ]
  },
  {
   "cell_type": "code",
   "execution_count": 68,
   "metadata": {
    "collapsed": false
   },
   "outputs": [
    {
     "name": "stdout",
     "output_type": "stream",
     "text": [
      "0 errores de clasificación de un total de 150\n",
      "[[50  0  0]\n",
      " [ 0 50  0]\n",
      " [ 0  0 50]]\n"
     ]
    }
   ],
   "source": [
    "import numpy as np\n",
    "from sklearn import datasets\n",
    "from sklearn.neighbors import KNeighborsClassifier\n",
    "from sklearn.metrics import confusion_matrix\n",
    "\n",
    "# Meta parameter\n",
    "k = 1\n",
    "\n",
    "# Loading the data\n",
    "iris = datasets.load_iris()\n",
    "names = iris.target_names\n",
    "X = iris.data\n",
    "Y = np.array(iris.target, int)\n",
    "\n",
    "# Fitting the model\n",
    "kNN = KNeighborsClassifier(k)\n",
    "kNN.fit(X,Y)\n",
    "\n",
    "# No coefficients to print!\n",
    "\n",
    "# Predicting values\n",
    "Y_pred = kNN.predict(X)\n",
    "\n",
    "# Count the errors\n",
    "print \"{0} errores de clasificación de un total de {1}\".format(sum(Y!=Y_pred), len(Y))\n",
    "\n",
    "# Matriz de confusion\n",
    "print confusion_matrix(Y, Y_pred)"
   ]
  },
  {
   "cell_type": "markdown",
   "metadata": {
    "slideshow": {
     "slide_type": "slide"
    }
   },
   "source": [
    "## 2.  Aplicación al Iris Dataset\n",
    "\n",
    "¡Wow! ¡El método es perfecto para k=1!\n",
    "\n",
    "¿o no?\n",
    "\n",
    "kNN por construcción asigna la etiqueta del vecino más cercano, por lo que el error de entrenamiento para k=1 siempre será 0."
   ]
  },
  {
   "cell_type": "markdown",
   "metadata": {
    "slideshow": {
     "slide_type": "slide"
    }
   },
   "source": [
    "## 2.  Aplicación al Iris Dataset\n",
    "\n",
    "Para aplicar el k Nearest Neighbors, utilizando el algoritmo [kNN](http://scikit-learn.org/stable/modules/generated/sklearn.neighbors.KNeighborsClassifier.html) de la librería sklearn, requerimos utilizar un **Holdout SET** para evaluar el error de predicción:"
   ]
  },
  {
   "cell_type": "code",
   "execution_count": 76,
   "metadata": {
    "collapsed": false
   },
   "outputs": [
    {
     "name": "stdout",
     "output_type": "stream",
     "text": [
      "(90, 4) (60, 4)\n",
      "4 errores de clasificación de un total de 60\n",
      "[[18  0  0]\n",
      " [ 0 19  3]\n",
      " [ 0  1 19]]\n"
     ]
    }
   ],
   "source": [
    "import numpy as np\n",
    "from sklearn import datasets\n",
    "from sklearn.neighbors import KNeighborsClassifier\n",
    "from sklearn.metrics import confusion_matrix\n",
    "\n",
    "# Meta parameter\n",
    "k = 1\n",
    "\n",
    "# Loading the data\n",
    "iris = datasets.load_iris()\n",
    "names = iris.target_names\n",
    "X = iris.data\n",
    "Y = np.array(iris.target, int)\n",
    "\n",
    "# Holdout Set\n",
    "X_train, X_test, Y_train, Y_test = train_test_split(X, Y, train_size=0.6)\n",
    "print X_train.shape, X_test.shape\n",
    "\n",
    "# Fitting the model\n",
    "kNN = KNeighborsClassifier(n_neighbors=k)\n",
    "kNN.fit(X_train, Y_train)\n",
    "\n",
    "# No coefficients to print!\n",
    "\n",
    "# Predicting values\n",
    "Y_test_pred = kNN.predict(X_test)\n",
    "\n",
    "# Count the errors\n",
    "n_errors = sum(Y_test!=Y_test_pred)\n",
    "print \"{0} errores de clasificación de un total de {1}\".format(n_errors, len(Y_test))\n",
    "\n",
    "# Matriz de confusion\n",
    "print confusion_matrix(Y_test, Y_test_pred)\n"
   ]
  },
  {
   "cell_type": "markdown",
   "metadata": {
    "slideshow": {
     "slide_type": "slide"
    }
   },
   "source": [
    "## 2. Aplicación al Iris Dataset\n",
    "\n",
    "Debido al problema del overfitting, para seleccionar $k$ estamos obligados a utilizar un holdout set. \n",
    "\n",
    "De hecho, debemos utilizar 3 conjuntos de datos:\n",
    "* Conjunto de Entrenamiento (Training Dataset).\n",
    "* Conjunto de Validación (Validation Dataset).\n",
    "* Conjunto de Testeo (Testing Dataset)."
   ]
  },
  {
   "cell_type": "markdown",
   "metadata": {
    "slideshow": {
     "slide_type": "slide"
    }
   },
   "source": [
    "## 2. Aplicación al Iris Dataset\n",
    "\n",
    "* **Training set**: Conjunto de ejemplos utililizados para \"aprender\": ajustar los parámetros de un modelo elegido.\n",
    "\n",
    "* **Validation set**: Conjunto de ejemplos utilizado para afinar los metaparámetros de un clasificador. En kNN, por ejemplo, para saber que valor de $k$ tomar.\n",
    "\n",
    "* **Test set**: conjunto de ejemplos completamente nuevo, y que se utiliza para conocer el error de predicción de un modelo completamente entrenado. "
   ]
  },
  {
   "cell_type": "markdown",
   "metadata": {
    "slideshow": {
     "slide_type": "slide"
    }
   },
   "source": [
    "## 2. Aplicación al Iris Dataset\n",
    "¿Porqué es necesario separar test y validación? Porque no queremos que el error de predicción contenga sesgo de ningún tipo."
   ]
  },
  {
   "cell_type": "code",
   "execution_count": 9,
   "metadata": {
    "collapsed": false
   },
   "outputs": [
    {
     "name": "stdout",
     "output_type": "stream",
     "text": [
      "(90, 4)\n",
      "(30, 4)\n",
      "(30, 4)\n"
     ]
    }
   ],
   "source": [
    "from sklearn.cross_validation import train_test_split\n",
    "from sklearn import datasets\n",
    "import numpy as np\n",
    "\n",
    "# Loading the data\n",
    "iris = datasets.load_iris()\n",
    "names = iris.target_names\n",
    "\n",
    "X = iris.data\n",
    "Y = np.array(iris.target, int)\n",
    "\n",
    "# Splitting the data\n",
    "X_train, X_aux, Y_train, Y_aux = train_test_split(X, Y, train_size=0.6)\n",
    "X_valid, X_test, Y_valid, Y_test = train_test_split(X_aux, Y_aux, test_size=0.5)\n",
    "print X_train.shape\n",
    "print X_valid.shape\n",
    "print X_test.shape"
   ]
  },
  {
   "cell_type": "markdown",
   "metadata": {
    "slideshow": {
     "slide_type": "slide"
    }
   },
   "source": [
    "## 2.  Aplicación al Iris Dataset\n",
    "\n",
    "Para aplicar el k Nearest Neighbors, con conjuntos de entrenamiento, validación y testeo, y utilizando el algoritmo [kNN](http://scikit-learn.org/stable/modules/generated/sklearn.neighbors.KNeighborsClassifier.html) de la librería sklearn, requerimos un código como el siguiente:"
   ]
  },
  {
   "cell_type": "code",
   "execution_count": 152,
   "metadata": {
    "collapsed": false
   },
   "outputs": [
    {
     "name": "stdout",
     "output_type": "stream",
     "text": [
      "k=1: 21 errores de clasificación de un total de 30\n",
      "k=2: 18 errores de clasificación de un total de 30\n",
      "k=3: 19 errores de clasificación de un total de 30\n",
      "k=4: 18 errores de clasificación de un total de 30\n",
      "k=5: 19 errores de clasificación de un total de 30\n",
      "k=6: 19 errores de clasificación de un total de 30\n",
      "k=7: 21 errores de clasificación de un total de 30\n",
      "k=8: 19 errores de clasificación de un total de 30\n",
      "k=9: 18 errores de clasificación de un total de 30\n",
      "k=10: 20 errores de clasificación de un total de 30\n",
      "k=11: 22 errores de clasificación de un total de 30\n",
      "k=12: 22 errores de clasificación de un total de 30\n",
      "k=13: 21 errores de clasificación de un total de 30\n",
      "k=14: 22 errores de clasificación de un total de 30\n",
      "k=15: 26 errores de clasificación de un total de 30\n",
      "k=16: 24 errores de clasificación de un total de 30\n",
      "k=17: 25 errores de clasificación de un total de 30\n",
      "k=18: 25 errores de clasificación de un total de 30\n",
      "k=19: 26 errores de clasificación de un total de 30\n",
      "k=20: 26 errores de clasificación de un total de 30\n"
     ]
    }
   ],
   "source": [
    "import numpy as np\n",
    "from sklearn import datasets\n",
    "from sklearn.neighbors import KNeighborsClassifier\n",
    "\n",
    "# Loading the data\n",
    "iris = datasets.load_iris()\n",
    "names = iris.target_names\n",
    "X = iris.data\n",
    "Y = np.array(iris.target, int)\n",
    "\n",
    "# Holdout Set\n",
    "X_aux, X_aux, Y_train, Y_aux = train_test_split(X, Y, train_size=0.6)\n",
    "X_valid, X_test, Y_valid, Y_test = train_test_split(X_aux, Y_aux, test_size=0.5)\n",
    "\n",
    "template = \"k={0}: {1} errores de clasificación de un total de {2}\"\n",
    "# Fitting the model\n",
    "for k in range(1,21):\n",
    "    kNN = KNeighborsClassifier(n_neighbors=k)\n",
    "    kNN.fit(X_train, Y_train)\n",
    "\n",
    "    # Predicting values\n",
    "    Y_test_pred = kNN.predict(X_test)\n",
    "\n",
    "    # Count the errors\n",
    "    n_errors = sum(Y_test!=Y_test_pred)\n",
    "    print template.format(k, n_errors, len(Y_test))"
   ]
  },
  {
   "cell_type": "markdown",
   "metadata": {
    "slideshow": {
     "slide_type": "slide"
    }
   },
   "source": [
    "## 2.  Aplicación al Iris Dataset\n",
    "\n",
    "Para aplicar el k Nearest Neighbors, con conjuntos de entrenamiento, validación y testeo, y utilizando el algoritmo [kNN](http://scikit-learn.org/stable/modules/generated/sklearn.neighbors.KNeighborsClassifier.html) de la librería sklearn, requerimos un código como el siguiente:"
   ]
  },
  {
   "cell_type": "code",
   "execution_count": 173,
   "metadata": {
    "collapsed": false
   },
   "outputs": [
    {
     "name": "stdout",
     "output_type": "stream",
     "text": [
      "k=1: 1.39 errores de clasificación de un total de 30\n",
      "k=2: 1.679 errores de clasificación de un total de 30\n",
      "k=3: 1.125 errores de clasificación de un total de 30\n",
      "k=4: 1.32 errores de clasificación de un total de 30\n",
      "k=5: 1.022 errores de clasificación de un total de 30\n",
      "k=6: 1.23 errores de clasificación de un total de 30\n",
      "k=7: 1.152 errores de clasificación de un total de 30\n",
      "k=8: 1.3 errores de clasificación de un total de 30\n",
      "k=9: 1.146 errores de clasificación de un total de 30\n",
      "k=10: 1.326 errores de clasificación de un total de 30\n",
      "k=11: 1.099 errores de clasificación de un total de 30\n",
      "k=12: 1.336 errores de clasificación de un total de 30\n",
      "k=13: 1.184 errores de clasificación de un total de 30\n",
      "k=14: 1.525 errores de clasificación de un total de 30\n",
      "k=15: 1.442 errores de clasificación de un total de 30\n",
      "k=16: 1.737 errores de clasificación de un total de 30\n",
      "k=17: 1.672 errores de clasificación de un total de 30\n",
      "k=18: 1.855 errores de clasificación de un total de 30\n",
      "k=19: 1.864 errores de clasificación de un total de 30\n",
      "k=20: 1.864 errores de clasificación de un total de 30\n"
     ]
    }
   ],
   "source": [
    "import numpy as np\n",
    "from sklearn import datasets\n",
    "from sklearn.neighbors import KNeighborsClassifier\n",
    "\n",
    "# Loading the data\n",
    "iris = datasets.load_iris()\n",
    "names = iris.target_names\n",
    "X = iris.data\n",
    "Y = np.array(iris.target, int)\n",
    "\n",
    "# Holdout Set\n",
    "X_tt, X_valid, Y_tt, Y_valid = train_test_split(X, Y, train_size=0.8)\n",
    "\n",
    "template = \"k={0}: {1} errores de clasificación de un total de {2}\"\n",
    "# Fitting the model\n",
    "mean_error_for_k = []\n",
    "for k in range(1,21):\n",
    "    errors_k = []\n",
    "    for i in range(1000):\n",
    "        kNN = KNeighborsClassifier(n_neighbors=k)\n",
    "        X_train, X_test, Y_train, Y_test = train_test_split(X_tt, Y_tt, train_size=0.75)\n",
    "        kNN.fit(X_train, Y_train)\n",
    "        # Predicting values\n",
    "        Y_test_pred = kNN.predict(X_test)\n",
    "        # Count the errors\n",
    "        n_errors = sum(Y_test!=Y_test_pred)\n",
    "        # Add them to vector\n",
    "        errors_k.append(n_errors)\n",
    "    errors = np.array(errors_k).mean()\n",
    "    print template.format(k, errors, len(Y_test))\n",
    "    mean_error_for_k.append(errors)"
   ]
  },
  {
   "cell_type": "code",
   "execution_count": 174,
   "metadata": {
    "collapsed": false,
    "slideshow": {
     "slide_type": "slide"
    }
   },
   "outputs": [
    {
     "data": {
      "image/png": "[encoded data removed]",
      "text/plain": [
       "<matplotlib.figure.Figure at 0x7fc5b4251650>"
      ]
     },
     "metadata": {},
     "output_type": "display_data"
    }
   ],
   "source": [
    "from matplotlib import pyplot as plt\n",
    "\n",
    "plt.figure(figsize=(16,8))\n",
    "plt.plot(range(1,21), mean_error_for_k, '-ok')\n",
    "plt.xlabel(\"k\")\n",
    "plt.ylabel(\"Errores de clasificacion\")\n",
    "plt.show()"
   ]
  },
  {
   "cell_type": "markdown",
   "metadata": {
    "slideshow": {
     "slide_type": "slide"
    }
   },
   "source": [
    "## 2.  Aplicación al Iris Dataset\n",
    "\n",
    "Debido a lo anterior, resulta razonable considerar $k=5$, con un error de predicción de $1/30$, es decir, de aproximadamente $0.0333$."
   ]
  },
  {
   "cell_type": "code",
   "execution_count": 197,
   "metadata": {
    "collapsed": false
   },
   "outputs": [
    {
     "name": "stdout",
     "output_type": "stream",
     "text": [
      "(90, 4) (60, 4)\n",
      "3 errores de clasificación de un total de 60\n",
      "0.05\n",
      "[[21  0  0]\n",
      " [ 0 18  1]\n",
      " [ 0  2 18]]\n"
     ]
    }
   ],
   "source": [
    "import numpy as np\n",
    "from sklearn import datasets\n",
    "from sklearn.neighbors import KNeighborsClassifier\n",
    "from sklearn.metrics import confusion_matrix\n",
    "\n",
    "# Meta parameter\n",
    "k = 5\n",
    "\n",
    "# Loading the data\n",
    "iris = datasets.load_iris()\n",
    "names = iris.target_names\n",
    "X = iris.data\n",
    "Y = np.array(iris.target, int)\n",
    "\n",
    "# Holdout Set\n",
    "X_train, X_test, Y_train, Y_test = train_test_split(X, Y, train_size=0.6)\n",
    "print X_train.shape, X_test.shape\n",
    "\n",
    "# Fitting the model\n",
    "kNN = KNeighborsClassifier(n_neighbors=k)\n",
    "kNN.fit(X_train, Y_train)\n",
    "\n",
    "# No coefficients to print!\n",
    "\n",
    "# Predicting values\n",
    "Y_test_pred = kNN.predict(X_test)\n",
    "\n",
    "# Count the errors\n",
    "n_errors = sum(Y_test!=Y_test_pred)\n",
    "print \"{0} errores de clasificación de un total de {1}\".format(n_errors, len(Y_test))\n",
    "print n_errors/float(len(Y_test))\n",
    "\n",
    "# Matriz de confusion\n",
    "print confusion_matrix(Y_test, Y_test_pred)"
   ]
  },
  {
   "cell_type": "markdown",
   "metadata": {
    "slideshow": {
     "slide_type": "slide"
    }
   },
   "source": [
    "## Referencias\n",
    "\n",
    "* Jake VanderPlas, ESAC Data Analysis and Statistics Workshop 2014, https://github.com/jakevdp/ESAC-stats-2014\n",
    "* http://glowingpython.blogspot.cl/2012/04/k-nearest-neighbor-search.html\n",
    "* http://blog.yhathq.com/posts/classification-using-knn-and-python.html\n",
    "* Andrew Ng, Machine Learning CS144, Stanford University."
   ]
  }
 ],
 "metadata": {
  "celltoolbar": "Slideshow",
  "kernelspec": {
   "display_name": "Python 2",
   "language": "python",
   "name": "python2"
  },
  "language_info": {
   "codemirror_mode": {
    "name": "ipython",
    "version": 2
   },
   "file_extension": ".py",
   "mimetype": "text/x-python",
   "name": "python",
   "nbconvert_exporter": "python",
   "pygments_lexer": "ipython2",
   "version": "2.7.6"
  }
 },
 "nbformat": 4,
 "nbformat_minor": 0
}
