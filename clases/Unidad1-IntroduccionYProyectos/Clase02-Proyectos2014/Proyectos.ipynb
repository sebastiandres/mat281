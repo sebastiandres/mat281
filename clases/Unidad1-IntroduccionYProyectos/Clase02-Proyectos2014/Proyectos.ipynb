{
 "cells": [
  {
   "cell_type": "code",
   "execution_count": 1,
   "metadata": {
    "collapsed": false,
    "slideshow": {
     "slide_type": "skip"
    }
   },
   "outputs": [
    {
     "data": {
      "text/html": [
       "<style>\n",
       "\n",
       "/*********************************************\n",
       " * COLORS FOR EXAMPLES\n",
       " *********************************************/\n",
       "em {color: #800000;}\n",
       "span.good {color: #008000;}\n",
       "span.warning {color: #808000;}\n",
       "span.bad {color: #800000;}\n",
       "\n",
       "/*********************************************\n",
       " * GLOBAL STYLES\n",
       " *********************************************/\n",
       ".reveal h1 {color: #000000; text-shadow: 0px 0px 6px rgba(0, 0, 0, 0.2);}\n",
       ".reveal h2 {color: #222222; text-shadow: 0px 0px 5px rgba(0, 0, 0, 0.2);}\n",
       ".reveal h3 {color: #444444; text-shadow: 0px 0px 4px rgba(0, 0, 0, 0.2);}\n",
       ".reveal h4 {color: #666666; text-shadow: 0px 0px 3px rgba(0, 0, 0, 0.2);}\n",
       ".reveal h5 {color: #888888; text-shadow: 0px 0px 2px rgba(0, 0, 0, 0.2);}\n",
       ".reveal h6 {color: #AAAAAA; text-shadow: 0px 0px 1px rgba(0, 0, 0, 0.2);}\n",
       "\n",
       "/*********************************************\n",
       " * IMAGES\n",
       " *********************************************/\n",
       ".reveal section img { margin-left:auto; margin-right:auto;}\n",
       "\n",
       "</style>\n"
      ],
      "text/plain": [
       "<IPython.core.display.HTML object>"
      ]
     },
     "execution_count": 1,
     "metadata": {},
     "output_type": "execute_result"
    }
   ],
   "source": [
    "\"\"\"\n",
    "IPython Notebook v4.0 para python 2.7\n",
    "Librerías adicionales: Ninguna.\n",
    "Contenido bajo licencia CC-BY 4.0. Código bajo licencia MIT. (c) Sebastian Flores.\n",
    "\"\"\"\n",
    "\n",
    "# Configuracion para recargar módulos y librerías \n",
    "%reload_ext autoreload\n",
    "%autoreload 2\n",
    "\n",
    "from IPython.core.display import HTML\n",
    "\n",
    "HTML(open(\"style/mat281.css\", \"r\").read())"
   ]
  },
  {
   "cell_type": "markdown",
   "metadata": {
    "slideshow": {
     "slide_type": "slide"
    }
   },
   "source": [
    "<header class=\"w3-container w3-teal\">\n",
    "<img src=\"images/utfsm.png\" alt=\"\" height=\"100px\" align=\"left\"/>\n",
    "<img src=\"images/mat.png\" alt=\"\" height=\"100px\" align=\"right\"/>\n",
    "</header>\n",
    "<br/><br/><br/><br/><br/>\n",
    "# MAT281\n",
    "## Aplicaciones de la Matemática en la Ingeniería\n",
    "\n",
    "### Sebastián Flores\n",
    "\n",
    "* sebastian.flores@usm.cl\n",
    "* https://www.github.com/sebastiandres/mat281\n"
   ]
  },
  {
   "cell_type": "markdown",
   "metadata": {
    "slideshow": {
     "slide_type": "slide"
    }
   },
   "source": [
    "## ¿Qué contenido aprenderemos?\n",
    "\n",
    "* Formalidades\n",
    "* Proyectos 2014\n",
    "* Proyectos 2015"
   ]
  },
  {
   "cell_type": "markdown",
   "metadata": {
    "slideshow": {
     "slide_type": "slide"
    }
   },
   "source": [
    "## ¿Porqué aprenderemos ese contenido?\n",
    "\n",
    "* Formalidades \n",
    "  * Rrevisión de horarios y programa del curso.\n",
    "* Proyectos 2014 \n",
    "   * Ver ejemplos concretos de proyectos realizados por alumnos. \n",
    "* Proyectos 2015\n",
    "  * Conocer posibles proyectos y comenzar a discutir posibles grupos y proyectos."
   ]
  },
  {
   "cell_type": "markdown",
   "metadata": {
    "collapsed": true,
    "slideshow": {
     "slide_type": "slide"
    }
   },
   "source": [
    "## 1- Formalidades\n",
    "\n",
    "* Horario del curso:\n",
    " * Lunes 3-4, P212\n",
    " * Miercoles 3-4, F265\n",
    "* Horario ayudantía:\n",
    "  * Lunes bloques 13-14\n",
    "* Programa de la asignatura"
   ]
  },
  {
   "cell_type": "markdown",
   "metadata": {
    "collapsed": true,
    "slideshow": {
     "slide_type": "slide"
    }
   },
   "source": [
    "## 2- Proyectos 2014\n",
    "* **Reconciliación de datos**\n",
    "   * Aplicación a celdas de flotación de minería.\n",
    "* **Análisis de Sentimientos**\n",
    "   * Aplicación a tweets.\n",
    "* **Interpolación espacial con Krigging**.\n",
    "   * Aplicación a datos de crimen.\n",
    "* **Valor intrínseco de un producto**.\n",
    "   * Aplicación a datos de Amazon."
   ]
  },
  {
   "cell_type": "markdown",
   "metadata": {
    "collapsed": true,
    "slideshow": {
     "slide_type": "slide"
    }
   },
   "source": [
    "#### 2- Proyectos 2014\n",
    "\n",
    "## Interpolación espacial con Krigging\n",
    "###   Aplicación a datos de crimen\n",
    "### Diego Gajardo."
   ]
  },
  {
   "cell_type": "markdown",
   "metadata": {
    "collapsed": true,
    "slideshow": {
     "slide_type": "slide"
    }
   },
   "source": [
    "#### 2- Proyectos 2014\n",
    "\n",
    "## Valor intrínseco de un producto.\n",
    "### Aplicación a datos de Amazon.\n",
    "### Alberto Rubio"
   ]
  },
  {
   "cell_type": "markdown",
   "metadata": {
    "collapsed": true,
    "slideshow": {
     "slide_type": "slide"
    }
   },
   "source": [
    "## 3- Proyectos 2015\n",
    "\n",
    "* Proyectos definidos\n",
    "\n",
    "* Proyectos por definir"
   ]
  },
  {
   "cell_type": "markdown",
   "metadata": {
    "slideshow": {
     "slide_type": "slide"
    }
   },
   "source": [
    "## Proyectos definidos\n",
    "\n",
    "* Entity resolution\n",
    "* Model Order Reduction\n",
    "* Call Center Mathematics\n",
    "* Electrical Trees"
   ]
  },
  {
   "cell_type": "markdown",
   "metadata": {
    "slideshow": {
     "slide_type": "slide"
    }
   },
   "source": [
    "#¿Cómo comparar en internet?\n",
    "<hr>\n",
    "## Entity Resolution\n",
    "#### Proyectos definidos\n"
   ]
  },
  {
   "cell_type": "markdown",
   "metadata": {
    "slideshow": {
     "slide_type": "slide"
    }
   },
   "source": [
    "#### Proyectos definidos\n",
    "## Entity Resolution\n",
    "Conocida multitienda 1:\n",
    "<img src=\"images/entityresolution1.png\" alt=\"\" width=\"800px\" align=\"middle\"/>"
   ]
  },
  {
   "cell_type": "markdown",
   "metadata": {
    "slideshow": {
     "slide_type": "slide"
    }
   },
   "source": [
    "#### Proyectos definidos\n",
    "## Entity Resolution\n",
    "Conocida multitienda 2:\n",
    "<img src=\"images/entityresolution2.png\" alt=\"\" width=\"800px\" align=\"middle\"/>"
   ]
  },
  {
   "cell_type": "markdown",
   "metadata": {
    "slideshow": {
     "slide_type": "slide"
    }
   },
   "source": [
    "#### Proyectos definidos\n",
    "## Entity Resolution\n",
    "\n",
    "* ¿Son los productos anteriores iguales?\n",
    "* ¿Cómo medir las diferencias entre 2 \"items\" arbitrarios de las tiendas?\n",
    "* ¿Cómo asignar eficientemente pares entre 2 bases de datos \"grandes\"?\n",
    "\n",
    "##### Temáticas\n",
    "Lenguaje natural, optimización, machine learning."
   ]
  },
  {
   "cell_type": "markdown",
   "metadata": {
    "slideshow": {
     "slide_type": "slide"
    }
   },
   "source": [
    "#### Proyectos definidos\n",
    "## Entity Resolution\n",
    "**AKA**: \"record linkage\", \"list washing\", \"database merging\",  \"data matching\", ...\n",
    "\n",
    "####Definición formal:\n",
    "Tomar dos o más bases de datos y generar clases de equivalencia entre ellos.\n",
    "\n",
    "##### Definición informal:\n",
    "Determinar si 2 productos son iguales, a pesar de tener \"definiciones\" distintas."
   ]
  },
  {
   "cell_type": "markdown",
   "metadata": {
    "slideshow": {
     "slide_type": "slide"
    }
   },
   "source": [
    "#### Proyectos definidos\n",
    "## Entity Resolution\n",
    "\n",
    "##### \"Golden\" Datasets\n",
    "Ver el link: http://dbs.uni-leipzig.de/en/research/projects/object_matching/fever/\n",
    " benchmark_datasets_for_entity_resolution\n",
    "\n",
    "* **Amazon-GoogleProducts**: Datos de e-commerce.\n",
    "* **Abt-Buy**: Datos de e-commerce.\n",
    "* **DBLP-ACM**: Datos bibliográficos.\n",
    "* **DBLP-Schola**: Datos bibliográficos.\n",
    "\n",
    "\n",
    "\n",
    "##### Algunas referencias:\n",
    "* Evaluating Entity Resolution Results\n",
    "David Menestrina, Steven Euijong Whang, Hector Garcia-Molina.\n",
    "* Disinformation Techniques for Entity Resolution. Steven Euijong Whang, Hector Garcia-Molina.\n"
   ]
  },
  {
   "cell_type": "markdown",
   "metadata": {
    "slideshow": {
     "slide_type": "slide"
    }
   },
   "source": [
    "# ¿Cómo simplificar un problema?\n",
    "<hr>\n",
    "## Model Order Reduction\n",
    "#### Proyectos definidos\n",
    "\n"
   ]
  },
  {
   "cell_type": "markdown",
   "metadata": {
    "slideshow": {
     "slide_type": "slide"
    }
   },
   "source": [
    "#### Proyectos definidos\n",
    "## Model Order Reduction\n",
    "\n",
    "<img src=\"images/mor.png\" alt=\"\" width=\"600px\" align=\"middle\"/>"
   ]
  },
  {
   "cell_type": "markdown",
   "metadata": {
    "slideshow": {
     "slide_type": "slide"
    }
   },
   "source": [
    "#### Proyectos definidos\n",
    "## Model Order Reduction\n",
    "\n",
    "**AKA**: \"dimensionality reduction\", \"feature extraction\"...\n",
    "\n",
    "Reducir el \"tamaño\" de un problema resulta interesante para simulaciones computacionales, optimización, uncertainty quantification y análisis de sensibilidad.\n",
    " \n",
    "#### Definición formal:\n",
    "Disminución del tamaño computacional en simulaciones de sistemas dinámicos de gran tamaño.\n",
    "\n",
    "##### Definición informal:\n",
    "Simplificar el problema tomando los elementos (o mezclas de éstos) que entregan las mayores contribuciones.\n"
   ]
  },
  {
   "cell_type": "markdown",
   "metadata": {
    "slideshow": {
     "slide_type": "slide"
    }
   },
   "source": [
    "#### Proyectos definidos\n",
    "## Model Order Reduction\n",
    "\n",
    "##### Algunos ejemplos\n",
    "* HyShot II scramjet\n",
    "* Photovoltaic solar cell\n",
    "* Airfoil shape optimization    \n",
    "\n",
    "##### Algunas referencias:\n",
    "* Active Subspaces, Paul G. Constantine.\n",
    "* A Comparison of Some Model Order Reduction Techniques, Rodney Slone, Jin-fa Lee, Robert Lee."
   ]
  },
  {
   "cell_type": "markdown",
   "metadata": {
    "slideshow": {
     "slide_type": "slide"
    }
   },
   "source": [
    "# ¿Cómo podemos optimizar un call center?\n",
    "<hr>\n",
    "## Call Center Mathematics\n",
    "#### Proyectos definidos\n",
    "\n"
   ]
  },
  {
   "cell_type": "markdown",
   "metadata": {
    "slideshow": {
     "slide_type": "slide"
    }
   },
   "source": [
    "#### Proyectos definidos\n",
    "## Call Center Mathematics\n",
    "<img src=\"images/callcenter.jpg\" alt=\"\" width=\"300px\" align=\"right\"/>\n",
    "\n",
    "¿Cómo podemos optimizar un call center, de manera científica?\n",
    "\n",
    "* Problemas de optimización estocástica.\n",
    "* Dados ciertos turnos, \n",
    "  * ¿Qué calidad de servicio se entrega?\n",
    "* Dada una calidad de servicio deseada,  \n",
    "  * ¿Cómo se deben organizar los turnos?\n",
    "* Algunas formulas conocidas: Erlang C, Erlang F, \n",
    "\n",
    "##### Temáticas\n",
    "Simulación, optimización, estadística, probabilidades, industrias."
   ]
  },
  {
   "cell_type": "markdown",
   "metadata": {
    "slideshow": {
     "slide_type": "slide"
    }
   },
   "source": [
    "#### Proyectos definidos\n",
    "## Call Center Mathematics\n",
    "\n",
    "##### Datasets\n",
    "* http://klipfolio.uservoice.com/knowledgebase/articles/81667-call-center-data-spreadsheet-\n",
    "* http://ie.technion.ac.il/serveng/callcenterdata/index.html\n",
    "\n",
    "##### Algunas referencias\n",
    " * Ger Koole: Fundador de CCmath, \"call center optimization company\". Varios libros y artículos en la web.\n",
    " * Queueing Models of Call Centers: An Introduction.  Ger Koole y Avishai Mandelbaum.\n"
   ]
  },
  {
   "cell_type": "markdown",
   "metadata": {
    "slideshow": {
     "slide_type": "slide"
    }
   },
   "source": [
    "#¿Fractales en la naturaleza?\n",
    "<hr>\n",
    "## Árboles eléctricos\n",
    "#### Proyectos definidos\n",
    "\n"
   ]
  },
  {
   "cell_type": "markdown",
   "metadata": {
    "slideshow": {
     "slide_type": "slide"
    }
   },
   "source": [
    "## Árboles eléctricos\n",
    "#### Proyectos definidos\n",
    "<img src=\"images/arboleselectricos.png\" alt=\"\" width=\"800px\" align=\"middle\"/>\n"
   ]
  },
  {
   "cell_type": "markdown",
   "metadata": {
    "slideshow": {
     "slide_type": "slide"
    }
   },
   "source": [
    "## Árboles eléctricos\n",
    "#### Proyectos definidos\n",
    "<img src=\"images/arboleselectricos2.jpg\" alt=\"\" width=\"800px\" align=\"middle\"/>\n"
   ]
  },
  {
   "cell_type": "markdown",
   "metadata": {
    "slideshow": {
     "slide_type": "slide"
    }
   },
   "source": [
    "#### Proyectos definidos\n",
    "## Árboles eléctricos\n",
    "<img src=\"images/arboleselectricos3.jpg\" alt=\"\" width=\"800px\" align=\"middle\"/>\n"
   ]
  },
  {
   "cell_type": "markdown",
   "metadata": {
    "slideshow": {
     "slide_type": "slide"
    }
   },
   "source": [
    "## Árboles eléctricos\n",
    "#### Proyectos definidos\n",
    "\n",
    "* ¿Porqué la electricidad viaja en una trayectoria fractal en el material?\n",
    "* ¿Qué características del medio condicionan las características del árbol eléctrico?\n",
    "* ¿Qué predomina, determinismo o aleatoriedad, en la propagación eléctrica?\n",
    "\n",
    "##### Temática\n",
    "Fractales, simulación, visualización, modelamiento.\n"
   ]
  },
  {
   "cell_type": "markdown",
   "metadata": {
    "slideshow": {
     "slide_type": "slide"
    }
   },
   "source": [
    "#### Proyectos definidos\n",
    "## Árboles eléctricos\n",
    "\n",
    "##### Datasets\n",
    "* Departamento de Eléctrica, UTFSM.\n",
    "\n",
    "##### Algunas referencias\n",
    " * Three-Dimensional Imaging and Analysis of Electrical Trees, Roger Schurch.\n",
    " * Fractal Analysis of Electrical Trees, K. Kudo."
   ]
  },
  {
   "cell_type": "markdown",
   "metadata": {
    "slideshow": {
     "slide_type": "slide"
    }
   },
   "source": [
    "## Proyectos por definir\n",
    "\n",
    "* Proyectos en Kaggle\n",
    "* Proyectos en HeroX\n",
    "* API del gobierno\n",
    "* Otras APIS y fuentes de datos\n",
    "* Otras ideas"
   ]
  },
  {
   "cell_type": "markdown",
   "metadata": {
    "slideshow": {
     "slide_type": "slide"
    }
   },
   "source": [
    "#### Proyectos por definir\n",
    "## Kaggle\n",
    "\n",
    "<img src=\"images/kaggle.png\" alt=\"\" height=\"100px\" align=\"right\"/>\n",
    "* http://www.kaggle.com/\n",
    "* Plataforma de concursos de Machine Learning y Data Science.\n",
    "* Modalidad:\n",
    "  * Descargar datos\n",
    "  * Seleccionar y afinar un modelo\n",
    "  * Predecir resultados"
   ]
  },
  {
   "cell_type": "markdown",
   "metadata": {
    "slideshow": {
     "slide_type": "slide"
    }
   },
   "source": [
    "#### Proyectos por definir\n",
    "## Kaggle\n",
    "\n",
    "Proyectos actuales:\n",
    "* 1- **Springleaf Marketing Response**: Determine whether to send a direct mail piece to a customer.\n",
    "* 2- **Western Australia Rental Prices**: Predict rental prices for properties across Western Australia.\n",
    "* 3- **Rossmann Store Sales**: Forecast sales using store, promotion, and competitor data.\n",
    "* 4- **Flavours of Physics**: Identify a rare decay phenomenon.\n",
    "* 5- **Right Whale Recognition**: Identify endangered right whales in aerial photographs.\n",
    "* 6- **How Much Did It Rain?**: Predict hourly rainfall using data from polarimetric radars."
   ]
  },
  {
   "cell_type": "markdown",
   "metadata": {
    "slideshow": {
     "slide_type": "slide"
    }
   },
   "source": [
    "#### Proyectos por definir\n",
    "## Kaggle\n",
    "Proyectos actuales:\n",
    " * 7- **Ocean Ship Logbooks (1750-1850)**: Explore changing climatology with data from early shipping logs.\n",
    " * 8- **Hillary Clinton's Emails**: Uncover the political landscape in Hillary Clinton's emails.\n",
    " * 9- **Meta Kaggle**: The dataset on Kaggle, on Kaggle.\n",
    " * 10- **What's Cooking?**: Use recipe ingredients to categorize the cuisine.\n",
    " * 11- **San Francisco Crime Classification**:  Predict the category of crimes that occurred in the city by the bay.\n",
    " * 12- **Denoising Dirty Documents**: Remove noise from printed text."
   ]
  },
  {
   "cell_type": "markdown",
   "metadata": {
    "slideshow": {
     "slide_type": "slide"
    }
   },
   "source": [
    "#### Proyectos por definir\n",
    "## HeroX\n",
    "\n",
    "<img src=\"images/herox.png\" alt=\"\" height=\"100px\" align=\"right\"/>\n",
    "* http://www.herox.com/\n",
    "* Plataforma de concursos de Machine Learning y Data Science.\n",
    "* Similar a Kaggle, pero un poco más diverso.\n",
    "* Modalidad:\n",
    "  * Descargar datos\n",
    "  * Seleccionar y afinar un modelo\n",
    "  * Predecir resultados"
   ]
  },
  {
   "cell_type": "markdown",
   "metadata": {
    "slideshow": {
     "slide_type": "slide"
    }
   },
   "source": [
    "#### Proyectos por definir\n",
    "## HeroX\n",
    "Proyectos actuales\n",
    "* 1- **Cognitive Computing Challenge**: Build a cognitive system that can read a document, then load a database with what it finds.\n",
    "* 2- **Integra Gold Rush Challenge**: Integra Gold is offering $1 million to help lead us to the next big gold discovery in Val-d'Or, Canada.\n",
    "* 3- **Sky for All: Air Mobility for 2035 and Beyond**: Envision the skies of 2035 and design an airspace system that allows vehicles to safely and efficiently navigate...\n",
    "* 4- **The Lunar Initiatives Flash Art Competition**: Calling all writers and 2D artists! Submit your lunar artwork in the Lunar...\n",
    "* 5- **Financial Revolutionaries Enhancing Education**: Educating For Financial Freedom"
   ]
  },
  {
   "cell_type": "markdown",
   "metadata": {
    "slideshow": {
     "slide_type": "slide"
    }
   },
   "source": [
    "### Proyectos por definir\n",
    "## HeroX\n",
    "Proyectos actuales:\n",
    "* 6- **Operation Blue Sky**: Aboriginal Health Initiative: MNP presents an ideation challenge to improve health outcomes\n",
    "* 7- **Autism Speaks House to Home Prize**: Autism Speaks is searching for belief-busting breakthroughs in housing and residential supports for...\n",
    "* 8- **Raising the Bar on Healthcare**: A video challenge to share how Redirect Health raised the bar on healthcare and led to lowered costs...\n",
    "* 9- **Clinical Trial Innovation Prize**: Producing a breakthrough that doubles the accrual rate of clinical trials in the diagnosis and treatment of cancer.\n",
    "* 10- **CHIME National Patient ID Challenge**: Ensure 100% accuracy of every patient’s health info to reduce preventable medical errors and..."
   ]
  },
  {
   "cell_type": "markdown",
   "metadata": {
    "slideshow": {
     "slide_type": "slide"
    }
   },
   "source": [
    "### Interludio\n",
    "\n",
    "## API\n",
    "¿Qué es una API?"
   ]
  },
  {
   "cell_type": "markdown",
   "metadata": {
    "slideshow": {
     "slide_type": "fragment"
    }
   },
   "source": [
    "**Application Programming Interface**: abstracción que permite a terceros consumir datos de un programa o de un sitio web.\n",
    "\n",
    "Ejemplos clásicos:\n",
    "* API de Twitter: Permite encontrar tweets por pais, por idioma, por fecha, etc...\n",
    "* API de Google Maps: permite que desarrolladores construyan aplicaciones con los datos y mapas de google maps. \n",
    "\n",
    "No todas las APIs son idénticas, pero existen similaridades y ciertas \"buenas prácticas\"."
   ]
  },
  {
   "cell_type": "markdown",
   "metadata": {
    "slideshow": {
     "slide_type": "slide"
    }
   },
   "source": [
    "#### Proyectos por definir\n",
    "## API datos.gob.cl\n",
    "\n",
    "<img src=\"images/APIgob.png\" alt=\"\" height=\"100px\" align=\"right\"/>\n",
    "* http://recursos.datos.gob.cl/\n",
    "* Plataforma con datos relativos a Chile: ministerios y consejos, desde educación a homicidios.\n",
    "* **Sólo están los datos**: usteden tiene que elaborar una pregunta, proponer una estrategia de resolución e implementarla.\n",
    "* Modalidad:\n",
    "  * Descargar una base de datos"
   ]
  },
  {
   "cell_type": "markdown",
   "metadata": {
    "slideshow": {
     "slide_type": "slide"
    }
   },
   "source": [
    "#### Proyectos abiertos\n",
    "## API datos.gob.cl\n",
    "Ejemplos de bases de datos recientes:\n",
    "* **Organizaciones Comunitarias**\n",
    "  * Fuente: Municipalidad de Máfil\n",
    "  * Categorías: Comunicaciones Comunidad Sociedad General\n",
    "  * Formatos: xls\n",
    "  * Descripción: Nómina de organizaciones comunitarias \n",
    "\n",
    "* **Patentes Comerciales Renovadas 1er Semestre 2015**\n",
    "  * Fuente: Municipalidad de Los Lagos\n",
    "  * Categorías: Negocios Comunidad Finanzas Planificación\n",
    "  * Formatos: xlsx\n",
    "  * Fecha de publicación: 30 de septiembre del 2015\n",
    "  * Descripción: Listado de patentes comerciales renovadas y vigentes para el primera semestre del año 2015. \n",
    "\n",
    "* **Abonados Móviles**\n",
    "  * Fuente: Subsecretaría de Telecomunicaciones\n",
    "  * Categorías: Comunicaciones\n",
    "  * Formatos: xlsx\n",
    "  * Fecha de publicación: 30 de septiembre del 2015\n",
    "  * Descripción: Abonados Móviles"
   ]
  },
  {
   "cell_type": "markdown",
   "metadata": {
    "slideshow": {
     "slide_type": "slide"
    }
   },
   "source": [
    "#### Proyectos abiertos\n",
    "## API datos.gob.cl\n",
    "Ejemplos de datos más descargados:\n",
    "* **Precipitaciones diarias por Estaciones**\n",
    " * Fuente: Dirección General de Aeronáutica Civil\n",
    " * Categorías: Negocios Comunicaciones Comunidad Cultura\n",
    " * Formatos: csv xml\n",
    " * Fecha de publicación 8 de septiembre del 2015\n",
    " * Descripción: Muestra las precipitaciones ocurridas por período, en cada estación a lo largo del pais.\n",
    "\n",
    "* **PRODUCTO INTERNO BRUTO DE CHILE**\n",
    " * Fuente: Comisión Chilena del Cobre\n",
    " * Categorías: Gobierno\n",
    " * Formatos: html\n",
    " * Fecha de publicación 9 de julio del 2013\n",
    " * Descripción: Contiene información del Producto Interno Bruto por Clase de Actividad Económica a precios corrientes y volumen a precios del año anterior encadenado.  Series anuales disponibles desde el año 2003.\n",
    "\n",
    "* **CENSO 2002**\n",
    " * Fuente: Instituto Nacional de Estadísticas\n",
    " * Categorías: Cultura Educación Sociedad Tecnología\n",
    " * Formatos: txt gz\n",
    " * Fecha de publicación 1 de febrero del 2013\n",
    " * Descripción: El censo es la medición más importante del país, se realiza cada 10 años y es el operativo estadístico más amplio que se realiza en Chile.Debe cumplir con tres características..."
   ]
  },
  {
   "cell_type": "markdown",
   "metadata": {
    "slideshow": {
     "slide_type": "slide"
    }
   },
   "source": [
    "#### Proyectos abiertos\n",
    "## Otros sitios y APIs\n",
    "Algunos ejemplos (no limitantes):\n",
    "* http://mindicador.cl/: principales indicadores económicos para Chile.\n",
    "* http://www.cs.cmu.edu/~enron/: Enron email dataset.\n",
    "* http://datahub.io/: Colección de diversos datasets mundiales.\n",
    "* http://www.openstreetmap.org/: Datos geográficos colaborativos.\n",
    "* http://musicbrainz.org/:  open music encyclopedia."
   ]
  },
  {
   "cell_type": "markdown",
   "metadata": {
    "slideshow": {
     "slide_type": "fragment"
    }
   },
   "source": [
    "## Consejo\n",
    "\n",
    "Definan el tema que más les interesa, y luego busquen un sitio o API apropiada."
   ]
  },
  {
   "cell_type": "markdown",
   "metadata": {
    "slideshow": {
     "slide_type": "slide"
    }
   },
   "source": [
    "#### Proyectos por definir  \n",
    "## Otras ideas\n",
    "* ¿Es posible predecir la existencia de monopolios, mediante un procesamiento automático de indicadores económicos?\n",
    "\n",
    "* ¿Cómo imprime una impresoras 3D? ¿Cómo se diseña/optimiza la impresión?\n",
    "  \n",
    "* Reconstrucción tridimensional con datos obtenidos por drones."
   ]
  }
 ],
 "metadata": {
  "celltoolbar": "Slideshow",
  "kernelspec": {
   "display_name": "Python 2",
   "language": "python",
   "name": "python2"
  },
  "language_info": {
   "codemirror_mode": {
    "name": "ipython",
    "version": 2
   },
   "file_extension": ".py",
   "mimetype": "text/x-python",
   "name": "python",
   "nbconvert_exporter": "python",
   "pygments_lexer": "ipython2",
   "version": "2.7.6"
  }
 },
 "nbformat": 4,
 "nbformat_minor": 0
}
