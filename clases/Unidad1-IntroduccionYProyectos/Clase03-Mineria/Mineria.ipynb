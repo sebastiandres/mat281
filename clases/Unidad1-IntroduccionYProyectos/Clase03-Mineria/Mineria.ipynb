{
 "cells": [
  {
   "cell_type": "code",
   "execution_count": 1,
   "metadata": {
    "collapsed": false,
    "slideshow": {
     "slide_type": "skip"
    }
   },
   "outputs": [
    {
     "data": {
      "text/html": [
       "<style>\n",
       "\n",
       "/*********************************************\n",
       " * COLORS FOR EXAMPLES\n",
       " *********************************************/\n",
       "em {color: #800000;}\n",
       "span.good {color: #008000;}\n",
       "span.warning {color: #808000;}\n",
       "span.bad {color: #800000;}\n",
       "\n",
       "/*********************************************\n",
       " * GLOBAL STYLES\n",
       " *********************************************/\n",
       ".reveal h1 {color: #000000; text-shadow: 0px 0px 6px rgba(0, 0, 0, 0.2);}\n",
       ".reveal h2 {color: #222222; text-shadow: 0px 0px 5px rgba(0, 0, 0, 0.2);}\n",
       ".reveal h3 {color: #444444; text-shadow: 0px 0px 4px rgba(0, 0, 0, 0.2);}\n",
       ".reveal h4 {color: #666666; text-shadow: 0px 0px 3px rgba(0, 0, 0, 0.2);}\n",
       ".reveal h5 {color: #888888; text-shadow: 0px 0px 2px rgba(0, 0, 0, 0.2);}\n",
       ".reveal h6 {color: #AAAAAA; text-shadow: 0px 0px 1px rgba(0, 0, 0, 0.2);}\n",
       "\n",
       "/*********************************************\n",
       " * IMAGES\n",
       " *********************************************/\n",
       ".reveal section img { margin-left:auto; margin-right:auto;}\n",
       "\n",
       "</style>\n"
      ],
      "text/plain": [
       "<IPython.core.display.HTML object>"
      ]
     },
     "execution_count": 1,
     "metadata": {},
     "output_type": "execute_result"
    }
   ],
   "source": [
    "\"\"\"\n",
    "IPython Notebook v4.0 para python 2.7\n",
    "Librerías adicionales: Ninguna.\n",
    "Contenido bajo licencia CC-BY 4.0. Código bajo licencia MIT. (c) Sebastian Flores.\n",
    "\"\"\"\n",
    "\n",
    "# Configuracion para recargar módulos y librerías \n",
    "%reload_ext autoreload\n",
    "%autoreload 2\n",
    "\n",
    "from IPython.core.display import HTML\n",
    "\n",
    "HTML(open(\"style/mat281.css\", \"r\").read())"
   ]
  },
  {
   "cell_type": "markdown",
   "metadata": {
    "slideshow": {
     "slide_type": "slide"
    }
   },
   "source": [
    "<header class=\"w3-container w3-teal\">\n",
    "<img src=\"images/utfsm.png\" alt=\"\" height=\"100px\" align=\"left\"/>\n",
    "<img src=\"images/mat.png\" alt=\"\" height=\"100px\" align=\"right\"/>\n",
    "</header>\n",
    "<br/><br/><br/><br/><br/>\n",
    "# MAT281\n",
    "## Aplicaciones de la Matemática en la Ingeniería\n",
    "\n",
    "### Sebastián Flores\n",
    "\n",
    "https://www.github.com/sebastiandres/mat281\n"
   ]
  },
  {
   "cell_type": "markdown",
   "metadata": {
    "slideshow": {
     "slide_type": "slide"
    }
   },
   "source": [
    "## Clases anteriores\n",
    "\n",
    "* Introducción\n",
    "* Proyectos 2014 y 2015"
   ]
  },
  {
   "cell_type": "markdown",
   "metadata": {
    "slideshow": {
     "slide_type": "slide"
    }
   },
   "source": [
    "## ¿Qué contenido aprenderemos?\n",
    "\n",
    "* Minería subterránea\n",
    "    * Block Caving\n",
    "    * Sismicidad"
   ]
  },
  {
   "cell_type": "markdown",
   "metadata": {
    "slideshow": {
     "slide_type": "slide"
    }
   },
   "source": [
    "## ¿Porqué aprenderemos ese contenido?\n",
    "\n",
    "* Minería es uno de los grandes ejes económicos de Chile.\n",
    "* Minería subterránea provee de grandes desafíos en ingeniería."
   ]
  },
  {
   "cell_type": "markdown",
   "metadata": {
    "collapsed": true,
    "slideshow": {
     "slide_type": "slide"
    }
   },
   "source": [
    "## Disclaimer y Backstory\n",
    "\n",
    "* Trabajé en Modelamiento Geomecánico en el CMM, UChile:\n",
    "  * Desde 2008 al 2010.\n",
    "  * Modelamiento del fracturamiento hidráulico\n",
    "  * Modelamiento de efectos del fracturamiento hidráulico en preacondicionamiento minero.\n",
    "* Trabajé en Microsismicidad en el CMM, UChile:\n",
    "  * Desde el 2012 al 2013.\n",
    "  * Modelo de inversión del tensor sísmico para mediciones de microsismicidad.\n",
    "  \n"
   ]
  },
  {
   "cell_type": "markdown",
   "metadata": {
    "collapsed": true,
    "slideshow": {
     "slide_type": "slide"
    }
   },
   "source": [
    "## Importante\n",
    "\n",
    "* Como ICM deberán aprender el vocabulario específico del dominio donde se desempeñen: minería, banco, electricidad, etc...\n",
    "* En esta clase, para minería subterránea, aprenderemos:\n",
    "  * Block Caving\n",
    "  * Subsidencia\n",
    "  * Roca primaria, roca secundaria \n",
    "  * Fracturamiento hidráulico\n"
   ]
  },
  {
   "cell_type": "markdown",
   "metadata": {
    "slideshow": {
     "slide_type": "slide"
    }
   },
   "source": [
    "## Mina El Teniente\n",
    "\n",
    "* Generalidades\n",
    "* Método Block Caving\n",
    "* Problemática"
   ]
  },
  {
   "cell_type": "markdown",
   "metadata": {
    "slideshow": {
     "slide_type": "slide"
    }
   },
   "source": [
    "#### Generalidades\n",
    "## Mina El Teniente\n",
    "\n",
    "<img src=\"images/1mapa.png\" alt=\"\" align=\"middle\"/>\n",
    "\n",
    "##### Ubicación mina El Teniente - CODELCO"
   ]
  },
  {
   "cell_type": "markdown",
   "metadata": {
    "slideshow": {
     "slide_type": "slide"
    }
   },
   "source": [
    "#### Generalidades\n",
    "## Mina El Teniente\n",
    "\n",
    "<img src=\"images/2pipa.png\" alt=\"\" align=\"middle\"/>\n",
    "\n",
    "##### Pipa Braden y minas aledañas."
   ]
  },
  {
   "cell_type": "markdown",
   "metadata": {
    "slideshow": {
     "slide_type": "slide"
    }
   },
   "source": [
    "#### Generalidades\n",
    "## Mina El Teniente\n",
    "\n",
    "<img src=\"images/3niveles.png\" alt=\"\" align=\"middle\"/>\n",
    "\n",
    "##### Sectores productivos"
   ]
  },
  {
   "cell_type": "markdown",
   "metadata": {
    "slideshow": {
     "slide_type": "slide"
    }
   },
   "source": [
    "#### Generalidades\n",
    "## Mina El Teniente\n",
    "\n",
    "<img src=\"images/4subsidencia.png\" alt=\"\" align=\"middle\"/>\n",
    "\n",
    "##### Mina El Teniente - CODELCO (vista superior)"
   ]
  },
  {
   "cell_type": "markdown",
   "metadata": {
    "slideshow": {
     "slide_type": "slide"
    }
   },
   "source": [
    "#### Generalidades\n",
    "## Preguntas:\n",
    "* ¿Cuántas toneladas de cobre se producen cada día?\n",
    "* ¿Cuántas toneladas de mineral se movilizan por día?\n",
    "* ¿Cuantos kilómetros de galería subterránea se han construido en los 100 años de funcionamiento?"
   ]
  },
  {
   "cell_type": "markdown",
   "metadata": {
    "slideshow": {
     "slide_type": "slide"
    }
   },
   "source": [
    "#### Generalidades\n",
    "## Preguntas:\n",
    "* ¿Cuántas toneladas de cobre se producen cada día?: \n",
    "  * <span class=\"bad\">1,100 toneladas.</span>\n",
    "* ¿Cuántas toneladas de mineral se movilizan por día?: \n",
    "  * <span class=\"bad\">135,000 toneladas.</span>\n",
    "* ¿Cuantos kilómetros de galería subterránea se han construido en los 100 años de funcionamiento?:\n",
    "  * <span class=\"bad\">3,000 kilómetros: Santiago-Punta Arenas o Santiago-Rio de Janeiro.</span> "
   ]
  },
  {
   "cell_type": "markdown",
   "metadata": {
    "slideshow": {
     "slide_type": "slide"
    }
   },
   "source": [
    "## Caving\n",
    "\n",
    "* Definición\n",
    "* Ilustración"
   ]
  },
  {
   "cell_type": "markdown",
   "metadata": {
    "slideshow": {
     "slide_type": "slide"
    }
   },
   "source": [
    "#### Caving\n",
    "## Definición\n",
    "* Caving: método de hundimiento gravitacional\n",
    "  * Retiro controlado de material produce una falta de sustentación que conduce a la fragmentación progresiva.\n",
    "* Muchas variantes operacionales posibles.\n",
    "  * Block Caving, Panel Caving, etc.\n",
    "* Método de explotación subterráneo de menor costo y mayor productividad\n"
   ]
  },
  {
   "cell_type": "markdown",
   "metadata": {
    "slideshow": {
     "slide_type": "slide"
    }
   },
   "source": [
    "#### Caving\n",
    "\n",
    "<img src=\"images/5subsidencia.png\" alt=\"\" width=\"900\" align=\"middle\"/>"
   ]
  },
  {
   "cell_type": "markdown",
   "metadata": {
    "slideshow": {
     "slide_type": "slide"
    }
   },
   "source": [
    "#### Caving\n",
    "## Niveles\n",
    "* **UCL (UnderCut Level) o Nivel de hundimiento**: se \"corta la base\" para generar la falta de sustentación.  \n",
    "* **Producción**: la roca quebrada es transportada a puntos de extracción.\n",
    "* **Reducción Secundaria**: se reduce el tamaño del mineral.\n",
    "* **Acarreo y Transporte**: mineral fragmentado se lleva al exterior de la mina. \n",
    "\n",
    "Además existe un nivel de ventilación. "
   ]
  },
  {
   "cell_type": "code",
   "execution_count": 7,
   "metadata": {
    "collapsed": false,
    "slideshow": {
     "slide_type": "slide"
    }
   },
   "outputs": [
    {
     "data": {
      "text/html": [
       "<video width=\"640\" controls> <source src=\"videos/blockcaving.ogg\" type=\"video/ogg\"> </video>"
      ],
      "text/plain": [
       "<IPython.core.display.HTML object>"
      ]
     },
     "execution_count": 7,
     "metadata": {},
     "output_type": "execute_result"
    }
   ],
   "source": [
    "HTML('''<video width=\"640\" controls> <source src=\"videos/blockcaving.ogg\" type=\"video/ogg\"> </video>''')"
   ]
  },
  {
   "cell_type": "markdown",
   "metadata": {
    "slideshow": {
     "slide_type": "slide"
    }
   },
   "source": [
    "#### Block Caving\n",
    "## Etapas\n",
    "<img src=\"images/8A.png\" alt=\"\" width=\"600\" align=\"middle\"/>\n",
    "<img src=\"images/8B.png\" alt=\"\" width=\"600\" align=\"middle\"/>\n",
    "<img src=\"images/8C.png\" alt=\"\" width=\"600\" align=\"middle\"/>\n",
    "<img src=\"images/8D.png\" alt=\"\" width=\"600\" align=\"middle\"/>\n",
    "<img src=\"images/8E.png\" alt=\"\" width=\"600\" align=\"middle\"/>\n",
    "<img src=\"images/8F.png\" alt=\"\" width=\"600\" align=\"middle\"/>\n",
    "<img src=\"images/8G.png\" alt=\"\" width=\"600\" align=\"middle\"/>\n",
    "<img src=\"images/8H.png\" alt=\"\" width=\"600\" align=\"middle\"/>"
   ]
  },
  {
   "cell_type": "markdown",
   "metadata": {
    "slideshow": {
     "slide_type": "slide"
    }
   },
   "source": [
    "#### Caving\n",
    "## Etapas\n",
    "* **Diseño y Construcción**: Se realizan los distintos niveles (UCL, Producción y Accarreo).\n",
    "* **Inicio del caving**: Se queman (explotan) los pilares del UCL y se comienza la extracción. Existe una cavidad de material fragmentado.\n",
    "* **Caving virgen**: Continua la extracción de material fragmentado todavıa sin conectar.\n",
    "* **Conexión**: La cavidad de material fragmentado ha conectado. Sobre la superficie inicial sólo queda material fragmentado.\n",
    "* **Caving en régimen**: Sobre el punto de extracci ́ on existe s ́olo material fragmentado.\n",
    "* **Caving en transición**: Sobre el punto de extracción existe material fragmentado y roca in-situ (no fragmentada)."
   ]
  },
  {
   "cell_type": "markdown",
   "metadata": {
    "slideshow": {
     "slide_type": "slide"
    }
   },
   "source": [
    "#### Caving\n",
    "## Problemáticas\n",
    "* ¿Porqué hay (algunas veces) fragmentación en los niveles inferiores al hundimiento?\n",
    "  * ¿Cómo se distribuyen los esfuerzos asociados al caving?\n",
    "  * ¿Qué factores son los más importantes?\n",
    "* La roca está más competente, y los fragmentos obtenidos son cada vez más grandes...\n",
    "  * ¿Cómo podemos influenciar la fragmentación?\n",
    "  * ¿Qué se obtendría al aplicar la técnica de fracturamiento hidráulico?"
   ]
  },
  {
   "cell_type": "markdown",
   "metadata": {
    "slideshow": {
     "slide_type": "slide"
    }
   },
   "source": [
    "#### Caving\n",
    "## Problemáticas\n",
    "La distribución de esfuerzos puede entenderse con Mecánica de Sólidos tradicional.\n",
    "\n",
    "<img src=\"images/9A.png\" alt=\"\" width=\"900\" align=\"middle\"/>\n",
    "<img src=\"images/9B.png\" alt=\"\" width=\"900\" align=\"middle\"/>\n",
    "<img src=\"images/9C.png\" alt=\"\" width=\"900\" align=\"middle\"/>\n",
    "<img src=\"images/9D.png\" alt=\"\" width=\"900\" align=\"middle\"/>"
   ]
  },
  {
   "cell_type": "markdown",
   "metadata": {
    "slideshow": {
     "slide_type": "slide"
    }
   },
   "source": [
    "#### Caving\n",
    "## Problemáticas\n",
    "La fragmentación es un tema más complejo, y require además de la Mecánica de Sólidos tradicional, la utilización de la Mecánica de la Ruptura."
   ]
  },
  {
   "cell_type": "markdown",
   "metadata": {
    "slideshow": {
     "slide_type": "slide"
    }
   },
   "source": [
    "#### Caving\n",
    "## Visita\n",
    "<img src=\"images/10visita4.png\" alt=\"\" width=\"900\" align=\"middle\"/>\n",
    "<img src=\"images/10visita5.png\" alt=\"\" width=\"900\" align=\"middle\"/>\n",
    "<img src=\"images/10visita6.png\" alt=\"\" width=\"900\" align=\"middle\"/>\n",
    "<img src=\"images/10visita7.png\" alt=\"\" width=\"900\" align=\"middle\"/>"
   ]
  },
  {
   "cell_type": "markdown",
   "metadata": {
    "slideshow": {
     "slide_type": "slide"
    }
   },
   "source": [
    "#### Caving\n",
    "## Modelamiento\n",
    "\n",
    "¿Que escala debemos utilizar en nuestro modelamiento?\n",
    "\n",
    "* **Roca Intacta**: \n",
    "  * Escala “micro”:\n",
    "  * Fácil de medir en laboratorio.\n",
    "  * Sin estructuras \n",
    "  * Altamente competente en tracción y compresión.\n",
    "* **Macizo rocoso**: \n",
    "  * Escala “macro“\n",
    "  * Difícl de éstimar.\n",
    "  * Integra efecto de estructuras presentes (vetillas y fallas geológicas).\n",
    "  * Menor competencia debido a presencia de estructuras \"débiles\"."
   ]
  },
  {
   "cell_type": "markdown",
   "metadata": {
    "slideshow": {
     "slide_type": "slide"
    }
   },
   "source": [
    "#### Caving\n",
    "## Modelamiento\n",
    "\n",
    "<img src=\"images/escalarocas.png\" alt=\"\" width=\"900\" align=\"middle\"/>"
   ]
  },
  {
   "cell_type": "markdown",
   "metadata": {
    "slideshow": {
     "slide_type": "slide"
    }
   },
   "source": [
    "#### Caving\n",
    "## Modelamiento\n",
    "\n",
    "A nivel de roca intacta, en la Mina Teniente existen 2 tipos de rocas:\n",
    "* **Roca Primaria**: Altamente competente, poca existencia de vetillas.\n",
    "* **Roca Secundaria**: alta existencia de vetillas y facilidad de fragmentación.\n",
    "<img src=\"images/tiposrocas.png\" alt=\"\" width=\"900\" align=\"middle\"/>"
   ]
  },
  {
   "cell_type": "markdown",
   "metadata": {
    "slideshow": {
     "slide_type": "slide"
    }
   },
   "source": [
    "#### Caving\n",
    "## Modelamiento\n",
    "\n",
    "OK, OK. \n",
    "\n",
    "Entendí.\n",
    "\n",
    "Ahora tengo mi super-modelo. ¿Que valores puedo utilizar?"
   ]
  },
  {
   "cell_type": "markdown",
   "metadata": {
    "slideshow": {
     "slide_type": "slide"
    }
   },
   "source": [
    "#### Caving\n",
    "## Modelamiento\n",
    "\n",
    "* Se provee la siguiente tabla canónica de valores para los parámetros elásticos.\n",
    "* Se solicita \"aplicar con buen juicio\".\n",
    "<img src=\"images/valoresmodelamiento.png\" alt=\"\" width=\"900\" align=\"middle\"/>"
   ]
  },
  {
   "cell_type": "markdown",
   "metadata": {
    "slideshow": {
     "slide_type": "slide"
    }
   },
   "source": [
    "#### Caving\n",
    "## Fracturamiento Hidráulico\n",
    "\n",
    "##### Definición\n",
    "Proceso de iniciación y propagación de una fractura mediante la inyección de un fluido a alta presión al interior de un medio sólido que se desea fragmentar."
   ]
  },
  {
   "cell_type": "markdown",
   "metadata": {
    "slideshow": {
     "slide_type": "slide"
    }
   },
   "source": [
    "#### Caving\n",
    "## Fracturamiento Hidráulico\n",
    "\n",
    "<img src=\"images/FH1.png\" alt=\"\" width=\"900\" align=\"middle\"/>\n",
    "<img src=\"images/FH2.png\" alt=\"\" width=\"900\" align=\"middle\"/>\n",
    "<img src=\"images/FH3.png\" alt=\"\" width=\"900\" align=\"middle\"/>\n",
    "<img src=\"images/FH4.png\" alt=\"\" width=\"900\" align=\"middle\"/>"
   ]
  },
  {
   "cell_type": "markdown",
   "metadata": {
    "slideshow": {
     "slide_type": "slide"
    }
   },
   "source": [
    "#### Caving\n",
    "## Fracturamiento Hidráulico\n",
    "### Modelamiento Analítico\n",
    "<img src=\"images/FH5.png\" alt=\"\" width=\"900\" align=\"middle\"/>"
   ]
  },
  {
   "cell_type": "markdown",
   "metadata": {
    "slideshow": {
     "slide_type": "slide"
    }
   },
   "source": [
    "#### Caving\n",
    "## Fracturamiento Hidráulico\n",
    "### Modelamiento Numérico\n",
    "<img src=\"images/FH6.png\" alt=\"\" width=\"900\" align=\"middle\"/>\n",
    "Modelamiento del dispositivo.\n",
    "\n",
    "<img src=\"images/FH7.png\" alt=\"\" width=\"900\" align=\"middle\"/>\n",
    "Modelamiento del dispositivo y el medio.\n",
    "\n",
    "<img src=\"images/FHSrr.png\" alt=\"\" width=\"900\" align=\"middle\"/>\n",
    "Esfuerzo $\\sigma_{rr}$. A la izquierda, rango completo de valores. A la derecha, sólo valores positivos.\n",
    "\n",
    "<img src=\"images/FHStt.png\" alt=\"\" width=\"900\" align=\"middle\"/>\n",
    "Esfuerzo $\\sigma_{\\theta\\theta}$. A la izquierda, rango completo de valores. A la derecha, sólo valores positivos.\n"
   ]
  },
  {
   "cell_type": "markdown",
   "metadata": {
    "slideshow": {
     "slide_type": "slide"
    }
   },
   "source": [
    "\n",
    "#### Caving\n",
    "## Fracturamiento Hidráulico\n",
    "\n",
    "#### Conclusiones de la memoria\n",
    "\n",
    "* La mayor parte de la presión es utilizada para llevar la perforación a un estado local de tracción.\n",
    "* Proceso de iniciación y propagación de una fractura mediante la inyección de un fluido a alta presión al interior de un sólido que se desea fragmentar.\n",
    "* La influencia de la perforación es fuerte en la zona comprendida desde la superficie hasta 5 veces el radio de la perforación, débil entre 5 y 20 veces el radio y prácticamente imperceptible fuera de 20 veces el radio.\n",
    "* Las mayores variaciones de los esfuerzos ocurren en la zona inmediata de la pared de la perforación, lo que hace necesitar un mallado extremadamente fino en dicha zona para obtener buenas aproximaciones mediante los modelos numéricos.\n",
    "* Si la presión de packers es mayor a la presión del fluído, fracturas (secas) pueden iniciarse en la zona de los packers.\n",
    "• Si la presión de fluido es mayor a la presión del packer, se inicia fracturas longitudinales en la zona central del fluido.\n",
    "* Modelo analítico permite responder las principales interrogantes del inicio de la fractura.\n",
    "• Modelo numérico permite representar correctamente el dispositivo, pero no entrega nuevas informaciones."
   ]
  },
  {
   "cell_type": "markdown",
   "metadata": {
    "slideshow": {
     "slide_type": "slide"
    }
   },
   "source": [
    "#### Minería\n",
    "## Moralejas\n",
    "\n",
    "* Modelos pueden ser continuos o discretos: depende del contexto del problema.\n",
    "* Parámetros del modelo pueden ser **muy** dificil de conseguir.\n",
    "* Modelamiento requiere interactuar con ingenierías específicas: conocer terminología y modelamientos existentes.\n",
    "* Diferencia entre modelos \"predictivos\" y \"representativos\".\n",
    "* Hay un gran abismo entre la academia y la industria: ICM debe llenar ese rol."
   ]
  }
 ],
 "metadata": {
  "celltoolbar": "Slideshow",
  "kernelspec": {
   "display_name": "Python 2",
   "language": "python",
   "name": "python2"
  },
  "language_info": {
   "codemirror_mode": {
    "name": "ipython",
    "version": 2
   },
   "file_extension": ".py",
   "mimetype": "text/x-python",
   "name": "python",
   "nbconvert_exporter": "python",
   "pygments_lexer": "ipython2",
   "version": "2.7.6"
  }
 },
 "nbformat": 4,
 "nbformat_minor": 0
}
