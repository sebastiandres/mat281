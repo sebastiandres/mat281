{
 "cells": [
  {
   "cell_type": "code",
   "execution_count": 8,
   "metadata": {
    "collapsed": false,
    "slideshow": {
     "slide_type": "skip"
    }
   },
   "outputs": [
    {
     "data": {
      "text/html": [
       "<style>\n",
       "\n",
       "/*********************************************\n",
       " * GLOBAL STYLES\n",
       " *********************************************/\n",
       "body {\n",
       "  background: white;\n",
       "  background-color: white; }\n",
       "\n",
       ".reveal {\n",
       "  font-family: \"Lato\", sans-serif;\n",
       "  font-size: 36px;\n",
       "  font-weight: normal;\n",
       "  letter-spacing: -0.02em;\n",
       "  color: black; }\n",
       "\n",
       "::selection {\n",
       "  color: white;\n",
       "  background: rgba(0, 0, 0, 0.99);\n",
       "  text-shadow: none; }\n",
       "\n",
       "/*********************************************\n",
       " * COLORS FOR EXAMPLES\n",
       " *********************************************/\n",
       "span.good {color: #008000;}\n",
       "span.warning {color: #808000;}\n",
       "span.bad {color: #800000;}\n",
       "\n",
       "/*********************************************\n",
       " * HEADERS\n",
       " *********************************************/\n",
       ".reveal h1,\n",
       ".reveal h2,\n",
       ".reveal h3,\n",
       ".reveal h4,\n",
       ".reveal h5,\n",
       ".reveal h6 {\n",
       "  margin: 0 0 20px 0;\n",
       "  color: #000000;\n",
       "  font-family: \"League Gothic\", Impact, sans-serif;\n",
       "  line-height: 0.9em;\n",
       "  letter-spacing: 0.02em;\n",
       "  text-transform: uppercase;\n",
       "  text-shadow: none; }\n",
       "\n",
       ".reveal h1 {color: #000000; text-shadow: 0px 0px 6px rgba(0, 0, 0, 0.2);}\n",
       ".reveal h2 {color: #222222; text-shadow: 0px 0px 5px rgba(0, 0, 0, 0.2);}\n",
       ".reveal h3 {color: #444444; text-shadow: 0px 0px 4px rgba(0, 0, 0, 0.2);}\n",
       ".reveal h4 {color: #666666; text-shadow: 0px 0px 3px rgba(0, 0, 0, 0.2);}\n",
       ".reveal h5 {color: #888888; text-shadow: 0px 0px 2px rgba(0, 0, 0, 0.2);}\n",
       ".reveal h6 {color: #AAAAAA; text-shadow: 0px 0px 1px rgba(0, 0, 0, 0.2);}\n",
       "\n",
       "/*********************************************\n",
       " * LINKS\n",
       " *********************************************/\n",
       ".reveal a:not(.image) {\n",
       "  color: darkblue;\n",
       "  text-decoration: none;\n",
       "  -webkit-transition: color .15s ease;\n",
       "  -moz-transition: color .15s ease;\n",
       "  -ms-transition: color .15s ease;\n",
       "  -o-transition: color .15s ease;\n",
       "  transition: color .15s ease; }\n",
       "\n",
       ".reveal a:not(.image):hover {\n",
       "  color: darkblue;\n",
       "  text-shadow: none;\n",
       "  border: none; }\n",
       "\n",
       ".reveal .roll span:after {\n",
       "  color: #fff;\n",
       "  background: #564826; }\n",
       "\n",
       "/*********************************************\n",
       " * IMAGES\n",
       " *********************************************/\n",
       ".reveal section img {\n",
       "  background: rgba(255, 255, 255, 0.12);\n",
       "  margin-left:auto;\n",
       "  margin-right:auto;\n",
       "  -webkit-transition: all .2s linear;\n",
       "  -moz-transition: all .2s linear;\n",
       "  -ms-transition: all .2s linear;\n",
       "  -o-transition: all .2s linear;\n",
       "  transition: all .2s linear; }\n",
       "\n",
       ".reveal a:hover img {\n",
       "  background: rgba(255, 255, 255, 0.2);\n",
       "  border-color: #8b743d;\n",
       "  box-shadow: 0 0 20px rgba(0, 0, 0, 0.55); }\n",
       "\n",
       "/*********************************************\n",
       " * NAVIGATION CONTROLS\n",
       " *********************************************/\n",
       ".reveal .controls div.navigate-left,\n",
       ".reveal .controls div.navigate-left.enabled {\n",
       "  border-right-color: darkblue; }\n",
       "\n",
       ".reveal .controls div.navigate-right,\n",
       ".reveal .controls div.navigate-right.enabled {\n",
       "  border-left-color: darkblue; }\n",
       "\n",
       ".reveal .controls div.navigate-up,\n",
       ".reveal .controls div.navigate-up.enabled {\n",
       "  border-bottom-color: darkblue; }\n",
       "\n",
       ".reveal .controls div.navigate-down,\n",
       ".reveal .controls div.navigate-down.enabled {\n",
       "  border-top-color: darkblue; }\n",
       "\n",
       ".reveal .controls div.navigate-left.enabled:hover {\n",
       "  border-right-color: #0000f1; }\n",
       "\n",
       ".reveal .controls div.navigate-right.enabled:hover {\n",
       "  border-left-color: #0000f1; }\n",
       "\n",
       ".reveal .controls div.navigate-up.enabled:hover {\n",
       "  border-bottom-color: #0000f1; }\n",
       "\n",
       ".reveal .controls div.navigate-down.enabled:hover {\n",
       "  border-top-color: #0000f1; }\n",
       "\n",
       "/*********************************************\n",
       " * PROGRESS BAR\n",
       " *********************************************/\n",
       ".reveal .progress {\n",
       "  background: rgba(0, 0, 0, 0.2); }\n",
       "\n",
       ".reveal .progress span {\n",
       "  background: darkblue;\n",
       "  -webkit-transition: width 800ms cubic-bezier(0.26, 0.86, 0.44, 0.985);\n",
       "  -moz-transition: width 800ms cubic-bezier(0.26, 0.86, 0.44, 0.985);\n",
       "  -ms-transition: width 800ms cubic-bezier(0.26, 0.86, 0.44, 0.985);\n",
       "  -o-transition: width 800ms cubic-bezier(0.26, 0.86, 0.44, 0.985);\n",
       "  transition: width 800ms cubic-bezier(0.26, 0.86, 0.44, 0.985); }\n",
       "\n",
       "/*********************************************\n",
       " * SLIDE NUMBER\n",
       " *********************************************/\n",
       ".reveal .slide-number {\n",
       "  color: darkblue; }\n",
       "\n",
       "</style>\n"
      ],
      "text/plain": [
       "<IPython.core.display.HTML object>"
      ]
     },
     "execution_count": 8,
     "metadata": {},
     "output_type": "execute_result"
    }
   ],
   "source": [
    "#Configuracion para recargar módulos y librerías cada vez \n",
    "%reload_ext autoreload\n",
    "%autoreload 2\n",
    "                                                                                                                                                                                                                                                                                                                                                                                                                                                                                                                                                                                                                                                                                \n",
    "%matplotlib inline\n",
    "                                                                                                                                                                                                                                                                                                                                                                                                                                                                                                                                                                                                                                                                                                                                                                                                                                                                                                                                                                                                                                                                                                                                                                                                                                                                                                                                                                                                                                                                                                                                                                                                                                                                                                                                                                                                                                                                                                                                                                                                                                                                                                                                                                                                                                                                                                                                                                                                                                                                                                                                                                                                                                                                                                                                                                                                                                                                                                                                                                                                                                                                                                                                                                                                                                                                                                                                                                                                                                                                                                                                                                                                                                                                                                                                                                                                                                                                                                                                                                                                                                                                                                                                                                                                                                                                                                                                                                                                                                                                                                                                                                                                                                                                                                                                                                                                                                                                                                                                                                                                                                                                                                                                                                                                                                                                                                                                                                                                                                                                                                                                                                                                                                                                                                                                                                                                                                                                                                                                                                                                                                                                                                                                                                                                                                                                                                                                                                                                                                                                                                                                                                                                                                                                                                                                                                                                                                                                                                                                                                                                                                                                                                                                                                                                                                                                                                                                                                                                                                                                                                                                                                                                                                                                                                                                                                                                                                                                                                                                                                                                                                                                                                                                                                                                                                                                                                                                                                                                                                                                                                                                                                                                                                                                                                                                                                                                                                                                                                                                                                                                                                                                                                                                                                                                                                                                                                                                                                                                                                                                                                                                                                                                                                                                                                                                                                                                                                                                                                                                                                                                                                                                                                                                                                                                                                                                                                                                                                                                                                                                                            \n",
    "from IPython.core.display import HTML\n",
    "\n",
    "HTML(open(\"style/mat281.css\", \"r\").read())"
   ]
  },
  {
   "cell_type": "markdown",
   "metadata": {
    "slideshow": {
     "slide_type": "slide"
    }
   },
   "source": [
    "<header class=\"w3-container w3-teal\">\n",
    "<img src=\"images/utfsm.png\" alt=\"\" height=\"100px\" align=\"left\"/>\n",
    "<img src=\"images/mat.png\" alt=\"\" height=\"100px\" align=\"right\"/>\n",
    "</header>\n",
    "<br/><br/><br/><br/><br/>\n",
    "# MAT281\n",
    "## Aplicaciones de la Matemática en la Ingeniería\n",
    "\n",
    "### Sebastián Flores\n",
    "\n",
    "https://www.github.com/sebastiandres/mat281\n"
   ]
  },
  {
   "cell_type": "markdown",
   "metadata": {
    "slideshow": {
     "slide_type": "slide"
    }
   },
   "source": [
    "## Contenido\n",
    "\n",
    "* Uno\n",
    "* Dos\n",
    "* Tres"
   ]
  },
  {
   "cell_type": "markdown",
   "metadata": {
    "collapsed": true,
    "slideshow": {
     "slide_type": "slide"
    }
   },
   "source": [
    "# Título\n",
    "\n",
    "Texto\n",
    "\n",
    "## Subtítulo\n",
    "\n",
    "Texto\n",
    "\n",
    "### Sección\n",
    "\n",
    "Texto\n",
    "\n",
    "#### Subsección\n",
    "\n",
    "Texto\n",
    "\n",
    "##### subsubsección\n",
    "\n",
    "* Texto <span class=\"good\"> bueno </span>, <span class=\"warning\"> masomeno </span> \n",
    "\n",
    "* y <span class=\"bad\"> malo </span>"
   ]
  },
  {
   "cell_type": "code",
   "execution_count": 4,
   "metadata": {
    "collapsed": false
   },
   "outputs": [
    {
     "data": {
      "text/plain": [
       "3"
      ]
     },
     "execution_count": 4,
     "metadata": {},
     "output_type": "execute_result"
    }
   ],
   "source": [
    "# Codigo\n",
    "1+2"
   ]
  }
 ],
 "metadata": {
  "celltoolbar": "Slideshow",
  "kernelspec": {
   "display_name": "Python 2",
   "language": "python",
   "name": "python2"
  },
  "language_info": {
   "codemirror_mode": {
    "name": "ipython",
    "version": 2
   },
   "file_extension": ".py",
   "mimetype": "text/x-python",
   "name": "python",
   "nbconvert_exporter": "python",
   "pygments_lexer": "ipython2",
   "version": "2.7.6"
  }
 },
 "nbformat": 4,
 "nbformat_minor": 0
}
