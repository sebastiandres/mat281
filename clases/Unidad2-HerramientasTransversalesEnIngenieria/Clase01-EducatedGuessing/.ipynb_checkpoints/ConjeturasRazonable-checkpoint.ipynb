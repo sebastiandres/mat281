{
 "cells": [
  {
   "cell_type": "code",
   "execution_count": 1,
   "metadata": {
    "collapsed": false,
    "slideshow": {
     "slide_type": "skip"
    }
   },
   "outputs": [
    {
     "data": {
      "text/html": [
       "<style>\n",
       "\n",
       "/*********************************************\n",
       " * COLORS FOR EXAMPLES\n",
       " *********************************************/\n",
       "span.good {color: #008000;}\n",
       "span.warning {color: #808000;}\n",
       "span.bad {color: #800000;}\n",
       "\n",
       "/*********************************************\n",
       " * GLOBAL STYLES\n",
       " *********************************************/\n",
       ".reveal h1 {color: #000000; text-shadow: 0px 0px 6px rgba(0, 0, 0, 0.2);}\n",
       ".reveal h2 {color: #222222; text-shadow: 0px 0px 5px rgba(0, 0, 0, 0.2);}\n",
       ".reveal h3 {color: #444444; text-shadow: 0px 0px 4px rgba(0, 0, 0, 0.2);}\n",
       ".reveal h4 {color: #666666; text-shadow: 0px 0px 3px rgba(0, 0, 0, 0.2);}\n",
       ".reveal h5 {color: #888888; text-shadow: 0px 0px 2px rgba(0, 0, 0, 0.2);}\n",
       ".reveal h6 {color: #AAAAAA; text-shadow: 0px 0px 1px rgba(0, 0, 0, 0.2);}\n",
       "\n",
       "/*********************************************\n",
       " * IMAGES\n",
       " *********************************************/\n",
       ".reveal section img { margin-left:auto; margin-right:auto;}\n",
       "\n",
       "</style>\n"
      ],
      "text/plain": [
       "<IPython.core.display.HTML object>"
      ]
     },
     "execution_count": 1,
     "metadata": {},
     "output_type": "execute_result"
    }
   ],
   "source": [
    "#Configuracion para recargar módulos y librerías cada vez \n",
    "%reload_ext autoreload\n",
    "%autoreload 2\n",
    "                                                                                                                                                                                                                                                                                                                                                                                                                                                                                                                                                                                                                                                                                \n",
    "%matplotlib inline\n",
    "                                                                                                                                                                                                                                                                                                                                                                                                                                                                                                                                                                                                                                                                                                                                                                                                                                                                                                                                                                                                                                                                                                                                                                                                                                                                                                                                                                                                                                                                                                                                                                                                                                                                                                                                                                                                                                                                                                                                                                                                                                                                                                                                                                                                                                                                                                                                                                                                                                                                                                                                                                                                                                                                                                                                                                                                                                                                                                                                                                                                                                                                                                                                                                                                                                                                                                                                                                                                                                                                                                                                                                                                                                                                                                                                                                                                                                                                                                                                                                                                                                                                                                                                                                                                                                                                                                                                                                                                                                                                                                                                                                                                                                                                                                                                                                                                                                                                                                                                                                                                                                                                                                                                                                                                                                                                                                                                                                                                                                                                                                                                                                                                                                                                                                                                                                                                                                                                                                                                                                                                                                                                                                                                                                                                                                                                                                                                                                                                                                                                                                                                                                                                                                                                                                                                                                                                                                                                                                                                                                                                                                                                                                                                                                                                                                                                                                                                                                                                                                                                                                                                                                                                                                                                                                                                                                                                                                                                                                                                                                                                                                                                                                                                                                                                                                                                                                                                                                                                                                                                                                                                                                                                                                                                                                                                                                                                                                                                                                                                                                                                                                                                                                                                                                                                                                                                                                                                                                                                                                                                                                                                                                                                                                                                                                                                                                                                                                                                                                                                                                                                                                                                                                                                                                                                                                                                                                                                                                                                                                                                                            \n",
    "from IPython.core.display import HTML\n",
    "\n",
    "HTML(open(\"style/mat281.css\", \"r\").read())"
   ]
  },
  {
   "cell_type": "markdown",
   "metadata": {
    "slideshow": {
     "slide_type": "slide"
    }
   },
   "source": [
    "<header class=\"w3-container w3-teal\">\n",
    "<img src=\"images/utfsm.png\" alt=\"\" height=\"100px\" align=\"left\"/>\n",
    "<img src=\"images/mat.png\" alt=\"\" height=\"100px\" align=\"right\"/>\n",
    "</header>\n",
    "<br/><br/><br/><br/><br/>\n",
    "# MAT281\n",
    "## Aplicaciones de la Matemática en la Ingeniería\n",
    "\n",
    "### Sebastián Flores\n",
    "\n",
    "https://www.github.com/sebastiandres/mat281\n"
   ]
  },
  {
   "cell_type": "markdown",
   "metadata": {
    "slideshow": {
     "slide_type": "slide"
    }
   },
   "source": [
    "## Unidad anterior: Introducción y Proyectos  \n",
    "\n",
    "* Introducción y reglas\n",
    "* Proyectos 2014 y 2015\n",
    "* Minería Subterránea"
   ]
  },
  {
   "cell_type": "markdown",
   "metadata": {
    "slideshow": {
     "slide_type": "slide"
    }
   },
   "source": [
    "## Unidad actual: Herramientas Transversales en Ingeniería\n",
    "* Conjeturas razonables y reglas de aproximación.\n",
    "* Adimensionalización y teorema pi.\n",
    "* Visualización y metodologías de trabajo."
   ]
  },
  {
   "cell_type": "markdown",
   "metadata": {
    "slideshow": {
     "slide_type": "slide"
    }
   },
   "source": [
    "## ¿Qué contenido aprenderemos hoy?\n",
    "\n",
    "* Conjeturas razonables\n",
    "* Reglas de aproximación\n"
   ]
  },
  {
   "cell_type": "markdown",
   "metadata": {
    "slideshow": {
     "slide_type": "slide"
    }
   },
   "source": [
    "## ¿Porqué aprenderemos ese contenido?\n",
    "\n",
    "* Conjeturas razonables\n",
    "* Reglas de aproximación\n",
    "\n",
    "Porque todo ingeniero necesita conocer el orden de magnitud de las soluciones que está buscando.\n"
   ]
  },
  {
   "cell_type": "markdown",
   "metadata": {
    "collapsed": true,
    "slideshow": {
     "slide_type": "slide"
    }
   },
   "source": [
    "##  MOOC\n",
    " * Soy ferviente partidario de los MOOCs. \n",
    " * Gran parte de esta clase está basada en el curso Street Fighting Mathematics de <a href=\"https://www.edx.org/course/street-fighting-math-mitx-6-sfmx\">Edx</a>.\n",
    " * Libro asociado disponible gratuitamente <a href=\"https://mitpress.mit.edu/books/street-fighting-mathematics\">en línea</a>.\n",
    " \n",
    " <img src=\"images/mooc.png\" alt=\"\" width=\"400\" align=\"middle\"/>"
   ]
  },
  {
   "cell_type": "markdown",
   "metadata": {
    "collapsed": true,
    "slideshow": {
     "slide_type": "slide"
    }
   },
   "source": [
    "##  MOOC\n",
    " * Como ICM, ¡hay que aprender nuevos conceptos y mantenerse actualizado!\n",
    " * En general, cursos interesantes (data science, big data, machine learning, parallel programming) se explican en python.\n",
    " \n",
    "  <img src=\"images/mooc.png\" alt=\"\" width=\"400\" align=\"middle\"/>"
   ]
  },
  {
   "cell_type": "markdown",
   "metadata": {
    "slideshow": {
     "slide_type": "slide"
    }
   },
   "source": [
    "## Notación\n",
    "* $=$ : igual a\n",
    "* $\\approx$ : aproximadamente (latex \\approx)\n",
    "* $\\sim$ : del orden de (latex \\sim)\n",
    "* $\\propto$ : proporcional (latex \\propto)\n"
   ]
  },
  {
   "cell_type": "markdown",
   "metadata": {
    "slideshow": {
     "slide_type": "slide"
    }
   },
   "source": [
    "## Notación\n",
    "* $=$ : Se usa para una igualdad.\n",
    "$$A = \\pi a b$$\n",
    "* $\\approx$ : Se usa para igualdad excepto por factor cercano a uno.\n",
    "$$A \\approx 3 a b$$\n",
    "* $\\sim$ : Se usa para igualdad excepto por factor sin dimensiones.\n",
    "$$A \\sim a b$$\n",
    "* $\\propto$ : Se usa para igualdad excepto por factor con dimensiones.\n",
    "$$A \\propto a $$"
   ]
  },
  {
   "cell_type": "markdown",
   "metadata": {
    "slideshow": {
     "slide_type": "slide"
    }
   },
   "source": [
    "## Regla 1-$\\pi$-10\n",
    "\n",
    "#### Motivación\n",
    " * Multiplicar y dividir números rápidamente.\n",
    "\n",
    "#### Técnica\n",
    "* Utilizar notación científica.\n",
    "* Multiplicar factores de 10.\n",
    "* Multiplicar factores numéricos utilizando la siguiente aproximación:\n",
    "  * Si $1 \\leq |x| < 2$: aproximar a 1.\n",
    "  * Si $2 \\leq |x| < 6$: aproximar a $\\pi$.\n",
    "  * Si $6 \\leq |x| < 10$: aproximar a 10.\n",
    "* Utilizar $\\pi^2 \\approx 10$."
   ]
  },
  {
   "cell_type": "markdown",
   "metadata": {
    "slideshow": {
     "slide_type": "slide"
    }
   },
   "source": [
    "## Regla 1-$\\pi$-10\n",
    "#### Ejemplo 1\n",
    "$$ 1,312 \\times 3,124 \\times 542 ≈ 1.3 \\times 10^3 \\times 3.1 \\times 10^3 · 5.4 · 10^2 $$\n",
    "$$\\approx 1.3 \\times 3.1 \\times 5.4 \\times 10^3 \\times 10^3 \\times 10^2$$\n",
    "$$\\approx 1 \\times \\pi \\times \\pi \\times  10^8$$\n",
    "$$\\approx \\pi^2  10^8$$\n",
    "$$\\approx 10^9$$"
   ]
  },
  {
   "cell_type": "markdown",
   "metadata": {
    "slideshow": {
     "slide_type": "fragment"
    }
   },
   "source": [
    "La respuesta exacta es:\n",
    "$$1,312 \\times 3,124 \\times 542 = 2,221,488,896 \\approx 2.2 \\cdot 10^9$$\n",
    "¡Suficientemente cerca!\n"
   ]
  },
  {
   "cell_type": "markdown",
   "metadata": {
    "slideshow": {
     "slide_type": "slide"
    }
   },
   "source": [
    "## Regla 1-$\\pi$-10\n",
    "#### Ejemplo 2\n",
    "$$4, 675 · 0.007432 · 892 ≈ 4.6 · 10^3 · 7.4 · 10^{ −3}  · 8.9 · 10^2$$\n",
    "$$\\approx 4.6 · 7.4 · 8.9 · 10^3 · 10^{ −3}  · 10^2$$\n",
    "$$\\approx \\pi · 10 · 10 · 10^2$$\n",
    "$$\\approx \\pi · 10^4$$"
   ]
  },
  {
   "cell_type": "markdown",
   "metadata": {
    "slideshow": {
     "slide_type": "fragment"
    }
   },
   "source": [
    "La respuesta exacta es:\n",
    "$$ 4,675 \\times 0.007432 \\times 892 = 30,992.1832 \\approx 3.1 · 10^4$$\n",
    "¡Increíblemente cerca!\n"
   ]
  },
  {
   "cell_type": "markdown",
   "metadata": {
    "slideshow": {
     "slide_type": "slide"
    }
   },
   "source": [
    "## Conjeturas razonables\n",
    "\n",
    "#### Educated Guessing\n",
    "\n",
    "*A guess that is made using judgment and some degree of knowledge.*\n",
    "\n",
    "#### Conjetura razonable\n",
    "El arte de las conjeturas razonables es mezclar adecuadamente fórmulas y valores conocidos, y completar lo desconocido con hipótesis razonables."
   ]
  },
  {
   "cell_type": "markdown",
   "metadata": {
    "slideshow": {
     "slide_type": "slide"
    }
   },
   "source": [
    "## Conjeturas razonables\n",
    "\n",
    "#### Ejercicio\n",
    "Sin googlear, anoten en un papel su estimación de la magnitud de los\n",
    "siguientes valores:\n",
    "* Litros de agua en la tierra.\n",
    "* Pañales utilizados en Chile al año.\n"
   ]
  },
  {
   "cell_type": "markdown",
   "metadata": {
    "slideshow": {
     "slide_type": "slide"
    }
   },
   "source": [
    "#### Conjeturas razonables\n",
    "##  Litros de agua en la tierra.\n",
    "\n",
    "#### Conocimiento relevante\n",
    "* Radio de la tierra: 6.000 km\n",
    "* Profundidad media del océano: 5 km\n",
    "\n",
    "#### HIpótesis simplificadora\n",
    "* Tierra es una esfera\n",
    "* Superficie del océano es 3/4 de la superficie terrestre\n",
    "\n"
   ]
  },
  {
   "cell_type": "markdown",
   "metadata": {
    "slideshow": {
     "slide_type": "slide"
    }
   },
   "source": [
    "#### Conjeturas razonables\n",
    "##  Litros de agua en la tierra.\n",
    "\n",
    "Superficie Océano × Profundidad Océano = 3/4 Superficie Tierra × Profundidad Océano\n",
    "$$= (3/4) \\ 4 \\pi \\ 6000^2 \\ [km^2] × 5 \\ [km]$$\n",
    "$$= 3 · 5 · \\pi · 36 · 10^6 \\ [km^3]$$\n",
    "$$= \\pi^4 · 10^7 \\ [km^3]$$\n",
    "$$= 10^9 \\ [km^3]$$\n"
   ]
  },
  {
   "cell_type": "markdown",
   "metadata": {
    "slideshow": {
     "slide_type": "fragment"
    }
   },
   "source": [
    "* Conjetura Razonable:\n",
    "$$10^9 [km^3]$$\n",
    "\n",
    "* Valor correcto :\n",
    "$$1.4 · 10^9 [km^3 ]$$\n",
    "\n",
    "40 % de error para un cálculo que tomó menos de 2 minutos.\n"
   ]
  },
  {
   "cell_type": "markdown",
   "metadata": {
    "slideshow": {
     "slide_type": "slide"
    }
   },
   "source": [
    "#### Conjeturas razonables\n",
    "##  Pañales utilizados en Chile al año\n",
    "\n",
    "#### Conocimiento relevante\n",
    "* Población en Chile: 17 millones.\n",
    "* Un bebe usa 4 pañales por día hasta los 2 años.\n",
    "\n",
    "#### HIpótesis simplificadora\n",
    "* Tasa de mortalidad es constante\n",
    "* Longevidad de 100 años.\n"
   ]
  },
  {
   "cell_type": "markdown",
   "metadata": {
    "slideshow": {
     "slide_type": "slide"
    }
   },
   "source": [
    "#### Conjeturas razonables\n",
    "##  Pañales utilizados en Chile al año\n",
    "\n",
    "Pañales utilizados en Chile por año\n",
    "\n",
    "= Número de Bebés en Chile × Pañales por Bebé por Día × Días en el año\n",
    "\n",
    "= Número de Bebés en Chile × $4$ [pañales/día] × $365$ [días/año]\n",
    "\n",
    "= Número de Bebes en Chile × $10^3$ [pañales/año]\n",
    "\n"
   ]
  },
  {
   "cell_type": "markdown",
   "metadata": {
    "slideshow": {
     "slide_type": "slide"
    }
   },
   "source": [
    "#### Conjeturas razonables\n",
    "##  Pañales utilizados en Chile al año\n",
    "\n",
    "¿Como estimar el número de bebes?\n",
    "* Los bebes usan pañales hasta los 2 años.\n",
    "* Por lo tanto el número de bebés en Chile es, aproximadamente, 2 veces el número de nacimientos anuales.\n",
    "* Si asumimos que la poblacion vive hasta los 100 años, y la tasa de mortalidad es constante, podemos estimar que nacen al año $17 · 10^6 /50 = 34 · 10^4$ bebés\n",
    "* Por tanto, hay $≈ 7 · 10^5$ bebés entre 0 y 2 años.\n",
    "* En conclusión, en Chile se utilizan ∼ $7 · 10^5 \\times 10^3 = 7 · 10^8$ pañales al año.\n",
    "* Lo más correcto es decir, en Chile se utilizan entre $10^8$ y $10^9$ panales al año."
   ]
  },
  {
   "cell_type": "markdown",
   "metadata": {
    "slideshow": {
     "slide_type": "slide"
    }
   },
   "source": [
    "#### Conjeturas razonables\n",
    "##  Pañales utilizados en Chile al año\n",
    "\n",
    "* Conjetura Razonable: $7 · 10^8$ [pañales/año]\n",
    "* Valor correcto: No hay\n",
    "\n",
    "El INE cifra en $2.4 · 10^5$ nacimientos anuales, y nuestra estimación fue de $3.4 · 10^5$ nacimientos anuales.\n",
    "\n",
    "\n"
   ]
  },
  {
   "cell_type": "markdown",
   "metadata": {
    "slideshow": {
     "slide_type": "slide"
    }
   },
   "source": [
    "#### Conjeturas razonables\n",
    "##  Aplicación\n",
    "\n",
    "¿Para modelar el desgaste de un neumático, se debe utilizar mecánica de sólidos o mecánica de la ruptura?"
   ]
  },
  {
   "cell_type": "markdown",
   "metadata": {
    "slideshow": {
     "slide_type": "fragment"
    }
   },
   "source": [
    "¿Cuánto se desgasta un neumático al dar una vuelta?"
   ]
  },
  {
   "cell_type": "markdown",
   "metadata": {
    "slideshow": {
     "slide_type": "slide"
    }
   },
   "source": [
    "#### Conjeturas razonables\n",
    "##  Aplicación\n",
    "\n",
    "<img src=\"images/neumatico.jpg\" alt=\"\" height=\"100px\" align=\"right\"/>\n",
    "\n",
    "#### Conocimiento previo\n",
    "* En 50,000 [km] un neumático se gasta aproximadamente 5 [mm]. \n",
    "* Un atomo tiene un diámetro del orden de magnitud de $10^{-9}$ [m]\n",
    "* Un neumático tiene un radio de $\\sim 50$ [cm].\n",
    "\n",
    "#### Hipótesis razonables\n",
    "* El neumático gira sin deslizar (patinar).\n"
   ]
  },
  {
   "cell_type": "markdown",
   "metadata": {
    "slideshow": {
     "slide_type": "slide"
    }
   },
   "source": [
    "#### Conjeturas razonables\n",
    "##  Aplicación\n",
    "50,000 km equivalen al  siguiente número de giros:\n",
    "$$\\frac{50,000 \\cdot 10^3 [m]}{2*\\pi*0.5 [m]} \\approx 10^7$$\n",
    "Desgaste = $5$ milímetros / $10^7$ vueltas\n",
    "\n",
    "Es decir el desgaste es $\\approx 5 \\cdot 10^{-10}$ metros/vuelta.\n",
    "\n",
    "* Esto quiere decir que en cada vuelta se pierde un espesor menor al tamaño de un átomo ($10^{-9}$ [m]).\n",
    "* Esto indica que la pérdida de material en la rueda no es en continuo, sino en un proceso más complejo."
   ]
  },
  {
   "cell_type": "markdown",
   "metadata": {
    "slideshow": {
     "slide_type": "slide"
    }
   },
   "source": [
    "## Unidades y Dimensiones\n",
    "\n",
    "Para poder comparar 2 mediciones, éstas deben tener las mismas\n",
    "dimensiones y las mismas unidades.\n"
   ]
  },
  {
   "cell_type": "markdown",
   "metadata": {
    "slideshow": {
     "slide_type": "fragment"
    }
   },
   "source": [
    "#### Ejemplo trivial\n",
    "“*Sebastian mide 5.7 pies y Camilo mide 2.0 metros.\n",
    "Evidentemente Sebastian es mas alto, pues 5.7 > 2.0*”\n"
   ]
  },
  {
   "cell_type": "markdown",
   "metadata": {
    "slideshow": {
     "slide_type": "slide"
    }
   },
   "source": [
    "## Unidades y Dimensiones\n",
    "#### Ejemplo no trivial\n",
    "\"*In Nigeria, a relatively economically strong country, the GDP\n",
    "[gross domestic product] is USD 99 billion. The net worth of Exxon is\n",
    "USD 119 billion. When multi- nationals have a net worth higher than\n",
    "the GDP of the country in which they operate, what kind of\n",
    "power relationship are we talking about?*\" "
   ]
  },
  {
   "cell_type": "markdown",
   "metadata": {
    "slideshow": {
     "slide_type": "fragment"
    }
   },
   "source": [
    "* GDP (PIB) se mide anualmente, por lo que la unidad correcta sería en\n",
    "USD/año.\n",
    "* El valor neto de la compañía se mide en USD. \n",
    "\n",
    "Las unidades no son consistentes y la comparación es incorrecta."
   ]
  },
  {
   "cell_type": "markdown",
   "metadata": {
    "slideshow": {
     "slide_type": "slide"
    }
   },
   "source": [
    "## Análisis dimensional de fórmulas\n",
    "Podemos aplicar análisis dimensional para obtener estimaciones de fórmulas.\n",
    "\n",
    "#### Ejemplo motivador\n",
    "$$A_a = \\int_{-\\infty}^{+\\infty} e^{-ax^2} dx$$\n",
    "\n",
    "¿Qué relación es correcta?: \n",
    "* $A_a \\sim a$\n",
    "* $A_a \\sim \\sqrt{a} $\n",
    "* $A_a \\sim 1/\\sqrt{a} $ \n",
    "* $A_a \\sim 1/a$"
   ]
  },
  {
   "cell_type": "markdown",
   "metadata": {
    "slideshow": {
     "slide_type": "slide"
    }
   },
   "source": [
    "#### Análisis dimensional de fórmulas\n",
    "## Observación crucial\n",
    "Funciones tales como $e^x$, $\\sin(x)$, $log(x)$ sólo pueden aplicarse a variables adimensionales.\n",
    "\n",
    "**¿Porqué?**"
   ]
  },
  {
   "cell_type": "markdown",
   "metadata": {
    "slideshow": {
     "slide_type": "fragment"
    }
   },
   "source": [
    "Considere la expansión en Serie de Taylor de las funciones:\n",
    "\n",
    "$$e^x = 1 + x + \\frac{1}{2!}x^2 + \\frac{1}{3!} x^3 + ... $$\n",
    "\n",
    "$$\\sin(x) = x - \\frac{1}{3!}x^3 + \\frac{1}{5!} x^5 + ...$$\n",
    "\n",
    "$$log(1+x) = x - \\frac{1}{2!}x^2 + \\frac{1}{3!} x^3 - \\frac{1}{4!} x^4 + ... $$\n",
    "\n",
    "El lado derecho sólo puede tener sentido si $x$ es adimensional."
   ]
  },
  {
   "cell_type": "markdown",
   "metadata": {
    "slideshow": {
     "slide_type": "slide"
    }
   },
   "source": [
    "#### Análisis dimensional de fórmulas\n",
    "## Análisis dimensional del ejemplo\n",
    "\n",
    "$$A_a = \\int_{-\\infty}^{+\\infty} e^{-ax^2} dx$$\n",
    "\n",
    "* Supongamos que $x$ tiene una cierta unidad $u$.\n",
    "\n",
    "* $e^{-ax^2}$ es adimensional, por lo tanto $a$ tiene dimensiones de $1/\\sqrt{u}$.\n",
    "* $dx$ tiene unidades de $u$.\n",
    "* La integral representa sólo una suma infinitesimal, por lo que no cambia las unidades.\n",
    "* $A_a$ debe tener unidades de $1 \\times u$. \n",
    "\n",
    "Por lo tanto, $A_a$ debe ser proporcional a $1/\\sqrt{a}$.  Por supuesto, la respuesta exacta es $\\sqrt{\\pi/a}$"
   ]
  },
  {
   "cell_type": "markdown",
   "metadata": {
    "slideshow": {
     "slide_type": "slide"
    }
   },
   "source": [
    "#### Análisis dimensional de fórmulas\n",
    "## Ejemplo 2\n",
    "\n",
    "$$A_b = \\int_{0}^{+\\infty} e^{-bx} dx$$\n"
   ]
  },
  {
   "cell_type": "markdown",
   "metadata": {
    "slideshow": {
     "slide_type": "slide"
    }
   },
   "source": [
    "#### Análisis dimensional de fórmulas\n",
    "## Análisis dimensional del ejemplo\n",
    "\n",
    "$$A_b = \\int_{0}^{+\\infty} e^{-bx} dx$$\n",
    "\n",
    "* Supongamos que $x$ tiene una cierta unidad $u$.\n",
    "\n",
    "* $e^{-bx}$ es adimensional, por lo tanto $b$ tiene dimensiones de $1/u$.\n",
    "* $dx$ tiene unidades de $u$.\n",
    "* La integral representa sólo una suma infinitesimal, por lo que no cambia las unidades.\n",
    "* $A_b$ debe tener unidades de $1 \\times u$. \n",
    "\n",
    "Por lo tanto, $A_b$ debe ser proporcional a $1/b$. En este caso, la respuesta exacta es $1/b$"
   ]
  },
  {
   "cell_type": "markdown",
   "metadata": {
    "slideshow": {
     "slide_type": "slide"
    }
   },
   "source": [
    "## Análisis Dimensional\n",
    "\n",
    "#### Definición\n",
    "* Simplificación de un fenómeno al reducir las magnitudes físicas involucradas al mínimo número posible. "
   ]
  },
  {
   "cell_type": "markdown",
   "metadata": {
    "slideshow": {
     "slide_type": "fragment"
    }
   },
   "source": [
    "#### Casos\n",
    "* Si el fenómeno no tiene ecuacion(es) asociadas conocidas: utilizaremos el **Teorema Buckingham** (aka Teorema $\\Pi$) que entrega las posibles variables adimensionales, es decir, el espacio dimensional mínimo a estudiar.\n",
    "\n",
    "* Si el fenómeno si tiene ecuacion(es) asociadas conocidas: realizaremos la **Adimensionalización** de las ecuaciones permite expresarla de la  manera más compacta posible."
   ]
  }
 ],
 "metadata": {
  "celltoolbar": "Slideshow",
  "kernelspec": {
   "display_name": "Python 2",
   "language": "python",
   "name": "python2"
  },
  "language_info": {
   "codemirror_mode": {
    "name": "ipython",
    "version": 2
   },
   "file_extension": ".py",
   "mimetype": "text/x-python",
   "name": "python",
   "nbconvert_exporter": "python",
   "pygments_lexer": "ipython2",
   "version": "2.7.6"
  }
 },
 "nbformat": 4,
 "nbformat_minor": 0
}
