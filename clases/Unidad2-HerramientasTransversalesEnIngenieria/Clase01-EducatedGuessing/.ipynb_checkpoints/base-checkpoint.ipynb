{
 "cells": [
  {
   "cell_type": "code",
   "execution_count": 1,
   "metadata": {
    "collapsed": false,
    "slideshow": {
     "slide_type": "skip"
    }
   },
   "outputs": [
    {
     "data": {
      "text/html": [
       "<style>\n",
       "\n",
       "/*********************************************\n",
       " * COLORS FOR EXAMPLES\n",
       " *********************************************/\n",
       "span.good {color: #008000;}\n",
       "span.warning {color: #808000;}\n",
       "span.bad {color: #800000;}\n",
       "\n",
       "/*********************************************\n",
       " * GLOBAL STYLES\n",
       " *********************************************/\n",
       ".reveal h1 {color: #000000; text-shadow: 0px 0px 6px rgba(0, 0, 0, 0.2);}\n",
       ".reveal h2 {color: #222222; text-shadow: 0px 0px 5px rgba(0, 0, 0, 0.2);}\n",
       ".reveal h3 {color: #444444; text-shadow: 0px 0px 4px rgba(0, 0, 0, 0.2);}\n",
       ".reveal h4 {color: #666666; text-shadow: 0px 0px 3px rgba(0, 0, 0, 0.2);}\n",
       ".reveal h5 {color: #888888; text-shadow: 0px 0px 2px rgba(0, 0, 0, 0.2);}\n",
       ".reveal h6 {color: #AAAAAA; text-shadow: 0px 0px 1px rgba(0, 0, 0, 0.2);}\n",
       "\n",
       "/*********************************************\n",
       " * IMAGES\n",
       " *********************************************/\n",
       ".reveal section img { margin-left:auto; margin-right:auto;}\n",
       "\n",
       "</style>\n"
      ],
      "text/plain": [
       "<IPython.core.display.HTML object>"
      ]
     },
     "execution_count": 1,
     "metadata": {},
     "output_type": "execute_result"
    }
   ],
   "source": [
    "#Configuracion para recargar módulos y librerías cada vez \n",
    "%reload_ext autoreload\n",
    "%autoreload 2\n",
    "                                                                                                                                                                                                                                                                                                                                                                                                                                                                                                                                                                                                                                                                                \n",
    "%matplotlib inline\n",
    "                                                                                                                                                                                                                                                                                                                                                                                                                                                                                                                                                                                                                                                                                                                                                                                                                                                                                                                                                                                                                                                                                                                                                                                                                                                                                                                                                                                                                                                                                                                                                                                                                                                                                                                                                                                                                                                                                                                                                                                                                                                                                                                                                                                                                                                                                                                                                                                                                                                                                                                                                                                                                                                                                                                                                                                                                                                                                                                                                                                                                                                                                                                                                                                                                                                                                                                                                                                                                                                                                                                                                                                                                                                                                                                                                                                                                                                                                                                                                                                                                                                                                                                                                                                                                                                                                                                                                                                                                                                                                                                                                                                                                                                                                                                                                                                                                                                                                                                                                                                                                                                                                                                                                                                                                                                                                                                                                                                                                                                                                                                                                                                                                                                                                                                                                                                                                                                                                                                                                                                                                                                                                                                                                                                                                                                                                                                                                                                                                                                                                                                                                                                                                                                                                                                                                                                                                                                                                                                                                                                                                                                                                                                                                                                                                                                                                                                                                                                                                                                                                                                                                                                                                                                                                                                                                                                                                                                                                                                                                                                                                                                                                                                                                                                                                                                                                                                                                                                                                                                                                                                                                                                                                                                                                                                                                                                                                                                                                                                                                                                                                                                                                                                                                                                                                                                                                                                                                                                                                                                                                                                                                                                                                                                                                                                                                                                                                                                                                                                                                                                                                                                                                                                                                                                                                                                                                                                                                                                                                                                                                            \n",
    "from IPython.core.display import HTML\n",
    "\n",
    "HTML(open(\"style/mat281.css\", \"r\").read())"
   ]
  },
  {
   "cell_type": "markdown",
   "metadata": {
    "slideshow": {
     "slide_type": "slide"
    }
   },
   "source": [
    "<header class=\"w3-container w3-teal\">\n",
    "<img src=\"images/utfsm.png\" alt=\"\" height=\"100px\" align=\"left\"/>\n",
    "<img src=\"images/mat.png\" alt=\"\" height=\"100px\" align=\"right\"/>\n",
    "</header>\n",
    "<br/><br/><br/><br/><br/>\n",
    "# MAT281\n",
    "## Aplicaciones de la Matemática en la Ingeniería\n",
    "\n",
    "### Sebastián Flores\n",
    "\n",
    "https://www.github.com/sebastiandres/mat281\n"
   ]
  },
  {
   "cell_type": "markdown",
   "metadata": {
    "slideshow": {
     "slide_type": "slide"
    }
   },
   "source": [
    "## Unidad anterior: Introducción y Proyectos  \n",
    "\n",
    "* Introducción y reglas\n",
    "* Proyectos 2014 y 2015\n",
    "* Minería Subterránea\n",
    "\n",
    "## Unidad actual: Herramientas Transversales en Ingeniería\n",
    "* Conejtura Razonables\n",
    "* Adimensionalización y Teorema Pi\n",
    "* Visualización y Metodologías de trabajo"
   ]
  },
  {
   "cell_type": "markdown",
   "metadata": {
    "slideshow": {
     "slide_type": "slide"
    }
   },
   "source": [
    "## ¿Qué contenido aprenderemos?\n",
    "\n",
    "* Conjeturas razonables\n",
    "* Reglas de aproximación\n"
   ]
  },
  {
   "cell_type": "markdown",
   "metadata": {
    "slideshow": {
     "slide_type": "slide"
    }
   },
   "source": [
    "## ¿Porqué aprenderemos ese contenido?\n",
    "\n",
    "* Conjeturas razonables\n",
    "* Reglas de aproximación\n",
    "  * Porque todo ingeniero necesita conocer el orden de magnitud de las soluciones que está buscando.\n"
   ]
  },
  {
   "cell_type": "markdown",
   "metadata": {
    "collapsed": true,
    "slideshow": {
     "slide_type": "slide"
    }
   },
   "source": [
    "##  MOOC\n",
    " * Soy ferviente partidario de los MOOCs. \n",
    " * Gran parte de esta clase está basada en el curso Street Fighting Mathematics de Edx (libro asociado disponible en línea).\n",
    " \n",
    " IMAGEN\n",
    " <img src=\"images/utfsm.png\" alt=\"\" height=\"50px\" align=\"middle\"/>"
   ]
  },
  {
   "cell_type": "markdown",
   "metadata": {
    "slideshow": {
     "slide_type": "slide"
    }
   },
   "source": [
    "## Notación\n",
    "* $=$ : igual a\n",
    "* $\\approx$ : aproximadamente (latex \\approx)\n",
    "* $\\sim$ : del orden de (latex \\sim)\n",
    "* $\\propto$ : proporcional (latex \\propto)\n"
   ]
  },
  {
   "cell_type": "markdown",
   "metadata": {
    "slideshow": {
     "slide_type": "slide"
    }
   },
   "source": [
    "## Notación\n",
    "* $=$ : Se usa para una igualdad.\n",
    "$$A = \\pi a b$$\n",
    "* $\\approx$ : Se usa para igualdad excepto por factor cercano a uno.\n",
    "$$A \\approx 3 a b$$\n",
    "* $\\sim$ : Se usa para igualdad excepto por factor sin dimensiones.\n",
    "$$A \\sim a b$$\n",
    "* $\\propto$ : Se usa para igualdad excepto por factor con dimensiones.\n",
    "$$A \\propto a $$"
   ]
  },
  {
   "cell_type": "markdown",
   "metadata": {
    "slideshow": {
     "slide_type": "slide"
    }
   },
   "source": [
    "## Regla 1-$\\pi$-10\n",
    "\n",
    "#### Motivación\n",
    "Multiplicar y dividir números rápidamente.\n",
    "\n",
    "#### Técnica\n",
    "* Utilizar notación científica.\n",
    "* Multiplicar factores de 10.\n",
    "* Multiplicar factores numericos utilizando la siguiente aproximacion:\n",
    "  * Si $1 \\leq |x| < 2$: aproximar a 1.\n",
    "  * Si $2 \\leq |x| < 6$: aproximar a $\\pi$.\n",
    "  * Si $6 \\leq |x| < 10$: aproximar a 10.\n",
    "* Utilizar $\\pi^2 ≈ 10$."
   ]
  },
  {
   "cell_type": "markdown",
   "metadata": {
    "slideshow": {
     "slide_type": "slide"
    }
   },
   "source": [
    "## Regla 1-$\\pi$-10\n",
    "#### Ejemplo 1\n",
    "$$ 1,312 \\times 3,124 \\times 542 ≈ 1.3 \\times 10^3 \\times 3.1 \\times 10^3 · 5.4 · 10^2 $$\n",
    "$$\\approx 1.3 \\times 3.1 \\times 5.4 \\times 10^3 \\times 10^3 \\times 10^2$$\n",
    "$$\\approx 1 \\times \\pi \\times \\pi \\times  10^8$$\n",
    "$$\\approx \\pi^2  10^8$$\n",
    "$$\\approx 10^9$$"
   ]
  },
  {
   "cell_type": "markdown",
   "metadata": {
    "slideshow": {
     "slide_type": "fragment"
    }
   },
   "source": [
    "La respuesta exacta es:\n",
    "\n",
    "$$1,312 \\times 3,124 \\times 542 = 2,221,488,896 \\approx 2.2 10^9$$\n",
    "¡Suficientemente cerca!\n"
   ]
  },
  {
   "cell_type": "markdown",
   "metadata": {
    "slideshow": {
     "slide_type": "slide"
    }
   },
   "source": [
    "## Regla 1-$\\pi$-10\n",
    "#### Ejemplo 2\n",
    "$$4, 675 · 0.007432 · 892 ≈ 4.6 · 10^3 · 7.4 · 10^{ −3}  · 8.9 · 10^2$$\n",
    "$$\\approx 4.6 · 7.4 · 8.9 · 10^3 · 10^{ −3}  · 10^2$$\n",
    "$$\\approx \\pi · 10 · 10 · 10^2$$\n",
    "$$\\approx \\pi · 10^4$$\n",
    "$$\\approx 3 · 10^4$$"
   ]
  },
  {
   "cell_type": "markdown",
   "metadata": {
    "slideshow": {
     "slide_type": "fragment"
    }
   },
   "source": [
    "La respuesta exacta es:\n",
    "\n",
    "$$ 4,675 \\times 0.007432 \\times 892 = 30,992.1832 \\approx 3.1 · 10^4$$\n",
    "\n",
    "¡Increíblemente cerca!\n"
   ]
  },
  {
   "cell_type": "markdown",
   "metadata": {
    "slideshow": {
     "slide_type": "slide"
    }
   },
   "source": [
    "## Conjeturas razonables\n",
    "\n",
    "#### Educated Guessing\n",
    "\n",
    "*A guess that is made using judgment and some degree of knowledge.*\n",
    "\n",
    "#### Conjetura razonable\n",
    "El arte de las conjeturas razonables es mezclar adecuadamente\n",
    "formulas y valores conocidos, y completar lo desconocido con\n",
    "hipotesis razonables.\n",
    "\n",
    "#### Ejercicio\n",
    "\n",
    "Sin googlear, anoten en un papel su estimacion de la magnitud de los\n",
    "siguientes valores:\n",
    "* Litros de agua en la tierra.\n",
    "* Pañales utilizados en Chile al año.\n"
   ]
  },
  {
   "cell_type": "markdown",
   "metadata": {
    "slideshow": {
     "slide_type": "slide"
    }
   },
   "source": [
    "#### Conjeturas razonables\n",
    "##  Litros de agua en la tierra.\n",
    "\n",
    "#### Conocimiento relevante\n",
    "* Radio de la tierra: 6.000 km\n",
    "* Profundidad media oceano: 5 km\n",
    "\n",
    "#### HIpótesis simplificadora\n",
    "* Tierra es una esfera\n",
    "* Superficie océano es es 3/4 de la superficie terrestre\n",
    "\n"
   ]
  },
  {
   "cell_type": "markdown",
   "metadata": {
    "slideshow": {
     "slide_type": "slide"
    }
   },
   "source": [
    "#### Conjeturas razonables\n",
    "##  Litros de agua en la tierra.\n",
    "\n",
    "Superficie Oceano × Profundidad Océano = 3/4 Superficie Tierra × Profundidad Oceano\n",
    "$$= (3/4) 4 \\pi 6000^2 [km^2] × (5 [km])$$\n",
    "$$= 3 · 5 · \\pi · 36 · 106 [km^3 ]$$\n",
    "$$= \\pi^4 · 10^7 [km^3]$$\n",
    "$$= 10^9 [km^3]$$\n",
    "\n",
    "\n"
   ]
  },
  {
   "cell_type": "markdown",
   "metadata": {
    "slideshow": {
     "slide_type": "fragment"
    }
   },
   "source": [
    "* Conjetura Razonable:\n",
    "$$10^9 [km^3]$$\n",
    "\n",
    "* Valor correcto1 :\n",
    "$$1.4 · 10^9 [km^3 ]$$\n",
    "\n",
    "40 % de error para un calculo que tomó menos de 2 minutos.\n"
   ]
  },
  {
   "cell_type": "markdown",
   "metadata": {
    "slideshow": {
     "slide_type": "slide"
    }
   },
   "source": [
    "#### Conjeturas razonables\n",
    "##  Pañales utilizados en Chile al año\n",
    "\n",
    "#### Conocimiento relevante\n",
    "* Poblacion en Chile: 17 millones.\n",
    "* Un bebe usa 4 panales por día hasta los 2 anos.\n",
    "\n",
    "#### HIpótesis simplificadora\n",
    "* Tierra es una esfera\n",
    "* Superficie océano es es 3/4 de la superficie terrestre\n",
    "\n"
   ]
  },
  {
   "cell_type": "markdown",
   "metadata": {
    "slideshow": {
     "slide_type": "slide"
    }
   },
   "source": [
    "#### Conjeturas razonables\n",
    "##  Pañales utilizados en Chile al año\n",
    "\n",
    "Numero de Bebes en Chile × Pañales por Bebe por Día × Días en el año\n",
    "\n",
    "= Número de Bebés en Chile × 4 [pañales/día] × 365 [días/año]\n",
    "\n",
    "= Numero de Bebes en Chile × $10^3$ [pañales/año]\n",
    "\n"
   ]
  },
  {
   "cell_type": "markdown",
   "metadata": {
    "slideshow": {
     "slide_type": "slide"
    }
   },
   "source": [
    "#### Conjeturas razonables\n",
    "##  Pañales utilizados en Chile al año\n",
    "\n",
    "¿Como\n",
    " estimar el numero\n",
    " de bebes?\n",
    " \n",
    " * Los bebes\n",
    "  ́ usan panales\n",
    " hasta los 2 anos.\n",
    "* Por lo tanto el numero\n",
    "de bebes\n",
    "  ́ en chile es, aproximadamente, 2 veces el numero\n",
    " de nacimientos anuales.\n",
    "* Si asumimos que la poblacion\n",
    "  ́ vive hasta los 100 anos,\n",
    "  ̃\n",
    " y la tasa\n",
    "de mortalidad es constante, podemos estimar que nacen al ano\n",
    "  ̃\n",
    "17 · 106 /50 = 34 · 104 bebes\n",
    "  ́\n",
    "* Por tanto, hay ≈ 7 · 105 bebes\n",
    "  ́ entre 0 y 2 anos.\n",
    "  ̃\n",
    "\n",
    "* En conclusion,\n",
    "  ́ en Chile se utilizan ∼ 7 · 108\n",
    " panales\n",
    "  ̃\n",
    " al ano.\n",
    "  ̃\n",
    "* Lo mas\n",
    "  ́ correcto es decir, en Chile se utilizan entre 108 y 109\n",
    "panales\n",
    "  ̃\n",
    " al ano."
   ]
  },
  {
   "cell_type": "markdown",
   "metadata": {
    "slideshow": {
     "slide_type": "slide"
    }
   },
   "source": [
    "#### Conjeturas razonables\n",
    "##  Pañales utilizados en Chile al año\n",
    "\n",
    "* Conjetura Razonable: $7 · 10^8$ [pañales/año]\n",
    "* Valor correcto: No hay\n",
    "\n",
    "El INE cifra en $2.4 · 10^5$ nacimientos anuales, y nuestra estimación fue de $3.4 · 10^5$ nacimientos anuales-\n",
    "\n",
    "\n"
   ]
  },
  {
   "cell_type": "markdown",
   "metadata": {
    "slideshow": {
     "slide_type": "slide"
    }
   },
   "source": [
    "## Unidades y Dimensiones\n",
    "\n",
    "Para poder comparar 2 mediciones, éstas deben tener las mismas\n",
    "dimensiones y las mismas unidades.\n"
   ]
  },
  {
   "cell_type": "markdown",
   "metadata": {
    "slideshow": {
     "slide_type": "fragment"
    }
   },
   "source": [
    "#### Ejemplo Trivial\n",
    "“Sebastian mide 5.7 pies y Camilo mide 2.0 metros.\n",
    "Evidentemente Sebastian es mas alto, pues 5.7 > 2.0”\n"
   ]
  },
  {
   "cell_type": "markdown",
   "metadata": {
    "slideshow": {
     "slide_type": "slide"
    }
   },
   "source": [
    "## Unidades y Dimensiones\n",
    "#### Ejemplo no trivial\n",
    "\"In Nigeria, a relatively economically strong country, the GDP\n",
    "[gross domestic product] is USD 99 billion. The net worth of Exxon is\n",
    "USD 119 billion. When multi- nationals have a net worth higher than\n",
    "the GDP of the country in which they operate, what kind of\n",
    "power relationship are we talking about?\" "
   ]
  },
  {
   "cell_type": "markdown",
   "metadata": {
    "slideshow": {
     "slide_type": "fragment"
    }
   },
   "source": [
    "* GDP (PIB) se mide anualmente, por lo que la unidad correcta sería en\n",
    "USD/año.\n",
    "* El valor neto de la compañía se mide en USD. Las unidades no\n",
    "son consistentes y la comparacion es incorrecta."
   ]
  },
  {
   "cell_type": "markdown",
   "metadata": {
    "slideshow": {
     "slide_type": "slide"
    }
   },
   "source": [
    "## Análisis dimensional de fórmulas\n",
    "Podemos aplicar analisis\n",
    " dimensional para obtener estimaciones de\n",
    "formulas complejas.\n",
    "#### Ejemplo motivador\n",
    "$$A_a = \\int_{-\\infty}^{+\\infty} e^{-ax^2} dx$$\n",
    "\n",
    "¿Qué relación es correcta?: \n",
    "* $A_a \\sim a$\n",
    "* $A_a \\sim \\sqrt{a} $\n",
    "* $A_a \\sim 1/\\sqrt{a} $ \n",
    "* $A_a \\sim 1/a$"
   ]
  },
  {
   "cell_type": "markdown",
   "metadata": {
    "slideshow": {
     "slide_type": "slide"
    }
   },
   "source": [
    "#### Análisis dimensional de fórmulas\n",
    "## Observación crucial\n",
    "Funciones tales como $e^x$, $\\sin(x)$, $log(x)$ sólo pueden aplicarse a variables adimensionales.\n",
    "\n",
    "¿ Porqué ?"
   ]
  },
  {
   "cell_type": "markdown",
   "metadata": {
    "slideshow": {
     "slide_type": "fragment"
    }
   },
   "source": [
    "Considere la expansión en Serie de Taylor de las funciones:\n",
    "$$e^x = 1 + x + \\frac{1}{2!}x^2 + \\frac{1}{3!} x^3 + ... $$\n",
    "$$\\sin(x) = x - \\frac{1}{3!}x^3 + \\frac{1}{5!} x^5 + ...$$\n",
    "$$log(1+x) = x - \\frac{1}{2!}x^2 + \\frac{1}{3!} x^3 - \\frac{1}{4!} x^4 + ... $$\n",
    "El lado derecho sólo puede tener sentido si $x$ es adimensional."
   ]
  },
  {
   "cell_type": "markdown",
   "metadata": {
    "slideshow": {
     "slide_type": "slide"
    }
   },
   "source": [
    "#### Análisis dimensional de fórmulas\n",
    "## Análisis dimensional del ejemplo\n",
    "\n",
    "$$A_a = \\int_{-\\infty}^{+\\infty} e^{-ax^2} dx$$\n",
    "\n",
    "* Supongamos que $x$ tiene una cierta unidad $U$.\n",
    "\n",
    "* $e^{-ax^2}$ es adimensional, por lo tanto $a$ tiene dimensiones de $\\sqrt{U}$.\n",
    "* $dx$ tiene unidades de $U$.\n",
    "* La integral representa solo suma infinitesimal, por lo que no cambia las unidades.\n",
    "* $A_a$ debe tener unidades de $1 \\times U$. \n",
    "\n",
    "Por lo tanto, $A_a$ debe ser proporcional a $1/\\sqrt{a}$. \n",
    "\n",
    "Por supuesto, la respuesta exacta es $\\sqrt{\\pi/a}$"
   ]
  },
  {
   "cell_type": "markdown",
   "metadata": {
    "slideshow": {
     "slide_type": "slide"
    }
   },
   "source": [
    "#### Análisis dimensional de fórmulas\n",
    "## Ejemplo 2\n",
    "\n",
    "$$A_b = \\int_{-\\infty}^{+\\infty} e^{-bx} dx$$\n"
   ]
  },
  {
   "cell_type": "markdown",
   "metadata": {
    "slideshow": {
     "slide_type": "slide"
    }
   },
   "source": [
    "#### Análisis dimensional de fórmulas\n",
    "## Análisis dimensional del ejemplo 2\n",
    "\n"
   ]
  },
  {
   "cell_type": "markdown",
   "metadata": {
    "slideshow": {
     "slide_type": "slide"
    }
   },
   "source": [
    "## Análisis Dimensional\n",
    "\n",
    "#### Definición\n",
    "Analisis\n",
    "  ́\n",
    " Dimensional: simplificacion\n",
    "  ́ de un fenomeno\n",
    "  ́\n",
    " al reducir las\n",
    "magnitudes f ́ısicas involucradas al m ́ınimo numero\n",
    "  ́\n",
    " posible.\n",
    " "
   ]
  },
  {
   "cell_type": "markdown",
   "metadata": {
    "slideshow": {
     "slide_type": "slide"
    }
   },
   "source": [
    "#### Casos\n",
    "* Si el fenómeno no tiene ecuacion(es) asociadas conocidas: utilizaremos el **Teorema Buckingham** (aka Teorema $\\Pi$) que entrega las posibles variables adimensionales, es decir, el espacio dimensional mínimo a estudiar.\n",
    "\n",
    "* Si el fenómeno si tiene ecuacion(es) asociadas conocidas: realizaremos la **Adimensionalización** de las ecuaciones permite expresarla de la  manera más compacta posible."
   ]
  }
 ],
 "metadata": {
  "celltoolbar": "Slideshow",
  "kernelspec": {
   "display_name": "Python 2",
   "language": "python",
   "name": "python2"
  },
  "language_info": {
   "codemirror_mode": {
    "name": "ipython",
    "version": 2
   },
   "file_extension": ".py",
   "mimetype": "text/x-python",
   "name": "python",
   "nbconvert_exporter": "python",
   "pygments_lexer": "ipython2",
   "version": "2.7.6"
  }
 },
 "nbformat": 4,
 "nbformat_minor": 0
}
