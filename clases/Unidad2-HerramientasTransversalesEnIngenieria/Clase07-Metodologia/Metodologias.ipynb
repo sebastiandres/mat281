{
 "cells": [
  {
   "cell_type": "code",
   "execution_count": null,
   "metadata": {
    "collapsed": false,
    "slideshow": {
     "slide_type": "skip"
    }
   },
   "outputs": [],
   "source": [
    "\"\"\"\n",
    "IPython Notebook v4.0 para python 2.7\n",
    "Librerías adicionales: Ninguna.\n",
    "Contenido bajo licencia CC-BY 4.0. Código bajo licencia MIT. (c) Sebastian Flores.\n",
    "\"\"\"\n",
    "\n",
    "# Configuracion para recargar módulos y librerías \n",
    "%reload_ext autoreload\n",
    "%autoreload 2\n",
    "\n",
    "from IPython.core.display import HTML\n",
    "\n",
    "HTML(open(\"style/mat281.css\", \"r\").read())"
   ]
  },
  {
   "cell_type": "markdown",
   "metadata": {
    "slideshow": {
     "slide_type": "slide"
    }
   },
   "source": [
    "<header class=\"w3-container w3-teal\">\n",
    "<img src=\"images/utfsm.png\" alt=\"\" height=\"100px\" align=\"left\"/>\n",
    "<img src=\"images/mat.png\" alt=\"\" height=\"100px\" align=\"right\"/>\n",
    "</header>\n",
    "<br/><br/><br/><br/><br/>\n",
    "# MAT281\n",
    "## Aplicaciones de la Matemática en la Ingeniería\n",
    "\n",
    "### Sebastián Flores\n",
    "\n",
    "https://www.github.com/usantamaria/mat281\n"
   ]
  },
  {
   "cell_type": "markdown",
   "metadata": {
    "slideshow": {
     "slide_type": "slide"
    }
   },
   "source": [
    "## Clases anteriores\n",
    "\n",
    "* Visualización\n",
    "* Lab01 - Python Numérico\n"
   ]
  },
  {
   "cell_type": "markdown",
   "metadata": {
    "slideshow": {
     "slide_type": "slide"
    }
   },
   "source": [
    "## ¿Qué contenido aprenderemos?\n",
    "\n",
    "* Relaciones interpersonales\n",
    "* Metodologías de desarrollo"
   ]
  },
  {
   "cell_type": "markdown",
   "metadata": {
    "slideshow": {
     "slide_type": "slide"
    }
   },
   "source": [
    "## ¿Porqué aprenderemos ese contenido?\n",
    "\n",
    "* Relaciones interpersonales\n",
    "\n",
    "La parte más difícil y conflictiva de un proyecto suele ser la parte humana. Aprender a manejar situaciones laborales y relaciones humanas es parte central del trabajo como ingeniero, sin embargo, ¡no se enseña!\n",
    "\n",
    "* Metodologías de desarrollo\n",
    "\n",
    "Existen metodologías conocidas de desarrollo de proyectos que resulta conveniente conocer y utilizar."
   ]
  },
  {
   "cell_type": "markdown",
   "metadata": {
    "slideshow": {
     "slide_type": "slide"
    }
   },
   "source": [
    "## Cultura Popular\n",
    "\n",
    "#### Principio de Incompetencia de Peter\n",
    "\n",
    "#### Principio de Hanlon\n",
    "\n",
    "#### Ley de Parkinson"
   ]
  },
  {
   "cell_type": "markdown",
   "metadata": {
    "slideshow": {
     "slide_type": "slide"
    }
   },
   "source": [
    "## Cultura Popular\n",
    "\n",
    "#### Principio de Incompetencia de Peter\n",
    "En una jerarquía, todo empleado tiende a ascender hasta su nivel de incompetencia: la nata sube hasta cortarse.\n",
    "\n",
    "#### Principio de Hanlon\n",
    "Nunca atribuyas a la maldad lo que puede ser explicado por la estupidez.\n",
    "\n",
    "#### Ley de Parkinson\n",
    "El trabajo se expande hasta llenar el tiempo disponible para su realización."
   ]
  },
  {
   "cell_type": "markdown",
   "metadata": {
    "slideshow": {
     "slide_type": "slide"
    }
   },
   "source": [
    "## Relaciones Interpersonales\n",
    "\n",
    "#### Disclaimar\n",
    "Copyright de contenido e imágenes: Dr. Tony Alessandra, creador de \"The Platinium Rule\"."
   ]
  },
  {
   "cell_type": "markdown",
   "metadata": {
    "slideshow": {
     "slide_type": "slide"
    }
   },
   "source": [
    "#### Silver Rule\n",
    "*One should not treat others in ways that one would not like to be treated*:\n",
    "No trates a otros en una forma que no quieras ser tratado.\n",
    "\n",
    "#### Golden Rule\n",
    "*One should treat others as one would like others to treat oneself*: Trata a otros en la misma forma que quieras ser tratado.\n",
    "\n",
    "#### Platinium Rule\n",
    "*Treat others the way they want to be treated*: Trata a otros en la forma que ellos quieren ser tratados"
   ]
  },
  {
   "cell_type": "markdown",
   "metadata": {
    "slideshow": {
     "slide_type": "slide"
    }
   },
   "source": [
    "#### Relaciones Interpersonales - Platinium Rule\n",
    "Enfoque reduccionista y simplista, pero sencillo de recordar y aplicar.\n",
    "\n",
    "Hay 4 tipos básicos de personalidad:\n",
    "\n",
    "1. Pensador (Thinker)\n",
    "1. Director (Director)\n",
    "1. Relacionador (Relater)\n",
    "1. Sociabilizador (Socializer)"
   ]
  },
  {
   "cell_type": "markdown",
   "metadata": {
    "slideshow": {
     "slide_type": "slide"
    }
   },
   "source": [
    "#### Relaciones Interpersonales: Platinium Rule\n",
    "<img src=\"images/PR1.png\" alt=\"\" width=\"700px\" align=\"middle\"/>"
   ]
  },
  {
   "cell_type": "markdown",
   "metadata": {
    "slideshow": {
     "slide_type": "slide"
    }
   },
   "source": [
    "#### Relaciones Interpersonales: Platinium Rule\n",
    "El \"cliché\":\n",
    "1. ***Pensador (Thinker)***: científico/contador.\n",
    "1. ***Director (Director)***: gerente/sargento.\n",
    "1. ***Relacionador (Relater)***: enfermero/sicólogo.\n",
    "1. ***Sociabilizador (Socializer)***: vendedor de autos/publicista."
   ]
  },
  {
   "cell_type": "markdown",
   "metadata": {
    "slideshow": {
     "slide_type": "slide"
    }
   },
   "source": [
    "#### Relaciones Interpersonales: Platinium Rule\n",
    "\n",
    "## 1. Pensador - Thinker\n",
    "\n",
    "#### ¿Qué hacen bien?\n",
    "* Organizar y planificar.\n",
    "* Rápido para pensar, pero lento para hablar y actuar.\n",
    "* Trabajar individualmente.\n",
    "\n",
    "#### ¿Qué les cuesta?\n",
    "* Trabajar con gente desorganizada o en ambientes caóticos.\n",
    "* Hablar de temas personales.\n",
    "* Trabajar en grupo.\n",
    "* Instrucciones incompletas o confusas."
   ]
  },
  {
   "cell_type": "markdown",
   "metadata": {
    "slideshow": {
     "slide_type": "slide"
    }
   },
   "source": [
    "#### Relaciones Interpersonales: Platinium Rule\n",
    "\n",
    "## 2. Director\n",
    "\n",
    "#### ¿Qué hacen bien?\n",
    "* Tomar el control.\n",
    "* Realizar decisiones bajo riesgo.\n",
    "* Sobreponerse a obstáculos.\n",
    "\n",
    "#### ¿Qué les cuesta?\n",
    "* Tareas repetitivas.\n",
    "* Ser diplomáticos.\n",
    "* Reglas y regulaciones.\n",
    "* No son tímidos, pero sí reservados de temas personales."
   ]
  },
  {
   "cell_type": "markdown",
   "metadata": {
    "slideshow": {
     "slide_type": "slide"
    }
   },
   "source": [
    "#### Relaciones Interpersonales: Platinium Rule\n",
    "\n",
    "## 3. Relater - Relacionador\n",
    "\n",
    "#### ¿Qué hacen bien?\n",
    "* Amigables y sensibles: buenos oyentes.\n",
    "* Construir redes de amigos.\n",
    "* Coordinar y cooperar con otros.\n",
    "\n",
    "#### ¿Qué les cuesta?\n",
    "* Competir.\n",
    "* Trabajar con gente dictatorial o poco amigable.\n",
    "* Tomar decisiones grandes, propensos a rechazar los cambios.\n",
    "* Emitir opiniones contrarias.\n",
    "\n"
   ]
  },
  {
   "cell_type": "markdown",
   "metadata": {
    "slideshow": {
     "slide_type": "slide"
    }
   },
   "source": [
    "#### Relaciones Interpersonales: Platinium Rule\n",
    "\n",
    "## 4. Socializer - Sociabilizador\n",
    "\n",
    "#### ¿Qué hacen bien?\n",
    "* Inspirar a otros a tomar acción.\n",
    "* Pensar rápido: intuitivos, optimistas, creativos.\n",
    "* Llenos de ideas, pero impulsivos.\n",
    "\n",
    "#### ¿Qué les cuesta?\n",
    "* Restricciones.\n",
    "* Reportes formales o contabilidad.\n",
    "* Rutina.\n",
    "* Repetir acciones."
   ]
  },
  {
   "cell_type": "markdown",
   "metadata": {
    "slideshow": {
     "slide_type": "slide"
    }
   },
   "source": [
    "#### Ejercicio\n",
    "Piensen en alguien (familiar, amigo, conocido, profesor, etc.) para cada tipo de personalidad.\n",
    "\n",
    "Para relacionarse con cada tipo de personalidad hay que **entregar lo que a la otra personalidad le parece importante**."
   ]
  },
  {
   "cell_type": "markdown",
   "metadata": {
    "slideshow": {
     "slide_type": "slide"
    }
   },
   "source": [
    "#### Relaciones Interpersonales: Platinium Rule\n",
    "<img src=\"images/PR4.png\" alt=\"\" width=\"600px\" align=\"middle\"/>"
   ]
  },
  {
   "cell_type": "markdown",
   "metadata": {
    "slideshow": {
     "slide_type": "slide"
    }
   },
   "source": [
    "#### Relaciones Interpersonales: Platinium Rule\n",
    "<img src=\"images/PR4a.png\" alt=\"\" width=\"500px\" align=\"middle\"/>"
   ]
  },
  {
   "cell_type": "markdown",
   "metadata": {
    "slideshow": {
     "slide_type": "slide"
    }
   },
   "source": [
    "#### Relaciones Interpersonales: Platinium Rule\n",
    "<img src=\"images/PR4b.png\" alt=\"\" width=\"500px\" align=\"middle\"/>"
   ]
  },
  {
   "cell_type": "markdown",
   "metadata": {
    "slideshow": {
     "slide_type": "slide"
    }
   },
   "source": [
    "#### Relaciones Interpersonales: Platinium Rule\n",
    "<img src=\"images/PR4c.png\" alt=\"\" width=\"500px\" align=\"middle\"/>"
   ]
  },
  {
   "cell_type": "markdown",
   "metadata": {
    "slideshow": {
     "slide_type": "slide"
    }
   },
   "source": [
    "#### Relaciones Interpersonales: Platinium Rule\n",
    "<img src=\"images/PR4d.png\" alt=\"\" width=\"500px\" align=\"middle\"/>"
   ]
  },
  {
   "cell_type": "markdown",
   "metadata": {
    "slideshow": {
     "slide_type": "slide"
    }
   },
   "source": [
    "#### Relaciones Interpersonales: Platinium Rule\n",
    "<img src=\"images/PR5.png\" alt=\"\" width=\"500px\" align=\"middle\"/>"
   ]
  },
  {
   "cell_type": "markdown",
   "metadata": {
    "slideshow": {
     "slide_type": "slide"
    }
   },
   "source": [
    "#### Relaciones Interpersonales: Platinium Rule\n",
    "Como enfrentar cada tipo de personalidad:\n",
    "1. Con Pensadores, sé detallado, bien preparado y paciente.\n",
    "1. Con Directores, sé eficiente y competente.\n",
    "1. Con Relacionadores, sé sincero y no amenazante.\n",
    "1. Con Sociabilizadores, interésate por ellos y sus historias.\n"
   ]
  },
  {
   "cell_type": "markdown",
   "metadata": {
    "slideshow": {
     "slide_type": "slide"
    }
   },
   "source": [
    "#### Relaciones Interpersonales: Platinium Rule\n",
    "\n",
    "Y ahora, el ***test***."
   ]
  },
  {
   "cell_type": "markdown",
   "metadata": {
    "slideshow": {
     "slide_type": "fragment"
    }
   },
   "source": [
    "#### Evaluación del test"
   ]
  },
  {
   "cell_type": "markdown",
   "metadata": {
    "slideshow": {
     "slide_type": "fragment"
    }
   },
   "source": [
    "* Preguntas $4 \\ i + 1$: Multiplicar por *$+i$*\n",
    "* Preguntas $4 \\ i + 2$: Multiplicar por *$-1$* \n",
    "* Preguntas $4 \\ i + 3$: Multiplicar por *$-i$*\n",
    "* Preguntas $4 \\ i + 0$: Multiplicar por *$+1$*\n",
    "* Sumar puntajes de preguntas.\n",
    "* ¿Qué número complejo obtuvo? \n",
    "* ¿En qué parte del plano complejo se sitúa?"
   ]
  },
  {
   "cell_type": "markdown",
   "metadata": {
    "slideshow": {
     "slide_type": "slide"
    }
   },
   "source": [
    "#### Relaciones Interpersonales: Platinium Rule\n",
    "<img src=\"images/PR1.png\" alt=\"\" width=\"700px\" align=\"middle\"/>"
   ]
  },
  {
   "cell_type": "markdown",
   "metadata": {
    "slideshow": {
     "slide_type": "slide"
    }
   },
   "source": [
    "#### Relaciones Interpersonales: Platinium Rule\n",
    "\n",
    "* La personalidad que uno cree/quiere tener es distinta de la que los demás perciben de uno mismo.\n",
    "* Una misma persona puede presentar diversas personalidades: familia, trabajo, amigos. "
   ]
  },
  {
   "cell_type": "markdown",
   "metadata": {
    "slideshow": {
     "slide_type": "slide"
    }
   },
   "source": [
    "## Metodologías de Trabajo\n",
    "* Waterfall Develpment\n",
    "* Agile Development"
   ]
  },
  {
   "cell_type": "markdown",
   "metadata": {
    "slideshow": {
     "slide_type": "slide"
    }
   },
   "source": [
    "#### Metodologías de Trabajo\n",
    "\n",
    "***Cascada (Waterfall)***: \n",
    "* Cliente define requerimientos al inicio y empresa cumple, etapa a etapa, con desarrollo especificado.\n",
    "* Orientado a proyectos de alta complejidad, con horizontes de tiempo de años.\n",
    "\n",
    "*** Desarrollo Ágil (Agile)***: \n",
    "* Trabajo codo a codo con cliente mediante iteraciones constantes.\n",
    "* Orientado a proyectos de alta variabilidad, con horizontes de tiempo de semanas/meses."
   ]
  },
  {
   "cell_type": "markdown",
   "metadata": {
    "slideshow": {
     "slide_type": "slide"
    }
   },
   "source": [
    "#### Metodologías de Trabajo\n",
    "##  Waterfall\n",
    "Enfoque metodológico que ordena rigurosa4ente las etapas del proceso para el desarrollo de software, de tal forma que el inicio de cada etapa debe esperar a la finalización de la etapa anterior.\n",
    "\n",
    "<img src=\"images/MT1.png\" alt=\"\" width=\"400px\" align=\"middle\"/>"
   ]
  },
  {
   "cell_type": "markdown",
   "metadata": {
    "slideshow": {
     "slide_type": "slide"
    }
   },
   "source": [
    "#### Metodologías de Trabajo: Waterfall\n",
    "Ventajas\n",
    "* Promueve análisis sobre improvisación:\n",
    "    *Definir antes que diseñar, diseñar antes de codificar.*\n",
    "* Modelo tradicional: ampliamente conocido y utilizado con frecuencia.\n",
    "* Fácil de implementar, entender y dirigir.\n",
    "* Requiere de menos capital y herramientas para hacerlo funcionar de manera óptima."
   ]
  },
  {
   "cell_type": "markdown",
   "metadata": {
    "slideshow": {
     "slide_type": "slide"
    }
   },
   "source": [
    "#### Metodologías de Trabajo: Waterfall\n",
    "Desventajas\n",
    "* Proyectos en el mundo real no son lineales; el cliente siempre tiene ideas adicionales. Involucrar tardíamente al cliente conlleva disconformidad y fracaso del proyecto.\n",
    "* Secuencialismo: etapa $i+1$ no se puede llevar a cabo a menos que se haya culminado la etapa $i$.\n",
    "* Demoras: No es posible paralelizar etapas y el software sólo puede validarse una vez que todas las etapas anteriores han finalizado.\n",
    "* Propenso a costos adicionales: errores no detectados en etapa $i$ conducen a cambios en todas las etapas posteriores ya realizadas.\n",
    "* Promueve respeto y obediencia sobre innovación y creatividad.\n"
   ]
  },
  {
   "cell_type": "markdown",
   "metadata": {
    "slideshow": {
     "slide_type": "slide"
    }
   },
   "source": [
    "#### Relaciones Interpersonales: Platinium Rule\n",
    "<img src=\"images/treeswing.jpg\" alt=\"\" width=\"900px\" align=\"middle\"/>"
   ]
  },
  {
   "cell_type": "markdown",
   "metadata": {
    "slideshow": {
     "slide_type": "slide"
    }
   },
   "source": [
    "#### Metodologías de Trabajo\n",
    "##  Agile\n",
    "Enfoque metodológico que promueve el desarrollo iterativo e incremental, donde los requisitos y soluciones evolucionan mediante la colaboración de grupos auto-organizados y multidisciplinarios.\n",
    "<img src=\"images/MT2.png\" alt=\"\" width=\"400px\" align=\"middle\"/>"
   ]
  },
  {
   "cell_type": "markdown",
   "metadata": {
    "slideshow": {
     "slide_type": "slide"
    }
   },
   "source": [
    "#### Metodologías de Trabajo\n",
    "##  Agile\n",
    "Enfoque metodológico que promueve el desarrollo iterativo e incremental, donde los requisitos y soluciones evolucionan mediante la colaboración de grupos auto-organizados y multidisciplinarios.\n",
    "<img src=\"images/MT3.png\" alt=\"\" width=\"400px\" align=\"middle\"/>"
   ]
  },
  {
   "cell_type": "markdown",
   "metadata": {
    "slideshow": {
     "slide_type": "slide"
    }
   },
   "source": [
    "#### Metodologías de Trabajo: Ágil\n",
    "\n",
    "***Manifesto for Agile Software Development, 2001***\n",
    "\n",
    "We are uncovering better ways of developing software by doing it and helping others do it. Through this work we have come to value:\n",
    "* Individuals and interactions over processes and tools\n",
    "* Working software over comprehensive documentation\n",
    "* Customer collaboration over contract negotiation\n",
    "* Responding to change over following a plan\n",
    "\n",
    "That is, while there is value in the items on the right, we value the\n",
    "items on the left more."
   ]
  },
  {
   "cell_type": "markdown",
   "metadata": {
    "slideshow": {
     "slide_type": "slide"
    }
   },
   "source": [
    "#### Metodologías de Trabajo: Ágil\n",
    "\n",
    " * ** Al individuo y las interacciones del equipo de desarrollo porsobre el proceso y las herramientas.**\n",
    "\n",
    "La gente es el principal factor de exito de un proyecto software.\n",
    "\n",
    "Es más importante construir un buen equipo que construir el entorno de trabajo.\n",
    "\n",
    "* ** Desarrollar software que funciona por sobre que generar documentación extensiva.**\n",
    "\n",
    "La regla a seguir es no producir documentos a menos que sean necesarios de forma inmediata para tomar un decisión\n",
    "importante. \n",
    "\n",
    "Estos documentos deben ser cortos y centrarse en lo fundamental."
   ]
  },
  {
   "cell_type": "markdown",
   "metadata": {
    "slideshow": {
     "slide_type": "slide"
    }
   },
   "source": [
    "#### Metodologías de Trabajo: Ágil\n",
    "\n",
    "* **La colaboración con el cliente por sobre la negociación de un  contrato.**\n",
    "\n",
    "Se propone que exista una interacción constante entre el cliente y el equipo de desarrollo. \n",
    "\n",
    "Esta colaboración será crucial para el éxito del proyecto.\n",
    "\n",
    "* **Responder a los cambios por sobre seguir estrictamente un plan.**\n",
    "\n",
    "La habilidad de responder a los cambios que surgirán durante del proyecto (cambios en los requisitos, en la tecnología, en el equipo humano, etc.) determina el éxito o fracaso del proyecto."
   ]
  },
  {
   "cell_type": "markdown",
   "metadata": {
    "slideshow": {
     "slide_type": "slide"
    }
   },
   "source": [
    "#### Metodologías de Trabajo: Ágil\n",
    "\n",
    "## Principios básicos\n",
    "\n",
    "* La prioridad es satisfacer al cliente mediante tempranas y continuas entregas de software que le aporte un valor.\n",
    "* Dar la bienvenida a los cambios. Se capturan los cambios para que el cliente tenga una ventaja competitiva.\n",
    "* Entregar frecuentemente software que funcione desde un par de semanas a un par de meses, con el menor intervalo de tiempo posible entre entregas.\n",
    "* La gente del negocio y los desarrolladores deben trabajar juntos a lo largo del proyecto. El cliente es un aliado, no un enemigo."
   ]
  },
  {
   "cell_type": "markdown",
   "metadata": {
    "slideshow": {
     "slide_type": "slide"
    }
   },
   "source": [
    "#### Metodologías de Trabajo: Ágil\n",
    "\n",
    "## Principios básicos\n",
    "\n",
    "* Construir el proyecto en torno a individuos motivados. Darles el entorno y el apoyo que necesitan y confiar en ellos para conseguir finalizar el trabajo.\n",
    "* El diálogo cara a cara es el mejor método para comunicar información dentro de un equipo de desarrollo.\n",
    "* El software que funciona es la medida principal de progreso. La simplicidad es esencial.\n"
   ]
  },
  {
   "cell_type": "markdown",
   "metadata": {
    "slideshow": {
     "slide_type": "slide"
    }
   },
   "source": [
    "#### Metodologías de Trabajo: Ágil\n",
    "\n",
    "## Ventajas\n",
    "\n",
    "* Respuesta rápida a cambios de requisitos, minimizando costos, tiempo y frustración.\n",
    "* Efecto IKEA: el cliente se involucra y tiene una mejor satisfacción sobre el resultado final.\n",
    "* Al privilegiar la simplicidad se eliminan trabajos innecesarios/superfluos.\n",
    "* Permite paralelizar requerimientos y validar implementaciones por separado.\n",
    "* Puesto que el software es siempre “casi funcional” permite mantener proyecto en costo acordado. Siempre es posible parar el proyecto en la iteración actual.\n",
    "* Promueve innovación y creatividad sobre respeto y obediencia."
   ]
  },
  {
   "cell_type": "markdown",
   "metadata": {
    "slideshow": {
     "slide_type": "slide"
    }
   },
   "source": [
    "#### Metodologías de Trabajo: Ágil\n",
    "\n",
    "## Desventajas\n",
    "\n",
    "* Falta de documentación del diseño.\n",
    "* Problemas derivados de la comunicación oral: ambiguedad y futilidad.\n",
    "* Alta dependencia a las personas del equipo.\n",
    "* Restricciones en cuanto al tamaño y la complejidad de los proyectos."
   ]
  },
  {
   "cell_type": "markdown",
   "metadata": {
    "slideshow": {
     "slide_type": "slide"
    }
   },
   "source": [
    "#### Metodologías de Trabajo\n",
    "\n",
    "## Agil versus Cascada\n",
    "\n",
    "* Adaptividad vs. Predictibilidad\n",
    "* Iterativo vs. Secuencial\n",
    "* Código vs. Documentación"
   ]
  },
  {
   "cell_type": "markdown",
   "metadata": {
    "slideshow": {
     "slide_type": "slide"
    }
   },
   "source": [
    "#### Metodologías de Trabajo\n",
    "\n",
    "## Interpretación del éxito de metodología ágil\n",
    "\n",
    "La Metodología Agil puede interpretarse como una aplicación del principio de Pareto (ley del 80-20), que dice que, para muchos eventos, aproximadamente 80 % de los efectos proviene del 20 % de las causas. \n",
    "\n",
    "Reuniones tempranas con el cliente permite determinar cuáles son las causas de mayor impacto y establecer una ruta óptima de construcción en función de los requerimientos cambiantes del cliente."
   ]
  },
  {
   "cell_type": "markdown",
   "metadata": {
    "slideshow": {
     "slide_type": "slide"
    }
   },
   "source": [
    "#### Metodologías de Trabajo\n",
    "\n",
    "## Aplicacion en Ingeniería\n",
    "\n",
    "* Tener reuniones pequeñas reuniones semanales es mejor que una gran reunión mensual.\n",
    "* Mejorar incrementalmente informe e implementación numérica.\n",
    "* El cliente tiene derecho cambiar de opinión: ¡Está pagando por ello!"
   ]
  },
  {
   "cell_type": "markdown",
   "metadata": {
    "slideshow": {
     "slide_type": "slide"
    }
   },
   "source": [
    "#### Metodologías de Trabajo\n",
    "\n",
    "## Aplicacion en Vida Universitaria\n",
    "\n",
    "\n",
    "En tareas y proyectos:\n",
    "* Tener lo antes posible un entregable que garantice el 50-70 % de la nota.\n",
    "* Mejorar incrementalmente el entregable, en función del tiempo disponible y del esfuerzo requerido.\n",
    "* Si se requiere código numérico, preocuparse del código hasta que funcione, luego documentar.\n",
    "* El profesor es el cliente: preguntar con tiempo y hasta clarificar. Lo esencial es cumplir los requerimientos."
   ]
  }
 ],
 "metadata": {
  "celltoolbar": "Slideshow",
  "kernelspec": {
   "display_name": "Python 2",
   "language": "python",
   "name": "python2"
  },
  "language_info": {
   "codemirror_mode": {
    "name": "ipython",
    "version": 2
   },
   "file_extension": ".py",
   "mimetype": "text/x-python",
   "name": "python",
   "nbconvert_exporter": "python",
   "pygments_lexer": "ipython2",
   "version": "2.7.6"
  }
 },
 "nbformat": 4,
 "nbformat_minor": 0
}
