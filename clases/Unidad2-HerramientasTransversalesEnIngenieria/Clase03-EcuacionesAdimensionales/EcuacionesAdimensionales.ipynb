{
 "cells": [
  {
   "cell_type": "code",
   "execution_count": null,
   "metadata": {
    "collapsed": false,
    "slideshow": {
     "slide_type": "skip"
    }
   },
   "outputs": [],
   "source": [
    "#Configuracion para recargar módulos y librerías cada vez \n",
    "%reload_ext autoreload\n",
    "%autoreload 2\n",
    "                                                                                                                                                                                                                                                                                                                                                                                                                                                                                                                                                                                                                                                                                \n",
    "%matplotlib inline\n",
    "                                                                                                                                                                                                                                                                                                                                                                                                                                                                                                                                                                                                                                                                                                                                                                                                                                                                                                                                                                                                                                                                                                                                                                                                                                                                                                                                                                                                                                                                                                                                                                                                                                                                                                                                                                                                                                                                                                                                                                                                                                                                                                                                                                                                                                                                                                                                                                                                                                                                                                                                                                                                                                                                                                                                                                                                                                                                                                                                                                                                                                                                                                                                                                                                                                                                                                                                                                                                                                                                                                                                                                                                                                                                                                                                                                                                                                                                                                                                                                                                                                                                                                                                                                                                                                                                                                                                                                                                                                                                                                                                                                                                                                                                                                                                                                                                                                                                                                                                                                                                                                                                                                                                                                                                                                                                                                                                                                                                                                                                                                                                                                                                                                                                                                                                                                                                                                                                                                                                                                                                                                                                                                                                                                                                                                                                                                                                                                                                                                                                                                                                                                                                                                                                                                                                                                                                                                                                                                                                                                                                                                                                                                                                                                                                                                                                                                                                                                                                                                                                                                                                                                                                                                                                                                                                                                                                                                                                                                                                                                                                                                                                                                                                                                                                                                                                                                                                                                                                                                                                                                                                                                                                                                                                                                                                                                                                                                                                                                                                                                                                                                                                                                                                                                                                                                                                                                                                                                                                                                                                                                                                                                                                                                                                                                                                                                                                                                                                                                                                                                                                                                                                                                                                                                                                                                                                                                                                                                                                                                                                                            \n",
    "from IPython.core.display import HTML\n",
    "\n",
    "HTML(open(\"style/mat281.css\", \"r\").read())"
   ]
  },
  {
   "cell_type": "markdown",
   "metadata": {
    "slideshow": {
     "slide_type": "slide"
    }
   },
   "source": [
    "<header class=\"w3-container w3-teal\">\n",
    "<img src=\"images/utfsm.png\" alt=\"\" height=\"100px\" align=\"left\"/>\n",
    "<img src=\"images/mat.png\" alt=\"\" height=\"100px\" align=\"right\"/>\n",
    "</header>\n",
    "<br/><br/><br/><br/><br/>\n",
    "# MAT281\n",
    "## Aplicaciones de la Matemática en la Ingeniería\n",
    "\n",
    "### Sebastián Flores\n",
    "\n",
    "https://www.github.com/sebastiandres/mat281\n"
   ]
  },
  {
   "cell_type": "markdown",
   "metadata": {
    "slideshow": {
     "slide_type": "slide"
    }
   },
   "source": [
    "## Clase anterior\n",
    "\n",
    "* Teorema $\\Pi$."
   ]
  },
  {
   "cell_type": "markdown",
   "metadata": {
    "slideshow": {
     "slide_type": "slide"
    }
   },
   "source": [
    "## ¿Qué contenido aprenderemos hoy?\n",
    "\n",
    "* Adimensionalización de ecuaciones.\n",
    "* Diseño de experimentos."
   ]
  },
  {
   "cell_type": "markdown",
   "metadata": {
    "slideshow": {
     "slide_type": "slide"
    }
   },
   "source": [
    "## ¿Porqué aprenderemos ese contenido?\n",
    "\n",
    "* **Adimensionalización de ecuaciones.**\n",
    "\n",
    "Permite estudiar las ecuaciones con el mínimo número de parámetros.\n",
    "\n",
    "* **Diseño de experimentos.**\n",
    "\n",
    "Permite simular un experimento con el menor número de ejecuciones."
   ]
  },
  {
   "cell_type": "markdown",
   "metadata": {
    "slideshow": {
     "slide_type": "slide"
    }
   },
   "source": [
    "## Contradicción.\n",
    "¿Han notado la contradicción de las últimas clases?\n",
    "\n",
    "* Clase $i$: Las dimensiones son lo más importante de un problema.\n",
    "\n",
    "* Clase $i+1$: Es mejor hacer un análisis en adimensional."
   ]
  },
  {
   "cell_type": "markdown",
   "metadata": {
    "slideshow": {
     "slide_type": "slide"
    }
   },
   "source": [
    "## Motivación\n",
    "Si el teorema $\\Pi$ es tan bueno, ¿para qué necesitamos ecuaciones?"
   ]
  },
  {
   "cell_type": "markdown",
   "metadata": {
    "slideshow": {
     "slide_type": "fragment"
    }
   },
   "source": [
    "* **Teorema de $\\Pi$ o Teorema Buckingham**: Conocimiento indicativo de cómo se podrían relacionar las variables.\n",
    "* **Adimensionalización de ecuaciones**: Conocimiento funcional de cómo se relacionan las variables y la importancia relativa de cada término.\n",
    "\n",
    "En términos de información:\n",
    "\n",
    "Ecuaciones dimensionales $>>$ Ecuaciones Adimensionales $>>$ Teorema $\\Pi$"
   ]
  },
  {
   "cell_type": "markdown",
   "metadata": {
    "slideshow": {
     "slide_type": "slide"
    }
   },
   "source": [
    "#### Análisis dimensional\n",
    "## Ejemplo\n",
    "Consideremos el ejemplo clásico de una barra de longitud infinita, de sección transversal $A$ y que se encuentra inicialmente a una temperatura $\\tau_a$.\n",
    "\n",
    "En $t = 0$ la barra se calienta en $x = 0$ a una temperatura $\\tau_b$. \n",
    "\n",
    "¿Cómo evoluciona la temperatura en las distintas posiciones de la barra, para los tiempos posteriores? \n",
    "\n",
    "En particular, ¿cuál es la temperatura de la barra en el tiempo $t$ en la posición $x$?\n",
    "\n",
    "¿Qué nos dice el Teorema $\\Pi$? ¿Qué nos dice el análisis dimensional de las ecuaciones?"
   ]
  },
  {
   "cell_type": "markdown",
   "metadata": {
    "slideshow": {
     "slide_type": "slide"
    }
   },
   "source": [
    "#### Ejemplo\n",
    "## Teorema Pi\n",
    "¿Que variables hay? Hint: son 9."
   ]
  },
  {
   "cell_type": "markdown",
   "metadata": {
    "slideshow": {
     "slide_type": "fragment"
    }
   },
   "source": [
    "* $t$: tiempo. Dimensión. [$T$].\n",
    "* $x$: posición. Dimensión [$L$]. \n",
    "* Temperaturas. Dimensión [$\\tau$]\n",
    "  * $\\tau_a$: Temperatura inicial de la barra.\n",
    "  * $\\tau_b$: Temperatura en extremo.\n",
    "  * $\\tau$: Temperatura en $x$ y $t$.\n",
    "* $A$: sección transversal. Dimensión $[L^2]$.\n",
    "* $\\rho$: densidad. Dimensión $\\Big[\\frac{M}{L^3}\\Big]$.\n",
    "* $c_p$: calor específico. Dimensión $\\Big[\\frac{L^2}{T^2 \\theta}\\Big]$.\n",
    "* $k$: conductividad térmica. Dimensión $\\Big[\\frac{M L }{T^3 \\theta}\\Big]$."
   ]
  },
  {
   "cell_type": "markdown",
   "metadata": {
    "slideshow": {
     "slide_type": "slide"
    }
   },
   "source": [
    "# Densidad: $\\rho$\n",
    "* Relaciona masa con volumen.\n",
    "* Unidades: $$\\frac{kg}{m^3}$$\n",
    "* Dimensión: $$\\Big[\\frac{M}{L^3}\\Big]$$\n",
    "* Ejemplos: \n",
    "  * Cobre: 8960 $\\frac{kg}{m^3}$\n",
    "  * Hierro: 7870 $\\frac{kg}{m^3}$\n",
    "  * Oro: 19320 $\\frac{kg}{m^3}$"
   ]
  },
  {
   "cell_type": "markdown",
   "metadata": {
    "slideshow": {
     "slide_type": "slide"
    }
   },
   "source": [
    "# Calor Específico: $c_p$\n",
    "* Relaciona energía proporcionada con aumento de temperatura.\n",
    "* El calor específico es cantidad de calor (energía) a suministrar a 1 kg de material para aumentar la temperatura en 1 grado Kelvin.\n",
    "* Unidades: $$\\frac{J}{kg K}$$\n",
    "* Dimensión: $$\\Big[\\frac{L^2}{T^2 \\theta}\\Big]$$\n",
    "* Ejemplos: \n",
    "  * Cobre: 385 $\\frac{J}{kg K}$\n",
    "  * Hierro: 450 $\\frac{J}{kg K}$\n",
    "  * Oro: 129 $\\frac{J}{kg K}$"
   ]
  },
  {
   "cell_type": "markdown",
   "metadata": {
    "slideshow": {
     "slide_type": "slide"
    }
   },
   "source": [
    "## Conductividad térmica: $k$\n",
    "* Se relaciona con el flujo de calor dentro un material.\n",
    "* La conductividad térmica es una propiedad del material, e indica cuanto calor (energía) se transmitiría en un segundo entre 2 caras de un metro cuadrado separadas a un metro de distancia.  \n",
    "* Unidades: $$\\frac{W}{m K}$$\n",
    "* Dimensión: $$\\Big[\\frac{M L}{T^3 \\theta}\\Big]$$\n",
    "* Ejemplos: \n",
    "  * Cobre: 380 $\\frac{W}{m K}$\n",
    "  * Hierro: 80 $\\frac{W}{m K}$\n",
    "  * Oro: 308 $\\frac{W}{m K}$"
   ]
  },
  {
   "cell_type": "markdown",
   "metadata": {
    "slideshow": {
     "slide_type": "slide"
    }
   },
   "source": [
    "#### Ejemplo\n",
    "## Teorema Pi\n",
    "Hay $9$ variables y $4$ dimensiones, por lo que el problema requiere definir $9-4=5$ parámetros adimensionales.\n",
    "\n",
    "Si elegimos como base: $\\tau_a$, $x$, $t$, $c_p$.\n",
    "\n",
    "$$\\Pi_{\\tau} = \\Phi(\\Pi_{\\tau_b} , \\Pi_{A} , \\Pi_{\\rho} , \\Pi_{k} )$$\n",
    "No es particularmente prometedor. Sabemos que existe una relación, pero no sabemos cómo obtenerla.\n",
    "\n",
    "¿Es lo mejor que podemos hacer?"
   ]
  },
  {
   "cell_type": "markdown",
   "metadata": {
    "slideshow": {
     "slide_type": "fragment"
    }
   },
   "source": [
    "¿Cómo mejora la situación si sabemos cómo se relacionan físicamente las variables?"
   ]
  },
  {
   "cell_type": "markdown",
   "metadata": {
    "slideshow": {
     "slide_type": "slide"
    }
   },
   "source": [
    "#### Ejemplo\n",
    "## Modelamiento físico\n",
    "\n",
    "Sabemos que para este problema aplican las siguientes ecuaciones, donde $q$ es el flujo de calor:\n",
    "\n",
    "* Conservación de calor:\n",
    "$$ \n",
    "\\rho c_p \\frac{\\partial \\tau}{\\partial t} = - \\frac{\\partial q}{\\partial x}\n",
    "$$\n",
    "* Ley de Fourier:\n",
    "$$\n",
    "q = -k \\frac{\\partial \\tau}{\\partial x}$$\n",
    "OBS: No hay referencia a la sección transversal."
   ]
  },
  {
   "cell_type": "markdown",
   "metadata": {
    "slideshow": {
     "slide_type": "slide"
    }
   },
   "source": [
    "#### Ejemplo\n",
    "## Modelamiento físico\n",
    "Si suponemos $k$ constante obtenemos:\n",
    "$$\n",
    "\\frac{\\partial \\tau}{\\partial t} = \\frac{k}{\\rho c_p} \\frac{\\partial^2 \\tau}{\\partial x^2}$$\n",
    "\n",
    "La constante $D =\\frac{k}{\\rho c_p}$ se llama **constante de difusividad** y tiene dimensión $\\Big[ \\frac{L^2}{T} \\Big]$.\n",
    "\n",
    "Normalmente los problemas hablan directamente de $D$ y olvidan las aproximaciones realizadas."
   ]
  },
  {
   "cell_type": "markdown",
   "metadata": {
    "slideshow": {
     "slide_type": "fragment"
    }
   },
   "source": [
    "Ejemplos: \n",
    "  * Cobre: $1.10 \\cdot 10^{-4}$ $\\frac{m^2}{s}$\n",
    "  * Hierro: $2.25 \\cdot 10^{-5}$ $\\frac{m^2}{s}$\n",
    "  * Oro: $1.23 \\cdot 10^{-4}$ $\\frac{m^2}{s}$\n"
   ]
  },
  {
   "cell_type": "markdown",
   "metadata": {
    "slideshow": {
     "slide_type": "slide"
    }
   },
   "source": [
    "#### Ejemplo\n",
    "## Sistema dimensional\n",
    "Hemos obtenido\n",
    "$$\n",
    "\\begin{align}\n",
    "\\frac{\\partial \\tau}{\\partial t} &= \\Big( \\frac{k}{\\rho c_p} \\Big) \\frac{\\partial^2 \\tau}{\\partial x^2}\\\\\n",
    "\\tau(x=0, t=0)&= \\tau_b \\\\\n",
    "\\tau(x\\neq 0, t=0)&= \\tau_a \\\\\n",
    "\\end{align}\n",
    "$$\n",
    "Con ello  tenemos que $\\tau= \\Phi(x, t, \\frac{k}{\\rho c_p}, \\tau_a, \\tau_b)$. \n",
    "* Hemos obtenido que la temperatura depende de 2 variables y 3 parámetros.\n",
    "* Esto es similar en complejidad a lo que se obtenida con el teorema $\\Pi$.\n",
    "* Simplificación no ha utilizado las dimensiones, sino la física del problema."
   ]
  },
  {
   "cell_type": "markdown",
   "metadata": {
    "slideshow": {
     "slide_type": "slide"
    }
   },
   "source": [
    "#### Ejemplo\n",
    "## Adimensionalización\n",
    "Adimensionalicemos las ***variables*** de la ecuación anterior. \n",
    "\n",
    "Partamos por las variables dependientes:\n",
    "$$\n",
    "\\begin{align}\n",
    "\\tau &= \\tau_0 \\ \\hat{\\tau} \\\\\n",
    "x &= x_0 \\ \\hat{x} \\\\\n",
    "t &= t_0 \\ \\hat{t}\n",
    "\\end{align}\n",
    "$$\n",
    "Donde todavía no decidimos que utilizaremos como factores de escalamiento $\\tau_0$, $x_0$ y $t_0$.\n"
   ]
  },
  {
   "cell_type": "markdown",
   "metadata": {
    "slideshow": {
     "slide_type": "slide"
    }
   },
   "source": [
    "#### Ejemplo\n",
    "## Adimensionalización de derivadas\n",
    "Para la derivada temporal\n",
    "$$\n",
    "\\begin{align}\n",
    "\\frac{\\partial \\tau}{\\partial t} & = \\frac{\\partial \\tau_0 \\hat{\\tau}}{\\partial t} = \\tau_0 \\frac{\\partial \\hat{\\tau}}{\\partial t} \\\\\n",
    "& = \\tau_0 \\frac{\\partial \\hat{\\tau}}{t_0 \\partial \\hat{t}}\n",
    "= \\frac{\\tau_0}{t_0} \\frac{\\partial \\hat{\\tau}}{\\partial \\hat{t}}\n",
    "\\end{align}\n",
    "$$\n",
    "y similarmente para la segunda derivada espacial\n",
    "$$\n",
    "\\begin{align}\n",
    "\\frac{\\partial^2 \\tau}{\\partial x^2} &= \n",
    "\\frac{\\partial}{\\partial x} \\frac{\\partial \\tau}{\\partial x} = \n",
    "\\frac{1}{x_0} \\frac{\\partial}{\\partial \\hat{x}} \\frac{\\tau_0}{x_0} \\frac{\\partial \\hat{\\tau}}{\\partial \\hat{x}} \\\\\n",
    "&= \\frac{\\tau_0}{x_0^2} \\frac{\\partial}{\\partial \\hat{x}} \\frac{\\partial \\hat{\\tau}}{\\partial \\hat{x}} =  \\frac{\\tau_0}{x_0^2} \\frac{\\partial^2 \\hat{\\tau}}{\\partial \\hat{x}^2} \n",
    "\\end{align}\n",
    "$$\n"
   ]
  },
  {
   "cell_type": "markdown",
   "metadata": {
    "slideshow": {
     "slide_type": "slide"
    }
   },
   "source": [
    "#### Ejemplo\n",
    "## Adimensionalización de ecuación\n",
    "Utilizando lo anterior\n",
    "$$\n",
    "\\frac{\\partial \\tau}{\\partial t} = \\frac{k}{\\rho c_p} \\frac{\\partial^2 \\tau}{\\partial x^2}\n",
    "$$\n",
    "se convierte en\n",
    "$$\n",
    "\\frac{\\tau_0}{t_0} \\frac{\\partial \\hat{\\tau}}{\\partial \\hat{t}} = \\frac{k}{\\rho c_p} \\frac{\\tau_0}{x_0^2} \\frac{\\partial^2 \\hat{\\tau}}{\\partial \\hat{x}^2}\n",
    "$$\n",
    "es decir\n",
    "$$\n",
    "\\frac{\\partial \\hat{\\tau}}{\\partial \\hat{t}} = \\Big( \\frac{k}{\\rho c_p} \\frac{t_0}{x_0^2} \\Big) \\frac{\\partial^2 \\hat{\\tau}}{\\partial \\hat{x}^2}\n",
    "$$"
   ]
  },
  {
   "cell_type": "markdown",
   "metadata": {
    "slideshow": {
     "slide_type": "slide"
    }
   },
   "source": [
    "#### Ejemplo\n",
    "## Adimensionalización de Condiciones Iniciales\n",
    "$$ \n",
    "\\begin{align}\n",
    "\\tau(x=0, t=0)&= \\tau_b \\\\\n",
    "\\tau(x\\neq 0, t=0)&= \\tau_a \\\\\n",
    "\\end{align}\n",
    "$$\n",
    "se convierte en\n",
    "$$\n",
    "\\begin{align}\n",
    "\\hat{\\tau}(\\hat{x}=0, \\hat{t}=0)&= \\frac{\\tau_b}{\\tau_0} \\\\\n",
    "\\hat{\\tau}(\\hat{x}\\neq 0, \\hat{t}=0)&= \\frac{\\tau_b}{\\tau_0} \\\\\n",
    "\\end{align}\n",
    "$$"
   ]
  },
  {
   "cell_type": "markdown",
   "metadata": {
    "slideshow": {
     "slide_type": "slide"
    }
   },
   "source": [
    "#### Ejemplo\n",
    "## Sistema adimensional final\n",
    "Hemos obtenido\n",
    "$$\n",
    "\\begin{align}\n",
    "\\frac{\\partial \\hat{\\tau}}{\\partial \\hat{t}} &= \\Big( \\frac{k}{\\rho c_p} \\frac{t_0}{x_0^2} \\Big) \\frac{\\partial^2 \\hat{\\tau}}{\\partial \\hat{x}^2}\\\\\n",
    "\\hat{\\tau}(\\hat{x}=0, \\hat{t}=0)&= \\frac{\\tau_b}{\\tau_0} \\\\\n",
    "\\hat{\\tau}(\\hat{x}\\neq 0, \\hat{t}=0)&= \\frac{\\tau_a}{\\tau_0} \\\\\n",
    "\\end{align}\n",
    "$$\n",
    "Es posible y conveniente elegir la adimensionalización de modo que \n",
    "$$\\begin{align}\n",
    "\\frac{k}{\\rho c_p} \\frac{t_0}{x_0^2} &= 1 \\\\ \n",
    "\\frac{\\tau_a}{\\tau_0} &=1\n",
    "\\end{align}$$"
   ]
  },
  {
   "cell_type": "markdown",
   "metadata": {
    "slideshow": {
     "slide_type": "slide"
    }
   },
   "source": [
    "#### Ejemplo\n",
    "## Elección de adimensionalización\n",
    "Si sabemos que se simulará hasta un tiempo máximo $t_{max}$, es conveniente tomar:\n",
    "$$\n",
    "\\begin{align}\n",
    "t_0 &= t_{max} \\\\\n",
    "x_0 &= \\sqrt{\\frac{k}{\\rho c_p} t_{max}}\\\\\n",
    "\\tau_0 &= \\tau_a\n",
    "\\end{align}\n",
    "$$"
   ]
  },
  {
   "cell_type": "markdown",
   "metadata": {
    "slideshow": {
     "slide_type": "slide"
    }
   },
   "source": [
    "#### Ejemplo\n",
    "## Elección de adimensionalización\n",
    "Si sabemos que se estudiará un punto $x_L$ en específico, es conveniente tomar:\n",
    "$$\n",
    "\\begin{align}\n",
    "t_0 &= \\frac{\\rho c_p}{k} x_0^2\\\\\n",
    "x_0 &= x_L\\\\\n",
    "\\tau_0 &= \\tau_a\n",
    "\\end{align}\n",
    "$$"
   ]
  },
  {
   "cell_type": "markdown",
   "metadata": {
    "slideshow": {
     "slide_type": "slide"
    }
   },
   "source": [
    "#### Ejemplo\n",
    "## Sistema adimensional final\n",
    "Independiente de la adimensionalización, se obtiene finalmente el sistema:\n",
    "$$\n",
    "\\begin{align}\n",
    "\\frac{\\partial \\hat{\\tau}}{\\partial \\hat{t}} &= \\frac{\\partial^2 \\hat{\\tau}}{\\partial \\hat{x}^2}\\\\\n",
    "\\hat{\\tau}(\\hat{x}=0, \\hat{t}=0)&= \\frac{\\tau_b}{\\tau_a} \\\\\n",
    "\\hat{\\tau}(\\hat{x}\\neq 0, \\hat{t}=0)&= 1\n",
    "\\end{align}\n",
    "$$"
   ]
  },
  {
   "cell_type": "markdown",
   "metadata": {
    "slideshow": {
     "slide_type": "slide"
    }
   },
   "source": [
    "#### Ejemplo\n",
    "## Balance\n",
    "La temperatura adimensional depende de 2 variables $\\hat{x}$ y $\\hat{t}$ y un parámetro adimensional $\\frac{\\tau_b}{\\tau_a}$, esto es,\n",
    "\n",
    "$$\\hat{\\tau}= \\Phi\\Big(\\hat{x}, \\hat{t}, \\frac{\\tau_b}{\\tau_a}\\Big)$$\n",
    "\n",
    "Un problema que inicialmente dependía de 6 parámetros físicos ($A$, $c_p$, $k$, $\\rho$, $\\tau_a$, $\\tau_b$), puede ser resuelto solamente por 1 parámetro ($\\tau_b/\\tau_a$) y luego escalado correctamente."
   ]
  },
  {
   "cell_type": "markdown",
   "metadata": {
    "slideshow": {
     "slide_type": "slide"
    }
   },
   "source": [
    "## Balance\n",
    "No sólo hemos resuelto para un menor número de parámetros, sino que la ecuación anterior indica que basta resolver para una combinación $\\tau_b/\\tau_a$ específica y que luego podemos recuperar la temperatura dimensional para cualquier valor $c_p$ y $k$ simplemente escalando correctamente.\n",
    "\n",
    "Esto es, si resolvemos y conocemos\n",
    "$$\\hat{\\tau}= \\Phi\\Big(\\hat{x}, \\hat{t}, \\tau_b/\\tau_a\\Big)$$\n",
    "podemos ahora calcular la versión dimensional utilizando\n",
    "$$\\tau = t_0 \\hat{\\tau}= t_0 \\Phi\\Big(x/x_0, t/t_0, \\tau_b/\\tau_a\\Big)$$\n",
    "Los coeficientes $\\rho$, $c_p$ y $k$ se encuentran \"camuflados\" en las definiciones de $x_0$ y $t_0$."
   ]
  },
  {
   "cell_type": "markdown",
   "metadata": {
    "slideshow": {
     "slide_type": "slide"
    }
   },
   "source": [
    "## Moralejas\n",
    "* Una ecuación contiene mucha más información que el teorema de Buckingham.\n",
    "* Adimensionalizar ecuaciones permite chequear factibilidad, reducir a términos elementales y estudiar casos límites.\n",
    "* Teorema de Buckingham es útil para realizar estimaciones de  comportamiento global, pero no para comportamiento local."
   ]
  },
  {
   "cell_type": "markdown",
   "metadata": {
    "slideshow": {
     "slide_type": "slide"
    }
   },
   "source": [
    "## Aplicación\n",
    "Supongamos que para un experimento queremos saber cuánto tiempo se demora en llegar al 50% de la temperatura deseada, estando a 0.50 metro del origen, en funcion de los parámetros. \n",
    "* ¿Cómo varía el resultado en función de las temperaturas $\\tau_a$ (inicial) y $\\tau_b$ (fija)?\n",
    "* ¿Cómo varía el resultado en función de los coeficientes $\\rho$, $c_p$ y $k$?"
   ]
  },
  {
   "cell_type": "markdown",
   "metadata": {
    "slideshow": {
     "slide_type": "slide"
    }
   },
   "source": [
    "#### Aplicación\n",
    "## Simulación con parametros dimensionales\n",
    "Para resolver el problema con parametros dimensionales ($\\tau_a$, $\\tau_b$, $\\rho$, $c_p$, $k$)  deberíamos realizar simulaciones en un gran espacio.\n",
    "\n",
    "Si discretizamos el espacio de cada parámetro en 10 valores, se requerirían $10^5$ simulaciones.\n",
    "Si cada simulacion toma $1$ segundo, se requerirán $10^5$ segundos, es decir, $27$ horas.\n",
    "\n",
    "Si discretizamos el espacio de cada parámetro en 20 valores, se requerirían $20^4$ simulaciones.\n",
    "Si cada simulacion toma $1$ segundo, se requerirán $20^4$ segundos, es decir, $18$ días.\n"
   ]
  },
  {
   "cell_type": "markdown",
   "metadata": {
    "slideshow": {
     "slide_type": "slide"
    }
   },
   "source": [
    "#### Aplicación\n",
    "## Simulación con parametros adimensionales\n",
    "\n",
    "Para resolver el problema con parametros dimensionales deberíamos realizar simulaciones simplemente discretizando el parámetro $\\tau_b/\\tau_a$.\n"
   ]
  },
  {
   "cell_type": "markdown",
   "metadata": {
    "slideshow": {
     "slide_type": "slide"
    }
   },
   "source": [
    "#### Aplicación\n",
    "## Simulación con parametros adimensionales\n",
    "Tomemos el caso del cobre:\n",
    "* Pensemos que $\\tau_a$ y $\\tau_b$ se mueven en el rango 273-373 grados Kelvin.\n",
    "* Eso significa que $\\frac{273}{373} \\leq \\frac{\\tau_b}{\\tau_a} \\leq \\frac{373}{273}$.\n",
    "* Recordemos que deseamos llegar al 50% de la temperatura $\\tau_b$, estando a 0.50 metro del origen. "
   ]
  },
  {
   "cell_type": "markdown",
   "metadata": {
    "slideshow": {
     "slide_type": "slide"
    }
   },
   "source": [
    "## Solución\n",
    "En python y magia HTML"
   ]
  },
  {
   "cell_type": "code",
   "execution_count": null,
   "metadata": {
    "collapsed": false
   },
   "outputs": [],
   "source": [
    "from IPython.display import HTML\n",
    "from mat281_code import heat\n",
    "HTML(heat.run())"
   ]
  },
  {
   "cell_type": "markdown",
   "metadata": {
    "slideshow": {
     "slide_type": "slide"
    }
   },
   "source": [
    "## Interpretación\n",
    "\n",
    "El tiempo (adimensional) que le toma llegar a la mitad de la temperatura es independiente de las temperaturas elegidas.\n",
    "\n",
    "Volviendo a parametros dimensionales, tenemos:\n",
    "$$ t^* = t_0 \\hat{t}^* = \\frac{x_0^2}{D} \\ \\  \\hat{t}^* = \\frac{\\rho c_p}{k} x_0^2 \\ \\  \\hat{t}^*$$\n",
    "\n",
    "* Si el material fuera oro, el tiempo requerido hubiese sido $t^* = \\frac{0.5^2}{1.23E-4} \\times 0.381 \\approx 774.4$ segundos (13 minutos).\n",
    "* Si el material fuera cobre, el tiempo requerido hubiese sido $t^* = \\frac{0.5^2}{1.10E-4} \\times 0.381 \\approx 865.5$ segundos (15 minutos).\n",
    "* Si el material fuera fierro, el tiempo requerido hubiese sido $t^* = \\frac{0.5^2}{2.25E-5} \\times 0.381 \\approx 4329.5$ segundos (72 minutos).\n"
   ]
  },
  {
   "cell_type": "markdown",
   "metadata": {
    "slideshow": {
     "slide_type": "slide"
    }
   },
   "source": [
    "## Discusión del problema\n",
    "¿Que tan real es el problema?\n",
    "* ¿Barra infinita?\n",
    "* ¿Fijar temperatura en $x=0$ a una temperatura fija?"
   ]
  }
 ],
 "metadata": {
  "celltoolbar": "Slideshow",
  "kernelspec": {
   "display_name": "Python 2",
   "language": "python",
   "name": "python2"
  },
  "language_info": {
   "codemirror_mode": {
    "name": "ipython",
    "version": 2
   },
   "file_extension": ".py",
   "mimetype": "text/x-python",
   "name": "python",
   "nbconvert_exporter": "python",
   "pygments_lexer": "ipython2",
   "version": "2.7.6"
  }
 },
 "nbformat": 4,
 "nbformat_minor": 0
}
