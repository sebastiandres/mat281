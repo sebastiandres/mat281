{
 "cells": [
  {
   "cell_type": "markdown",
   "metadata": {
    "slideshow": {
     "slide_type": "slide"
    }
   },
   "source": [
    "<header class=\"w3-container w3-teal\">\n",
    "<img src=\"images/utfsm.png\" alt=\"\" height=\"100px\" align=\"left\"/>\n",
    "<img src=\"images/mat.png\" alt=\"\" height=\"100px\" align=\"right\"/>\n",
    "</header>\n",
    "<br/><br/><br/><br/><br/>\n",
    "# MAT281\n",
    "## Laboratorio Aplicaciones de la Matemática en la Ingeniería\n",
    "### Regresión Lineal"
   ]
  },
  {
   "cell_type": "markdown",
   "metadata": {
    "slideshow": {
     "slide_type": "slide"
    }
   },
   "source": [
    "## INSTRUCCIONES\n",
    "* Anoten su nombre y rol en la celda siguiente.\n",
    "* Desarrollen los problemas de manera secuencial.\n",
    "* Guarden constantemente con ***Ctr-S*** para evitar sorpresas.\n",
    "* Reemplacen en las celdas de código donde diga #FIX_ME por el código correspondiente.\n",
    "* Ejecuten cada celda de código utilizando ***Ctr-Enter***"
   ]
  },
  {
   "cell_type": "code",
   "execution_count": 5,
   "metadata": {
    "collapsed": false
   },
   "outputs": [
    {
     "data": {
      "text/html": [
       "<style>\n",
       "\n",
       "/*********************************************\n",
       " * COLORS FOR EXAMPLES\n",
       " *********************************************/\n",
       "em {font-style: normal !important;\n",
       "    color: #800000;}\n",
       "\n",
       "</style>\n"
      ],
      "text/plain": [
       "<IPython.core.display.HTML object>"
      ]
     },
     "execution_count": 5,
     "metadata": {},
     "output_type": "execute_result"
    }
   ],
   "source": [
    "# Configuracion para recargar módulos y librerías \n",
    "%reload_ext autoreload\n",
    "%autoreload 2\n",
    "\n",
    "# Si quieren graficos dentro del ipython notebook, sacar comentario a linea siguiente.\n",
    "#%matplotlib inline \n",
    "\n",
    "from IPython.core.display import HTML\n",
    "\n",
    "HTML(open(\"style/mat281.css\", \"r\").read())"
   ]
  },
  {
   "cell_type": "code",
   "execution_count": 6,
   "metadata": {
    "collapsed": false,
    "slideshow": {
     "slide_type": "skip"
    }
   },
   "outputs": [
    {
     "data": {
      "text/html": [
       "<b>Alumno</b>: Sebastian Flores               <b>rol</b>: 2004001-7 <br><b>Alumno</b>: Maria Jose Vargas              <b>rol</b>: 2004007-8 <br>Good luck!"
      ],
      "text/plain": [
       "<IPython.core.display.HTML object>"
      ]
     },
     "execution_count": 6,
     "metadata": {},
     "output_type": "execute_result"
    }
   ],
   "source": [
    "from mat281_code.lab import greetings\n",
    "alumno_1 = (\"Sebastian Flores\", \"2004001-7\")\n",
    "alumno_2 = (\"Maria Jose Vargas\", \"2004007-8\")\n",
    "\n",
    "HTML(greetings(alumno_1, alumno_2))"
   ]
  },
  {
   "cell_type": "markdown",
   "metadata": {},
   "source": [
    "## Observación\n",
    "\n",
    "Este laboratorio utiliza la librería sklearn (oficialmente llamada [scikit learn](http://scikit-learn.org/stable/)), puesto que buscamos aplicar la técnica de regresión lineal a datos tal como se haría en una aplicación real. \n",
    "\n",
    "El laboratorio consiste de 2 secciones:\n",
    "\n",
    "1. Explicación de uso de regresión lineal en sklearn y análisis de residuos.\n",
    "3. Aplicación a problema real."
   ]
  },
  {
   "cell_type": "markdown",
   "metadata": {},
   "source": [
    "## 1. Regresión Lineal con sklearn\n",
    "\n",
    "Generemos un conjunt de datos sintéticos para aplicar regresión lineal, utilizando numpy y sklearn. El modelo será inicialmente muy simple, del tipo\n",
    "\n",
    "$$ y = \\theta_0 + \\theta_1 \\ x_1  + \\theta_2 x_2 + \\varepsilon $$\n",
    "\n",
    "con $x_i$, $\\theta_i$ e $y$ valores reales, y $\\varepsilon$ el error de medición."
   ]
  },
  {
   "cell_type": "code",
   "execution_count": 7,
   "metadata": {
    "collapsed": false
   },
   "outputs": [],
   "source": [
    "# Generando los datos\n",
    "import numpy as np\n",
    "\n",
    "# Model\n",
    "m = 1000 # Number of data examples\n",
    "true_coefficients = np.array([27., 5.])\n",
    "true_intercept = 1982.\n",
    "n = len(true_coefficients) + 1\n",
    "\n",
    "# Data\n",
    "nx1, nx2 = 21, 26\n",
    "x1, x2 = np.meshgrid(np.linspace(-1.,1.,nx1), np.linspace(80.,120.,nx2))\n",
    "X = np.array([x1.flatten(), x2.flatten()]).T\n",
    "Y = true_intercept + np.dot(X, true_coefficients)\n",
    "\n",
    "# Measurement contamination\n",
    "measurement_error = np.random.normal(size=Y.shape)\n",
    "\n",
    "# Mesured data\n",
    "Y = Y + 200 * measurement_error/measurement_error.max()"
   ]
  },
  {
   "cell_type": "markdown",
   "metadata": {},
   "source": [
    "Visualicemos los datos que hemos generado."
   ]
  },
  {
   "cell_type": "code",
   "execution_count": 8,
   "metadata": {
    "collapsed": false
   },
   "outputs": [],
   "source": [
    "# Visualización de los datos\n",
    "from matplotlib import pyplot as plt\n",
    "from mpl_toolkits.mplot3d import Axes3D\n",
    "# Plot of data\n",
    "fig = plt.figure(figsize=(16,8))\n",
    "ax = fig.add_subplot(111, projection='3d')\n",
    "ax.scatter(X[:,0], X[:,1], Y, 'rs')\n",
    "plt.xlabel(\"X[:,0]\")\n",
    "plt.ylabel(\"X[:,1]\")\n",
    "plt.title(\"y\")\n",
    "plt.show()"
   ]
  },
  {
   "cell_type": "markdown",
   "metadata": {},
   "source": [
    "Apliquemos un modelo de regresión lineal, obteniendo el intercepto y coeficientes. Utilizando sklearn podemos obtener además la predicción bajo el modelo lineal de manera extremadamente sencilla."
   ]
  },
  {
   "cell_type": "code",
   "execution_count": 9,
   "metadata": {
    "collapsed": false
   },
   "outputs": [
    {
     "name": "stdout",
     "output_type": "stream",
     "text": [
      "Intercepto hallado:  2018.07362263\n",
      "Coeficientes hallados:  [ 26.51222089   4.66589734]\n"
     ]
    }
   ],
   "source": [
    "# Aplicando regresion lineal con sklearn a los datos\n",
    "from sklearn import linear_model\n",
    "\n",
    "regr = linear_model.LinearRegression(fit_intercept=True, normalize=False)\n",
    "regr.fit(X, Y) # No es necesario agregar la columna de 1s, el algooritmo lo hace por nosotros. \n",
    "print \"Intercepto hallado: \", regr.intercept_\n",
    "print \"Coeficientes hallados: \", regr.coef_\n",
    "Y_pred = regr.predict(X) # Puedo verificar que valores daría el modelo en los puntos conocidos."
   ]
  },
  {
   "cell_type": "markdown",
   "metadata": {},
   "source": [
    "Visualicemos simultáneamente los datos y la superficie generada con la regresión lineal."
   ]
  },
  {
   "cell_type": "code",
   "execution_count": 12,
   "metadata": {
    "collapsed": false
   },
   "outputs": [],
   "source": [
    "from matplotlib import pyplot as plt\n",
    "from mpl_toolkits.mplot3d import Axes3D\n",
    "# Plot of data\n",
    "fig = plt.figure(figsize=(16,8))\n",
    "ax = fig.add_subplot(111, projection='3d')\n",
    "ax.scatter(X[:,0], X[:,1], Y, 'rs')\n",
    "ax.plot_trisurf(X[:,0], X[:,1], Y_pred, color=\"r\", alpha=0.5, lw=0)\n",
    "plt.xlabel(\"X[:,0]\")\n",
    "plt.ylabel(\"X[:,1]\")\n",
    "plt.title(\"y\")\n",
    "plt.show()"
   ]
  },
  {
   "cell_type": "markdown",
   "metadata": {},
   "source": [
    "Hmm, se ve bastante bien. ¿Qué tal los residuos? ¿Responden a nuestra hipótesis de distribución normal? Realicemos una exploración visual."
   ]
  },
  {
   "cell_type": "code",
   "execution_count": 13,
   "metadata": {
    "collapsed": false
   },
   "outputs": [],
   "source": [
    "# Analisando gráfico de los residuos\n",
    "res = Y_pred - Y\n",
    "plt.figure(figsize=(16,8))\n",
    "plt.hist(res)\n",
    "plt.show()"
   ]
  },
  {
   "cell_type": "markdown",
   "metadata": {},
   "source": [
    "El gráfico anterior parece suficientemente normal. Utilicemos un [test de normalidad](http://docs.scipy.org/doc/scipy-0.16.1/reference/generated/scipy.stats.normaltest.html) para verificar que efectivamente los residuos tengan una distribución normal."
   ]
  },
  {
   "cell_type": "code",
   "execution_count": 14,
   "metadata": {
    "collapsed": false
   },
   "outputs": [
    {
     "name": "stdout",
     "output_type": "stream",
     "text": [
      "p-value = 0.676297535397\n"
     ]
    }
   ],
   "source": [
    "# Analisis estadístico de residuos\n",
    "import scipy.stats as stats\n",
    "z, pval = stats.normaltest(res)\n",
    "if pval < 0.05:\n",
    "    print \"Not normal distribution\"\n",
    "print \"p-value =\", pval"
   ]
  },
  {
   "cell_type": "markdown",
   "metadata": {},
   "source": [
    "Calculemos el error promedio en varias normas"
   ]
  },
  {
   "cell_type": "code",
   "execution_count": 19,
   "metadata": {
    "collapsed": false
   },
   "outputs": [
    {
     "name": "stdout",
     "output_type": "stream",
     "text": [
      "Error promedio en norma 1:\t23.2189078113\n",
      "Error promedio en norma 2:\t1.37563251918\n",
      "Error promedio en norma inf:\t168.832997213\n"
     ]
    }
   ],
   "source": [
    "print \"Error promedio en norma 1:\\t\", np.linalg.norm(res,1)/len(res)\n",
    "print \"Error promedio en norma 2:\\t\", np.linalg.norm(res,2)/len(res)\n",
    "print \"Error promedio en norma inf:\\t\", np.linalg.norm(res,np.inf)"
   ]
  },
  {
   "cell_type": "markdown",
   "metadata": {},
   "source": [
    "## Desafío 1\n",
    "\n",
    "#### [10%] Desafio 1.1\n",
    "Utilice el código anterior para generar los mismos datos, pero esta vez no contamine los datos con errores gausianos, sino con elija utilizar un error de tipo gamma, uniforme o poisson (o bien, alguna otra de las [posibles](http://docs.scipy.org/doc/numpy-1.10.0/reference/routines.random.html)). Utilice alguno de los siguientes códigos:\n",
    "\n",
    "```Python\n",
    "    gamma_measurement_error = np.random.gamma(1, size=Y.shape)\n",
    "    uniform_measurement_error = np.random.uniform(size=Y.shape)-0.5\n",
    "    weibull_measurement_error = np.random.weibull(1, size=Y.shape)\n",
    "```"
   ]
  },
  {
   "cell_type": "code",
   "execution_count": 1,
   "metadata": {
    "collapsed": false
   },
   "outputs": [],
   "source": [
    "# 1.1 Desafio \n",
    "# Codigo para generar datos con otro tipo de error de medicion\n",
    "# y para realizar regresión lineal y análisis de los datos.\n",
    "\n"
   ]
  },
  {
   "cell_type": "markdown",
   "metadata": {},
   "source": [
    "## Desafío 1: Continuación\n",
    "\n",
    "#### [10%] 1.2 Indique el tipo de error introducido, y los valores obtenidos para el intercepto y los coeficientes. \n",
    "\n",
    "***FIX ME: COMENTARIO AQUI ***\n",
    "\n",
    "#### [10%]  1.3 ¿Cómo se comparan los valores anteriores a los valores reales (conocidos) y los valores obtenidos para error normal?\n",
    "\n",
    "***FIX ME: COMENTARIO AQUI ***\n",
    "\n",
    "\n",
    "#### [10%]  1.4 ¿Se logra reconocer que los residuos no corresponden a una distibución normal? ¿Cómo?\n",
    "\n",
    "***FIX ME: COMENTARIO AQUI ***\n",
    "\n",
    "\n",
    "#### [10%]  1.5 Compare  el error promedio (residuos) del modelo 1 (gausiano) con el modelo 2 (no gausiano), utilizando norma 1, norma 2 y norma infinito. ¿Que observa?\n",
    "\n",
    "***FIX ME: COMENTARIO AQUI ***\n"
   ]
  },
  {
   "cell_type": "markdown",
   "metadata": {},
   "source": [
    "## Aplicación a datos reales\n",
    "\n",
    "Un conjunto de datos bastante interesante es el [Motor Dataset](https://archive.ics.uci.edu/ml/datasets/Auto+MPG), que contiene características de 392 automobiles, entre los años 1970 y 1982.\n",
    "\n",
    "<img src=\"images/delorean.jpg\" alt=\"\" width=\"600px\" align=\"middle\"/>\n",
    "\n",
    "Este conjunto de datos tiene los siguientes valores:\n",
    "\n",
    "1. Rendimiento en millas por galon, mpg (real).\n",
    "2. Cilindros del motor, cylinders (entero positivo).\n",
    "3. Displazamiento del motor en pulgadas cúbicas, displacement (real).\n",
    "4. Caballos de fueza, horsepower (real).\n",
    "5. Peso en libras, weight (real).\n",
    "6. Tiempo de aceleración de 0 a 100 km/h, acceleration (real).\n",
    "7. Año del modelo, model year (entero positivo).\n",
    "8. Pais de origen, origin (entero positivo, categórico).\n",
    "9. Nombre del Auto, car name (string, unico para cada dato).\n",
    "\n",
    "Como ya es tradición, exploraremos los datos utilizando head (o tail, o cat)."
   ]
  },
  {
   "cell_type": "code",
   "execution_count": 21,
   "metadata": {
    "collapsed": false
   },
   "outputs": [
    {
     "name": "stdout",
     "output_type": "stream",
     "text": [
      "  392  4161 21208 data/auto-mpg.data.txt\n"
     ]
    }
   ],
   "source": [
    "%%bash\n",
    "head data/auto-mpg.data.txt"
   ]
  },
  {
   "cell_type": "markdown",
   "metadata": {},
   "source": [
    "## Desafío 2\n",
    "#### [10 %] Desafio 2.1\n",
    "\n",
    "Realice una regresión lineal a los datos, buscando predecir el rendimiento (en mpg) utilizando como predictores: el desplazamiento, los caballos de fuerza, el peso y la aceleración, correspondientes a las columnas 2, 3, 4 y 5. Utilice el código provisto anteriormente para ajustar un modelo de regresión lineal, obtener los coeficientes del modelo, realizar predicciones y analice los residuos. \n",
    "\n",
    "No es necesario incluir gráficos (pero tampoco está prohibido)."
   ]
  },
  {
   "cell_type": "code",
   "execution_count": 5,
   "metadata": {
    "collapsed": false
   },
   "outputs": [],
   "source": [
    "import numpy as np\n",
    "# Lectura de datos\n",
    "Y = np.loadtxt(\"data/auto-mpg.data.txt\", delimiter=\" \", usecols=(0,))\n",
    "X = np.loadtxt(\"data/auto-mpg.data.txt\", delimiter=\" \", usecols=(2,3,4,5))\n",
    "\n",
    "# Procesamiento de datos"
   ]
  },
  {
   "cell_type": "markdown",
   "metadata": {},
   "source": [
    "## Desafío 2 : Continuación\n",
    "\n",
    "#### 2.2 [10%] ¿Qué valores se obtienen para el intercepto y los coeficientes de los datos?\n",
    "\n",
    "***FIX ME: COMENTARIO AQUI ***\n",
    "\n",
    "#### 2.3 [10%] ¿Cuál es el error de entrenamiento en las distintas normas?\n",
    "\n",
    "***FIX ME: COMENTARIO AQUI ***\n",
    "\n",
    "#### 2.4 [10%] ¿Qué tipo de residuo se obtienen? ¿Son gaussianos?\n",
    "\n",
    "***FIX ME: COMENTARIO AQUI ***"
   ]
  },
  {
   "cell_type": "markdown",
   "metadata": {},
   "source": [
    "Calculo el rendimiento en mpg tendría el Delorean, si en base a [cierta](http://www.time-traveler.org/delorean/technical.htm) [información](https://en.wikipedia.org/wiki/DeLorean_DMC-12) sabemos que posee: \n",
    "\n",
    "1. 6 cilindros\n",
    "2. 174 pulgadas cúbicas desplazamiento. \n",
    "3. 200 Caballos de fuerza.\n",
    "4. 2712 libras de peso.\n",
    "5. Una aceleración de 10.5.\n",
    "6. Se construyó el año 1981.\n",
    "\n",
    "**Consejo**: Utilice el metodo .predict() apropiadamente."
   ]
  },
  {
   "cell_type": "code",
   "execution_count": 2,
   "metadata": {
    "collapsed": false
   },
   "outputs": [
    {
     "name": "stdout",
     "output_type": "stream",
     "text": [
      "0\n"
     ]
    }
   ],
   "source": [
    "# Calcular el mpg aqui\n",
    "mpg = 0\n",
    "print mpg"
   ]
  },
  {
   "cell_type": "markdown",
   "metadata": {},
   "source": [
    "## Desafío 3\n",
    "\n",
    "#### [10%]  3.1 Indique el rendimiento del delorean.  ¿Se corresponde con el [valor medido](https://upload.wikimedia.org/wikipedia/commons/7/7b/DMC_Sticker.jpg) de 21 mpg?\n",
    "\n",
    "\n",
    "***FIX ME: COMENTARIO AQUI ***"
   ]
  }
 ],
 "metadata": {
  "celltoolbar": "Slideshow",
  "kernelspec": {
   "display_name": "Python 2",
   "language": "python",
   "name": "python2"
  },
  "language_info": {
   "codemirror_mode": {
    "name": "ipython",
    "version": 2
   },
   "file_extension": ".py",
   "mimetype": "text/x-python",
   "name": "python",
   "nbconvert_exporter": "python",
   "pygments_lexer": "ipython2",
   "version": "2.7.6"
  }
 },
 "nbformat": 4,
 "nbformat_minor": 0
}
