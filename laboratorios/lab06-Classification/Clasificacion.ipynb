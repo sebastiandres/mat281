{
 "cells": [
  {
   "cell_type": "markdown",
   "metadata": {
    "slideshow": {
     "slide_type": "slide"
    }
   },
   "source": [
    "<header class=\"w3-container w3-teal\">\n",
    "<img src=\"images/utfsm.png\" alt=\"\" height=\"100px\" align=\"left\"/>\n",
    "<img src=\"images/mat.png\" alt=\"\" height=\"100px\" align=\"right\"/>\n",
    "</header>\n",
    "<br/><br/><br/><br/><br/>\n",
    "# MAT281\n",
    "## Laboratorio Aplicaciones de la Matemática en la Ingeniería\n",
    "### Clasificación de dígitos con k Nearest Neighbors"
   ]
  },
  {
   "cell_type": "markdown",
   "metadata": {
    "slideshow": {
     "slide_type": "slide"
    }
   },
   "source": [
    "## INSTRUCCIONES\n",
    "* Anoten su nombre y rol en la celda siguiente.\n",
    "* Desarrollen los problemas de manera secuencial.\n",
    "* Guarden constantemente con ***Ctr-S*** para evitar sorpresas.\n",
    "* Reemplacen en las celdas de código donde diga #FIX_ME por el código correspondiente.\n",
    "* Ejecuten cada celda de código utilizando ***Ctr-Enter***"
   ]
  },
  {
   "cell_type": "code",
   "execution_count": 1,
   "metadata": {
    "collapsed": false
   },
   "outputs": [
    {
     "data": {
      "text/html": [
       "<style>\n",
       "\n",
       "/*********************************************\n",
       " * COLORS FOR EXAMPLES\n",
       " *********************************************/\n",
       "em {font-style: normal !important;\n",
       "    color: #800000;}\n",
       "\n",
       "</style>\n"
      ],
      "text/plain": [
       "<IPython.core.display.HTML object>"
      ]
     },
     "execution_count": 1,
     "metadata": {},
     "output_type": "execute_result"
    }
   ],
   "source": [
    "# Configuracion para recargar módulos y librerías \n",
    "%reload_ext autoreload\n",
    "%autoreload 2\n",
    "\n",
    "%matplotlib inline\n",
    "\n",
    "from IPython.display import Image as ShowImage\n",
    "\n",
    "from IPython.core.display import HTML\n",
    "\n",
    "HTML(open(\"style/mat281.css\", \"r\").read())"
   ]
  },
  {
   "cell_type": "code",
   "execution_count": null,
   "metadata": {
    "collapsed": false,
    "slideshow": {
     "slide_type": "skip"
    }
   },
   "outputs": [],
   "source": [
    "from mat281_code.lab import greetings\n",
    "alumno_1 = (\"Sebastian Flores\", \"2004001-7\")\n",
    "alumno_2 = (\"Maria Jose Vargas\", \"2004007-8\")\n",
    "\n",
    "HTML(greetings(alumno_1, alumno_2))"
   ]
  },
  {
   "cell_type": "markdown",
   "metadata": {},
   "source": [
    "## Observación\n",
    "\n",
    "Este laboratorio utiliza la librería sklearn (oficialmente llamada [scikit learn](http://scikit-learn.org/stable/)), de la cual utilizaremos el método de k Nearest Neighbors."
   ]
  },
  {
   "cell_type": "markdown",
   "metadata": {},
   "source": [
    "## Problema: clasificación de dígitos\n",
    "En este laboratorio realizaremos el trabajo de reconocer un dígito a partir de una imagen.\n",
    "\n",
    "El repositorio con los datos se encuentra en el siguiente [link](https://archive.ics.uci.edu/ml/datasets/Optical+Recognition+of+Handwritten+Digits), pero los datos ya han sido incluídos en el directorio `data/`. \n",
    "\n",
    "## Contenido\n",
    "\n",
    "El laboratorio consiste de 4 secciones:\n",
    "1. Exploración de los datos.\n",
    "2. Entrenando el modelo kNN.\n",
    "3. Estimación del error de predicción de dígitos utilizando kNN.\n",
    "4. Aplicación a dígitos propios."
   ]
  },
  {
   "cell_type": "markdown",
   "metadata": {},
   "source": [
    "## 1. Exploración de los datos\n",
    "\n",
    "Los datos se encuentran en 2 archivos, `data/optdigits.train` y `data/optdigits.test`. Como su nombre lo indica, el set `data/optdigits.train` contiene los ejemplos que deben ser usados para entrenar el modelo, mientras que el set `data/optdigits.test` se utilizará para obtener una estimación del error de predicción.\n",
    "\n",
    "Ambos archivos comparten el mismo formato: cada línea contiene 65 valores. Los 64 primeros corresponden a la representación de la imagen en escala de grises (0-blanco, 255-negro), y el valor 65 corresponde al dígito de la imágene (0-9)."
   ]
  },
  {
   "cell_type": "markdown",
   "metadata": {},
   "source": [
    "#### 1.1 Cargando los datos\n",
    "\n",
    "Para cargar los datos, utilizamos np.loadtxt con los parámetros extra delimiter (para indicar que el separador será en esta ocasión una coma) y con el dype np.int8 (para que su representación en memoria sea la mínima posible, 8 bits en vez de 32/64 bits para un float)."
   ]
  },
  {
   "cell_type": "code",
   "execution_count": null,
   "metadata": {
    "collapsed": false
   },
   "outputs": [],
   "source": [
    "import numpy as np\n",
    "\n",
    "XY_tv = np.loadtxt(\"data/optdigits.train\", delimiter=\",\", dtype=np.int8)\n",
    "print XY_tv\n",
    "X_tv = XY_tv[:,:64]\n",
    "Y_tv = XY_tv[:, 64]\n",
    "\n",
    "print X_tv.shape\n",
    "print Y_tv.shape\n",
    "print X_tv[0,:]\n",
    "print X_tv[0,:].reshape(8,8)\n",
    "print Y_tv[0]"
   ]
  },
  {
   "cell_type": "markdown",
   "metadata": {},
   "source": [
    "#### 1.2 Visualizando los datos\n",
    "\n",
    "Para visualizar los datos utilizaremos el método imshow de pyplot. Resulta necesario convertir el arreglo desde las dimensiones (1,64)  a (8,8) para que la imagen sea cuadrada y pueda distinguirse el dígito. Superpondremos además el label correspondiente al dígito, mediante el método text. Realizaremos lo anterior para los primeros 25 datos del archivo."
   ]
  },
  {
   "cell_type": "code",
   "execution_count": null,
   "metadata": {
    "collapsed": false
   },
   "outputs": [],
   "source": [
    "from matplotlib import pyplot as plt\n",
    "\n",
    "# Well plot the first nx*ny examples\n",
    "nx, ny = 5, 5\n",
    "fig, ax = plt.subplots(nx, ny, figsize=(12,12))\n",
    "for i in range(nx):\n",
    "    for j in range(ny):\n",
    "        index = j+ny*i\n",
    "        data  = X_tv[index,:].reshape(8,8)\n",
    "        label = Y_tv[index]\n",
    "        ax[i][j].imshow(data, interpolation='nearest', cmap=plt.get_cmap('gray_r'))\n",
    "        ax[i][j].text(7, 0, str(int(label)), horizontalalignment='center',\n",
    "                verticalalignment='center', fontsize=10, color='blue')\n",
    "        ax[i][j].get_xaxis().set_visible(False)\n",
    "        ax[i][j].get_yaxis().set_visible(False)\n",
    "plt.show()"
   ]
  },
  {
   "cell_type": "markdown",
   "metadata": {},
   "source": [
    "## 2. Entrenando el modelo\n",
    "\n",
    "#### 2.1 Entrenamiento trivial\n",
    "\n",
    "Entrenaremos el modelo con 1 vecino y verificaremos el error de predicción en el set de entrenamiento."
   ]
  },
  {
   "cell_type": "code",
   "execution_count": null,
   "metadata": {
    "collapsed": false
   },
   "outputs": [],
   "source": [
    "from sklearn.neighbors import KNeighborsClassifier\n",
    "\n",
    "k = 1\n",
    "kNN = KNeighborsClassifier(n_neighbors=k)\n",
    "kNN.fit(X_tv, Y_tv)\n",
    "Y_pred = kNN.predict(X_tv)\n",
    "n_errors = sum(Y_pred!=Y_tv)\n",
    "print \"Hay %d errores de un total de %d ejemplos de entrenamiento\" %(n_errors, len(Y_tv))"
   ]
  },
  {
   "cell_type": "markdown",
   "metadata": {},
   "source": [
    "## [10%] Desafío 1\n",
    "¿Porqué el error de entrenamiento es 0 en el modelo?\n",
    "\n",
    "***RESPONDA AQUI***"
   ]
  },
  {
   "cell_type": "markdown",
   "metadata": {},
   "source": [
    "#### 2.2 Buscando el valor de k más apropiado\n",
    "\n",
    "A partir del análisis del punto anterior, nos damos cuenta de la necesidad de:\n",
    "1. Calcular el error en un set distinto al utilizado para entrenar.\n",
    "2. Calcular el mejor valor de vecinos para el algoritmo.\n",
    "\n",
    "## [20%] Desafío 2\n",
    "\n",
    "Complete el código entregado a continuación, de modo que se calcule el error de predicción (en porcentaje) de kNN, para k entre 1 y 10 (ambos incluidos). Realice una división en set de entrenamiento (75%) y de validación (25%), y calcule el valor promedio y desviación estándar del error de predicción (en porcentaje), tomando al menos 20 repeticiones para cada valor de k.\n",
    "\n",
    "OBS: Ejecución de la celda debería tomar alrededor de 5 minutos."
   ]
  },
  {
   "cell_type": "code",
   "execution_count": null,
   "metadata": {
    "collapsed": false
   },
   "outputs": [],
   "source": [
    "from sklearn.neighbors import KNeighborsClassifier\n",
    "from sklearn.cross_validation import train_test_split\n",
    "\n",
    "template = \"k={0:,d}: {1:.1f} +- {2:.1f} errores de clasificación de un total de {3:,d} puntos\"\n",
    "# Fitting the model\n",
    "mean_error_for_k = []\n",
    "std_error_for_k = []\n",
    "k_range = ##FIX ME##\n",
    "for k in k_range:\n",
    "    errors_k = []\n",
    "    for i in ##FIX ME##:\n",
    "        kNN = ##FIX ME##\n",
    "        X_train, X_valid, Y_train, Y_valid = ##FIX ME##\n",
    "        kNN.fit(X_train, Y_train)\n",
    "        # Predicting values\n",
    "        Y_valid_pred = kNN.predict(X_valid)\n",
    "        # Count the errors\n",
    "        n_errors = ##FIX ME## \n",
    "        # Add them to vector\n",
    "        errors_k.append(100.*n_errors/len(Y_valid))\n",
    "\n",
    "    errors = np.array(errors_k)\n",
    "    print template.format(k, errors.mean(), errors.std(), len(Y_valid))\n",
    "    mean_error_for_k.append(errors.mean())\n",
    "    std_error_for_k.append(errors.std())"
   ]
  },
  {
   "cell_type": "markdown",
   "metadata": {},
   "source": [
    "#### 2.3 Visualizado el error de predicción\n",
    "Podemos visualizar los datos anteriores utilizando el siguiente código, que requiere que `sd_error_for k` y `mean_error_for_k` hayan sido apropiadamente definidos."
   ]
  },
  {
   "cell_type": "code",
   "execution_count": null,
   "metadata": {
    "collapsed": false
   },
   "outputs": [],
   "source": [
    "mean = np.array(mean_error_for_k)\n",
    "std = np.array(std_error_for_k)\n",
    "plt.figure(figsize=(12,8))\n",
    "plt.plot(k_range, mean - std, \"k:\")\n",
    "plt.plot(k_range, mean , \"r.-\")\n",
    "plt.plot(k_range, mean + std, \"k:\")\n",
    "plt.xlabel(\"Numero de vecinos k\")\n",
    "plt.ylabel(\"Error de clasificacion\")\n",
    "plt.show()"
   ]
  },
  {
   "cell_type": "markdown",
   "metadata": {},
   "source": [
    "## [10%] Desafío 3\n",
    "¿Qué patrón se observa en los datos? ¿Qué valor de $k$ elegirá para el algoritmo?\n",
    "\n",
    "***RESPONDA AQUI***"
   ]
  },
  {
   "cell_type": "markdown",
   "metadata": {},
   "source": [
    "#### 2.4 Entrenando con todos los datos\n",
    "\n",
    "A partir de lo anterior, se fija el número de vecinos $k$ y se procede a entrenar el modelo con todos los datos. "
   ]
  },
  {
   "cell_type": "code",
   "execution_count": null,
   "metadata": {
    "collapsed": false
   },
   "outputs": [],
   "source": [
    "from sklearn.neighbors import KNeighborsClassifier\n",
    "from sklearn.cross_validation import train_test_split\n",
    "import numpy as np\n",
    "\n",
    "k = 2\n",
    "kNN = KNeighborsClassifier(n_neighbors=k)\n",
    "kNN.fit(X_tv, Y_tv)"
   ]
  },
  {
   "cell_type": "markdown",
   "metadata": {},
   "source": [
    "#### 2.5 Predicción en testing dataset\n",
    "\n",
    "Ahora que el modelo kNN ha sido completamente entrenado, calcularemos el error de predicción en un set de datos completamente nuevo: el set de testing. \n",
    "\n",
    "## [15%] Desafío 4\n",
    "Complete el código a continuación, para cargar los datos del set de entrenamiento y realizar una predicción de los dígitos de cada imagen. ***No cambie los nombres de las variables***."
   ]
  },
  {
   "cell_type": "code",
   "execution_count": null,
   "metadata": {
    "collapsed": false
   },
   "outputs": [],
   "source": [
    "# Cargando el archivo data/optdigits.tes\n",
    "XY_test = ##FIX ME##\n",
    "X_test = ##FIX ME##\n",
    "Y_test = ##FIX ME##\n",
    "# Predicción de etiquetas\n",
    "Y_pred = ##FIX ME##"
   ]
  },
  {
   "cell_type": "markdown",
   "metadata": {},
   "source": [
    "#### 2.6 Visualización de etiquetas correctas\n",
    "Puesto que tenemos las etiquetas verdaderas en el set de entrenamiento, podemos visualizar que números han sido correctamente etiquetados. Ejecute el código a continuación."
   ]
  },
  {
   "cell_type": "code",
   "execution_count": null,
   "metadata": {
    "collapsed": false
   },
   "outputs": [],
   "source": [
    "from matplotlib import pyplot as plt\n",
    "\n",
    "# Mostrar los datos correctos\n",
    "mask = (Y_pred==Y_test)\n",
    "X_aux = X_test[mask]\n",
    "Y_aux_true = Y_test[mask]\n",
    "Y_aux_pred = Y_pred[mask]\n",
    "\n",
    "# We'll plot the first 100 examples, randomly choosen\n",
    "nx, ny = 5, 5\n",
    "fig, ax = plt.subplots(nx, ny, figsize=(12,12))\n",
    "for i in range(nx):\n",
    "    for j in range(ny):\n",
    "        index = j+ny*i\n",
    "        data  = X_aux[index,:].reshape(8,8)\n",
    "        label_pred = str(int(Y_aux_pred[index]))\n",
    "        label_true = str(int(Y_aux_true[index]))\n",
    "        ax[i][j].imshow(data, interpolation='nearest', cmap=plt.get_cmap('gray_r'))\n",
    "        ax[i][j].text(0, 0, label_pred, horizontalalignment='center',\n",
    "                verticalalignment='center', fontsize=10, color='green')\n",
    "        ax[i][j].text(7, 0, label_true, horizontalalignment='center',\n",
    "                verticalalignment='center', fontsize=10, color='blue')\n",
    "        ax[i][j].get_xaxis().set_visible(False)\n",
    "        ax[i][j].get_yaxis().set_visible(False)\n",
    "plt.show()"
   ]
  },
  {
   "cell_type": "markdown",
   "metadata": {},
   "source": [
    "#### 2.7 Visualización de etiquetas incorrectas\n",
    "Más interesante que el gráfico anterior, resulta considerar los casos donde los dígitos han sido incorrectamente etiquetados. \n",
    "\n",
    "\n",
    "## [15%] Desafio 5\n",
    "Modifique el código anteriormente provisto para que muestre los dígitos incorrectamente etiquetados, cambiando apropiadamente la máscara. Cambie también el color de la etiqueta desde verde a rojo, para indicar una mala etiquetación. "
   ]
  },
  {
   "cell_type": "code",
   "execution_count": null,
   "metadata": {
    "collapsed": false
   },
   "outputs": [],
   "source": [
    "##FIX ME##"
   ]
  },
  {
   "cell_type": "markdown",
   "metadata": {},
   "source": [
    "#### 2.8 Análisis del error\n",
    "\n",
    "Después de la exploración visual de los resultados, queremos obtener el error de predicción real del modelo.\n",
    "\n",
    "## [10%] Desafío 6\n",
    "Complete el código, obteniendo el error de clasificación para cada dígito. ¿Existen dígitos más fáciles o difíciles de clasificar?\n",
    "\n",
    "***RESPONDER AQUI***"
   ]
  },
  {
   "cell_type": "code",
   "execution_count": null,
   "metadata": {
    "collapsed": false
   },
   "outputs": [],
   "source": [
    "# Error global\n",
    "mask = (Y_pred!=Y_test)\n",
    "error_prediccion = ##FIX ME##\n",
    "print \"Error de predicción total de %.1f \" %error_prediccion\n",
    "\n",
    "for digito in range(0,10):\n",
    "    mask_digito = ##FIX ME##\n",
    "    Y_test_digito = Y_test[mask_digito] \n",
    "    Y_pred_digito = Y_pred[mask_digito]\n",
    "    error_prediccion = 100.*sum((Y_pred_digito!=Y_test_digito)) / len(Y_pred_digito)\n",
    "    print \"Error de predicción para digito %d de %.1f \" %(digito, error_prediccion)"
   ]
  },
  {
   "cell_type": "markdown",
   "metadata": {},
   "source": [
    "#### 2.9 Análisis del error (cont. de)\n",
    "\n",
    "El siguiente código muestra el error de clasificación, permitiendo verificar que números son confundibles"
   ]
  },
  {
   "cell_type": "code",
   "execution_count": null,
   "metadata": {
    "collapsed": false
   },
   "outputs": [],
   "source": [
    "from sklearn.metrics import confusion_matrix as cm\n",
    "cm = cm(Y_test, Y_pred)\n",
    "print cm"
   ]
  },
  {
   "cell_type": "code",
   "execution_count": null,
   "metadata": {
    "collapsed": false
   },
   "outputs": [],
   "source": [
    "# As in http://scikit-learn.org/stable/auto_examples/model_selection/plot_confusion_matrix.html\n",
    "def plot_confusion_matrix(cm, title='Confusion matrix', cmap=plt.cm.hot):\n",
    "    plt.figure(figsize=(10,10))\n",
    "    plt.imshow(cm, interpolation='nearest', cmap=cmap)\n",
    "    plt.title(title)\n",
    "    plt.colorbar()\n",
    "    tick_marks = np.arange(10)\n",
    "    plt.xticks(tick_marks, tick_marks)\n",
    "    plt.yticks(tick_marks, tick_marks)\n",
    "    plt.tight_layout()\n",
    "    plt.ylabel('True label')\n",
    "    plt.xlabel('Predicted label')\n",
    "    plt.show()\n",
    "    return None\n",
    "\n",
    "# Compute confusion matrix\n",
    "plt.figure()\n",
    "plot_confusion_matrix(cm)\n",
    "\n",
    "# Normalize the confusion matrix by row (i.e by the number of samples\n",
    "# in each class)\n",
    "cm_normalized = cm.astype('float') / cm.sum(axis=1)[:, np.newaxis]\n",
    "plot_confusion_matrix(cm_normalized, title='Normalized confusion matrix')\n"
   ]
  },
  {
   "cell_type": "markdown",
   "metadata": {},
   "source": [
    "A partir de lo anterior, vemos observamos que los mayores errores son:\n",
    "* El 2 puede clasificarse erróneamente como 1 (pero no viceversa).\n",
    "* El 7 puede clasificarse erróneamente como 9 (pero no viceversa).\n",
    "* El 8 puede clasificarse erróneamente como 1 (pero no viceversa).\n",
    "* El 9 puede clasificarse erróneamente como 3 (pero no viceversa)."
   ]
  },
  {
   "cell_type": "markdown",
   "metadata": {},
   "source": [
    "## 3. Digitos propios\n",
    "Para ver que tan bien resulta la predicción en sus propios dígitos, usted ha escrito los dígitos en un papel y le ha sacado una fotografía.\n",
    "\n",
    "<img src=\"mis_digitos/0-9.jpg\" alt=\"\" width=\"800px\" align=\"middle\"/>\n",
    "\n",
    "Después de regular la luminosidad, recortarlos apropiadamente y escalarlos a 8x8 pixeles, ha obtenido las siguientes imágenes:\n",
    "\n",
    "<p><br>\n",
    "<img src=\"mis_digitos/0.jpg\" alt=\"\" width=\"50px\" align=\"left\"/>\n",
    "<img src=\"mis_digitos/1.jpg\" alt=\"\" width=\"50px\" align=\"left\"/>\n",
    "<img src=\"mis_digitos/2.jpg\" alt=\"\" width=\"50px\" align=\"left\"/>\n",
    "<img src=\"mis_digitos/3.jpg\" alt=\"\" width=\"50px\" align=\"left\"/>\n",
    "<img src=\"mis_digitos/4.jpg\" alt=\"\" width=\"50px\" align=\"left\"/>\n",
    "<img src=\"mis_digitos/5.jpg\" alt=\"\" width=\"50px\" align=\"left\"/>\n",
    "<img src=\"mis_digitos/6.jpg\" alt=\"\" width=\"50px\" align=\"left\"/>\n",
    "<img src=\"mis_digitos/7.jpg\" alt=\"\" width=\"50px\" align=\"left\"/>\n",
    "<img src=\"mis_digitos/8.jpg\" alt=\"\" width=\"50px\" align=\"left\"/>\n",
    "<img src=\"mis_digitos/9.jpg\" alt=\"\" width=\"50px\" align=\"left\"/>\n",
    "</p>"
   ]
  },
  {
   "cell_type": "markdown",
   "metadata": {},
   "source": [
    "#### 3.1 Cargando datos de digitos\n",
    "Para cargar los datos, necesitamos utilizar la librería PIL. Ilustraremos el funcionamiento con la imagen del dígito 0, que se encuentra en `mis_digitos/0.jpg`."
   ]
  },
  {
   "cell_type": "code",
   "execution_count": null,
   "metadata": {
    "collapsed": false
   },
   "outputs": [],
   "source": [
    "from PIL import Image\n",
    "import numpy as np\n",
    "\n",
    "# Data\n",
    "input_image = \"mis_digitos/0.jpg\"\n",
    "\n",
    "# Read image\n",
    "image = Image.open(input_image, 'r')\n",
    "width, height = image.size\n",
    "print \"La imagen tiene %dx%d=%d pixeles\" %(width, height, width*height)\n",
    "X_rgb = np.array(image.getdata(), dtype=np.uint8) # x_i = (R_i, G_i, B_i)\n",
    "#X_rgb = X_rgb.reshape(height,width,3)\n",
    "print X_rgb[:,0] # Rojo\n",
    "print X_rgb[:,1] # Verde\n",
    "print X_rgb[:,2] # Azul"
   ]
  },
  {
   "cell_type": "markdown",
   "metadata": {},
   "source": [
    "Nuestro algoritmo no utiliza los distintos niveles de rojo (R), verde (G) y azul (B), y solamente le importa la luminancia $L$ de la imagen:\n",
    "$$ L = (R + G + B)/3 $$\n",
    "Esto es razonable, pues no nos interesa el color del lápiz que realizó el dígito, sino la forma de éste. \n",
    "Resulta además escalar para que la imagen tenga presente el valor máximo y mínimo (no depende de la iluminación de la imagen), es decir, que se cumpla $min(X) = 0$ y $max(X) = 255$."
   ]
  },
  {
   "cell_type": "code",
   "execution_count": null,
   "metadata": {
    "collapsed": false
   },
   "outputs": [],
   "source": [
    "X = 255 - (X_rgb[:,0] + X_rgb[:,1] + X_rgb[:,2])/3.\n",
    "digito = 300 * (X-X.min())/(X.max()-X.min())\n",
    "digito[digito>255] = 255"
   ]
  },
  {
   "cell_type": "markdown",
   "metadata": {},
   "source": [
    "Visualicemos la imagen obtenida"
   ]
  },
  {
   "cell_type": "code",
   "execution_count": null,
   "metadata": {
    "collapsed": false
   },
   "outputs": [],
   "source": [
    "data = digito.reshape(8,8)\n",
    "plt.imshow(data, interpolation='nearest', cmap=plt.get_cmap('gray_r'))\n",
    "plt.show()"
   ]
  },
  {
   "cell_type": "markdown",
   "metadata": {},
   "source": [
    "Veamos que nos daría la predicción con kNN. Recuerde que tiene el modelo ya ha sido cargado en memoria y se encuenta en la variable `kNN`."
   ]
  },
  {
   "cell_type": "code",
   "execution_count": null,
   "metadata": {
    "collapsed": false
   },
   "outputs": [],
   "source": [
    "label = kNN.predict(digito)\n",
    "print label"
   ]
  },
  {
   "cell_type": "markdown",
   "metadata": {},
   "source": [
    "#### 3.2 Carga de datos\n",
    "Realicemos ahora la predicción para todas las imágenes de manera simultánea. Para ello abriremos cada imagen, realizaremos los arreglos de luminancia y escalamiento, y almacenaremos el arreglo en una fila de una matriz."
   ]
  },
  {
   "cell_type": "code",
   "execution_count": null,
   "metadata": {
    "collapsed": false
   },
   "outputs": [],
   "source": [
    "X_mis_digitos = np.zeros([10,64])\n",
    "Y_mis_digitos = np.zeros(10)\n",
    "for i in range(10):\n",
    "    template = \"mis_digitos/{0}.jpg\"\n",
    "    archivo = template.format(i)\n",
    "    print \"Abriendo archivo\", archivo\n",
    "    image = Image.open(archivo, 'r')\n",
    "    X_rgb = np.array(image.getdata(), dtype=np.uint8) # x_i = (R_i, G_i, B_i)\n",
    "    X = 255 - (X_rgb[:,0] + X_rgb[:,1] + X_rgb[:,2])/3.\n",
    "    digito = 300 * (X-X.min())/(X.max()-X.min())\n",
    "    digito[digito>255] = 255\n",
    "    X_mis_digitos[i,:] = digito\n",
    "    Y_mis_digitos[i] = i\n",
    "\n",
    "# Realizar la predicción simultánea\n",
    "Y_pred = kNN.predict(X_mis_digitos)"
   ]
  },
  {
   "cell_type": "markdown",
   "metadata": {},
   "source": [
    "#### 3.2 Visualización de resultados"
   ]
  },
  {
   "cell_type": "code",
   "execution_count": null,
   "metadata": {
    "collapsed": false
   },
   "outputs": [],
   "source": [
    "from matplotlib import pyplot as plt\n",
    "\n",
    "X_aux = X_mis_digitos\n",
    "Y_aux_true = Y_mis_digitos\n",
    "Y_aux_pred = Y_pred\n",
    "\n",
    "nx, ny = 2, 5\n",
    "fig, ax = plt.subplots(nx, ny, figsize=(20,10))\n",
    "for i in range(nx):\n",
    "    for j in range(ny):\n",
    "        index = j+ny*i\n",
    "        data  = X_aux[index,:].reshape(8,8)\n",
    "        label_pred = str(int(Y_aux_pred[index]))\n",
    "        label_true = str(int(Y_aux_true[index]))\n",
    "        if label_true == label_pred:\n",
    "            color = \"green\"\n",
    "        else:\n",
    "            color = \"red\"\n",
    "        ax[i][j].imshow(data, interpolation='nearest', cmap=plt.get_cmap('gray_r'))\n",
    "        ax[i][j].text(0, 0, label_pred, horizontalalignment='center',\n",
    "                verticalalignment='center', fontsize=10, color=color)\n",
    "        ax[i][j].text(7, 0, label_true, horizontalalignment='center',\n",
    "                verticalalignment='center', fontsize=10, color='blue')\n",
    "        ax[i][j].get_xaxis().set_visible(False)\n",
    "        ax[i][j].get_yaxis().set_visible(False)\n",
    "\n",
    "plt.show()"
   ]
  },
  {
   "cell_type": "markdown",
   "metadata": {},
   "source": [
    "## [10%] Desafío 7\n",
    "\n",
    "¿Qué error de predicción se obtiene en las imágenes de los dígitos? ¿Es esperable este resultado?\n",
    "\n",
    "*** RESPONDA AQUI***"
   ]
  },
  {
   "cell_type": "markdown",
   "metadata": {},
   "source": [
    "## [10%] Desafío 8\n",
    "\n",
    "¿Cómo podría mejorarse el resultado anterior?\n",
    "\n",
    "*** RESPONDA AQUI***"
   ]
  }
 ],
 "metadata": {
  "celltoolbar": "Slideshow",
  "kernelspec": {
   "display_name": "Python 2",
   "language": "python",
   "name": "python2"
  },
  "language_info": {
   "codemirror_mode": {
    "name": "ipython",
    "version": 2
   },
   "file_extension": ".py",
   "mimetype": "text/x-python",
   "name": "python",
   "nbconvert_exporter": "python",
   "pygments_lexer": "ipython2",
   "version": "2.7.6"
  }
 },
 "nbformat": 4,
 "nbformat_minor": 0
}
