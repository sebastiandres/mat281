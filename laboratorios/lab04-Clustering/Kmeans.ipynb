{
 "cells": [
  {
   "cell_type": "markdown",
   "metadata": {
    "slideshow": {
     "slide_type": "slide"
    }
   },
   "source": [
    "<header class=\"w3-container w3-teal\">\n",
    "<img src=\"images/utfsm.png\" alt=\"\" height=\"100px\" align=\"left\"/>\n",
    "<img src=\"images/mat.png\" alt=\"\" height=\"100px\" align=\"right\"/>\n",
    "</header>\n",
    "<br/><br/><br/><br/><br/>\n",
    "# MAT281\n",
    "## Laboratorio Aplicaciones de la Matemática en la Ingeniería\n",
    "### Clustering"
   ]
  },
  {
   "cell_type": "markdown",
   "metadata": {
    "slideshow": {
     "slide_type": "slide"
    }
   },
   "source": [
    "## INSTRUCCIONES\n",
    "* Anoten su nombre y rol en la celda siguiente.\n",
    "* Desarrollen los problemas de manera secuencial.\n",
    "* Guarden constantemente con ***Ctr-S*** para evitar sorpresas.\n",
    "* Reemplacen en las celdas de código donde diga #FIX_ME por el código correspondiente.\n",
    "* Ejecuten cada celda de código utilizando ***Ctr-Enter***"
   ]
  },
  {
   "cell_type": "code",
   "execution_count": 2,
   "metadata": {
    "collapsed": false
   },
   "outputs": [
    {
     "data": {
      "text/html": [
       "<style>\n",
       "\n",
       "em {font-style: normal !important;\n",
       "    color: #800000;}\n",
       "\n",
       "</style>\n"
      ],
      "text/plain": [
       "<IPython.core.display.HTML object>"
      ]
     },
     "execution_count": 2,
     "metadata": {},
     "output_type": "execute_result"
    }
   ],
   "source": [
    "# Configuracion para recargar módulos y librerías \n",
    "%reload_ext autoreload\n",
    "%autoreload 2\n",
    "\n",
    "%matplotlib inline\n",
    "\n",
    "from IPython.core.display import HTML\n",
    "\n",
    "HTML(open(\"style/mat281.css\", \"r\").read())"
   ]
  },
  {
   "cell_type": "code",
   "execution_count": 3,
   "metadata": {
    "collapsed": false,
    "slideshow": {
     "slide_type": "skip"
    }
   },
   "outputs": [
    {
     "data": {
      "text/html": [
       "<b>Alumno</b>: Sebastian Flores               <b>rol</b>: 2004001-7 <br><b>Alumno</b>: Maria Jose Vargas              <b>rol</b>: 2004007-8 <br>Good luck!"
      ],
      "text/plain": [
       "<IPython.core.display.HTML object>"
      ]
     },
     "execution_count": 3,
     "metadata": {},
     "output_type": "execute_result"
    }
   ],
   "source": [
    "from mat281_code.lab import greetings\n",
    "alumno_1 = (\"Sebastian Flores\", \"2004001-7\")\n",
    "alumno_2 = (\"Maria Jose Vargas\", \"2004007-8\")\n",
    "\n",
    "HTML(greetings(alumno_1, alumno_2))"
   ]
  },
  {
   "cell_type": "markdown",
   "metadata": {},
   "source": [
    "## Observación\n",
    "\n",
    "***Este laboratorio utiliza la librería sklearn (oficialmente llamada [scikit learn](http://scikit-learn.org/stable/)), puesto que buscamos aplicar la técnica del clustering a datos tal como se haría en una aplicación real. El código a proveer en este laboratorio es reducido, y la nota se basará mayoritariamente en la calidad de las respuestas entregadas en los comentarios.***"
   ]
  },
  {
   "cell_type": "markdown",
   "metadata": {},
   "source": [
    "## Problema: Wine Dataset\n",
    "\n",
    "Los datos del [Wine Dataset](https://archive.ics.uci.edu/ml/datasets/Wine) son un conjunto de datos clásicos para verificar los algoritmos de clustering. \n",
    "\n",
    "<img src=\"images/wine.jpg\" alt=\"\" width=\"600px\" align=\"middle\"/>\n",
    "\n",
    "Los datos corresponden a 3 cultivos diferentes de vinos de la misma región de Italia, y que han sido identificados con las etiquetas 1, 2 y 3. Para cada tipo de vino se realizado 13 análisis químicos:\n",
    "\n",
    "1. Alcohol \n",
    "2.  Malic acid \n",
    "3. Ash \n",
    "4. Alcalinity of ash \n",
    "5. Magnesium \n",
    "6. Total phenols \n",
    "7. Flavanoids \n",
    "8. Nonflavanoid phenols \n",
    "9. Proanthocyanins \n",
    "10. Color intensity \n",
    "11. Hue \n",
    "12. OD280/OD315 of diluted wines \n",
    "13. Proline \n",
    "\n",
    "\n",
    "La base de datos contiene 178 muestras distintas en total.\n"
   ]
  },
  {
   "cell_type": "markdown",
   "metadata": {},
   "source": [
    "## 1. Lectura de datos\n",
    "Esta vez los datos del wine dataset ya se encuentan en la carpeta `Lab04/data/`. \n",
    "\n",
    "Existen 2 archivos de interés:\n",
    "* `wine_data.txt` : Datos de interés.\n",
    "* `wine_names.txt` : Explicación de los datos."
   ]
  },
  {
   "cell_type": "code",
   "execution_count": null,
   "metadata": {
    "collapsed": false
   },
   "outputs": [],
   "source": [
    "%%bash\n",
    "head data/wine_data.txt"
   ]
  },
  {
   "cell_type": "markdown",
   "metadata": {},
   "source": [
    "## Desafío 1 (10%)\n",
    "El siguiente código permite leer los datos desde el archivo `data/wine_data.txt` y cargarlos en un numpy.array. Complete la preparación de los datos, separando los datos en el arreglo `X` (datos a utilizar para clustering) y `true_labels` (etiquetas verdaderas para cada dato de `X`).\n",
    "\n",
    "OBS: Las etiquetas verdaderas deben modificarse para que sean 0, 1 y 2 (en vez de 1, 2 y 3 como vienen en el archivo)."
   ]
  },
  {
   "cell_type": "code",
   "execution_count": null,
   "metadata": {
    "collapsed": false
   },
   "outputs": [],
   "source": [
    "import numpy as np\n",
    "data = np.loadtxt(\"data/wine_data.txt\", delimiter=\",\")\n",
    "names = [\"Alcohol\", \"Malic acid\", \"Ash\", \"Alcalinity of ash\", \"Magnesium\", \"Total phenols\",\n",
    "         \"Flavanoids\", \"Nonflavanoid phenols\", \"Proanthocyanins\", \"Color intensity\",\n",
    "         \"Hue\", \"OD280/OD315\", \"Proline\",\n",
    "        ]\n",
    "X = data[:,:] # FIX ME ¿que columnas tomar?\n",
    "true_labels = data[:,:] # FIX ME ¿que columna tomar?"
   ]
  },
  {
   "cell_type": "markdown",
   "metadata": {},
   "source": [
    "## Desafío 2 (10%)\n",
    "Utilizando el vector `true_labels` definido anteriormente, complete el código para conocer cuántas muestras son de tipo 0, de tipo 1 y de tipo 2."
   ]
  },
  {
   "cell_type": "code",
   "execution_count": null,
   "metadata": {
    "collapsed": false
   },
   "outputs": [],
   "source": [
    "tipo_0 = len(true_labels[:]) # FIX ME. ¿Como seleccionar una clase en particular?\n",
    "tipo_1 = 42 # FIX ME ¿Como seleccionar una clase en particular?\n",
    "tipo_2 = 0 # FIX ME ¿Como seleccionar una clase en particular?\n",
    "print \"Hay %d muestras de tipo 0\" %tipo_0\n",
    "print \"Hay %d muestras de tipo 1\" %tipo_1\n",
    "print \"Hay %d muestras de tipo 2\" %tipo_2\n",
    "esta_correcto = ( tipo_0+tipo_1+tipo_2==len(true_labels) )\n",
    "print \"Check: %d + %d + %d = %d? %s\" %(tipo_0, tipo_1, tipo_2, len(true_labels), esta_correcto)"
   ]
  },
  {
   "cell_type": "markdown",
   "metadata": {},
   "source": [
    "## 2. Exploración de valores\n",
    "\n",
    "Antes de realizar el clustering, deseamos revisar los datos. El siguiente código permite conocer la distribución de las mediciones para las muestras. "
   ]
  },
  {
   "cell_type": "code",
   "execution_count": null,
   "metadata": {
    "collapsed": false
   },
   "outputs": [],
   "source": [
    "from matplotlib import pyplot as plt\n",
    "rows, cols = 5, 3\n",
    "fig, axes = plt.subplots(rows, cols, figsize=(16,16))\n",
    "for i in range(rows):\n",
    "    for  j in range(cols):\n",
    "        n = i*cols + j\n",
    "        if n<13:\n",
    "            ax = axes[i][j]\n",
    "            ax.hist(X[:,n], alpha=0.75)\n",
    "            ax.set_title(names[n])\n",
    "fig.tight_layout()\n",
    "plt.show()"
   ]
  },
  {
   "cell_type": "markdown",
   "metadata": {},
   "source": [
    "## Desafío 3 (10%)\n",
    "\n",
    "En base a la exploración de valores, ¿que resulta más razonable? ¿Porqué?\n",
    "1. Aplicar el algoritmo de clustering directamente.\n",
    "2. Realizar algún tipo de normalización a los datos, y luego aplicar el algoritmo de clustering.\n",
    "\n",
    "**Justifique su respuesta**: piense en cómo funciona K-Means.\n",
    "\n",
    "#### Respuesta\n",
    "\n",
    "***FIX ME. (Editar con doble click, y luego mostrar con Ctrl+Enter)***"
   ]
  },
  {
   "cell_type": "markdown",
   "metadata": {},
   "source": [
    "## 3. Clustering Directo\n",
    "\n",
    "A continuación se provee el código para realizar el clustering de los datos de manera directa (sin normalizar)."
   ]
  },
  {
   "cell_type": "code",
   "execution_count": null,
   "metadata": {
    "collapsed": false
   },
   "outputs": [],
   "source": [
    "from sklearn.cluster import KMeans\n",
    "from sklearn.metrics import confusion_matrix\n",
    "\n",
    "# Parameters\n",
    "n_clusters = 3\n",
    "\n",
    "# Running the algorithm\n",
    "kmeans = KMeans(n_clusters)\n",
    "kmeans.fit(X)\n",
    "pred_labels = kmeans.labels_\n",
    "\n",
    "cm = confusion_matrix(true_labels, pred_labels)\n",
    "print cm"
   ]
  },
  {
   "cell_type": "markdown",
   "metadata": {},
   "source": [
    "## Desafío 4 (10%)\n",
    "\n",
    "Ejecute el código anterior y comente los resultados. ¿Permite el clustering recobrar el agrupamiento natural de los datos? ¿Si no, porqué?\n",
    "\n",
    "#### Respuesta\n",
    "\n",
    "***FIX ME. (Editar con doble click, y luego mostrar con Ctrl+Enter)***"
   ]
  },
  {
   "cell_type": "markdown",
   "metadata": {},
   "source": [
    "## 3. Normalización de los datos\n",
    "\n",
    "Sabemos que los algoritmos suelen funcionar mejor con los datos normalizados, como se explicó en la clase de [Regresión Lineal](https://github.com/usantamaria/mat281/blob/master/clases/Unidad4-MachineLearning/Clase03-RegresionLineal/RegresionLineal.ipynb).\n",
    "\n",
    "Note que en el caso de los algoritmos de clustering, sólo es necesario normalizar la matrix `X`, ¡las etiquetas no necesitan normalizarse!\n",
    "\n",
    "## Desafío 5 (20%)\n",
    "* Normalice los datos utilizando para obtener una nueva matriz `X_mod_1`, cuyas columnas tengan sus datos en el rango [0,1]. \n",
    "* ¿Porqué normalizamos por columna y no por fila?\n",
    "* Reutilice el código anteriormente provisto para realizar el clustering en los datos normalizados y comente los resultados obtenidos."
   ]
  },
  {
   "cell_type": "code",
   "execution_count": null,
   "metadata": {
    "collapsed": true
   },
   "outputs": [],
   "source": [
    "X_mod_1 = X # FIX ME\n",
    "# AGREGAR CODIGO PARA REALIZAR CLUSTERING EN X_mod_1"
   ]
  },
  {
   "cell_type": "markdown",
   "metadata": {},
   "source": [
    "Comentario a los resultados obtenidos.\n",
    "#### Respuesta\n",
    "\n",
    "***FIX ME. (Editar con doble click, y luego mostrar con Ctrl+Enter)***"
   ]
  },
  {
   "cell_type": "markdown",
   "metadata": {},
   "source": [
    "## Desafío 6 (20%)\n",
    "* Estandarice los datos para obtener una nueva matriz `X_mod_2`, de manera que `X_mod_2` posea media 0 y desviación estándar 1 para cada una de sus columnas. \n",
    "* Reutilice el código anteriormente provisto para realizar el clustering en los datos estandarizados y comente los resultados obtenidos."
   ]
  },
  {
   "cell_type": "code",
   "execution_count": null,
   "metadata": {
    "collapsed": true
   },
   "outputs": [],
   "source": [
    "X_mod_2 = X # FIX ME\n",
    "# AGREGAR CODIGO PARA REALIZAR CLUSTERING EN X_mod_1"
   ]
  },
  {
   "cell_type": "markdown",
   "metadata": {},
   "source": [
    "Comentario a los resultados obtenidos.\n",
    "\n",
    "#### Respuesta\n",
    "\n",
    "***FIX ME. (Editar con doble click, y luego mostrar con Ctrl+Enter)***"
   ]
  },
  {
   "cell_type": "markdown",
   "metadata": {},
   "source": [
    "## Desafío 7 (10%)\n",
    "\n",
    "¿Cuál de las 3 versiones aplicadas de clustering funcionó mejor? ¿Porqué cree que sea así?\n",
    "\n",
    "#### Respuesta\n",
    "\n",
    "***FIX ME. (Editar con doble click, y luego mostrar con Ctrl+Enter)***"
   ]
  },
  {
   "cell_type": "markdown",
   "metadata": {},
   "source": [
    "## Bonus Track: Regla del codo\n",
    "En todos los casos hemos utilizado que el número de clusters es igual a 3. En caso que no conociéramos este dato, deberíamos graficar la suma de las distancias a los clusters para cada punto, en función del número de clusters.\n",
    "A continuación se provee el código para el caso de clustering sobre los datos estandarizados, leídos directamente de un archivo preparado especialmente.\n"
   ]
  },
  {
   "cell_type": "code",
   "execution_count": null,
   "metadata": {
    "collapsed": false
   },
   "outputs": [],
   "source": [
    "from sklearn.cluster import KMeans\n",
    "\n",
    "X_mod = np.loadtxt(\"data/X_estandarized.txt\")\n",
    "\n",
    "clusters = range(2,20)\n",
    "total_distance = []\n",
    "for n_clusters in clusters:\n",
    "    kmeans = KMeans(n_clusters)\n",
    "    kmeans.fit(X_mod)\n",
    "    pred_labels = kmeans.labels_\n",
    "    centroids = kmeans.cluster_centers_\n",
    "    # Get the distances\n",
    "    distance_for_n = 0\n",
    "    for k in range(n_clusters):\n",
    "        points = X_mod[pred_labels==k]\n",
    "        aux = (points - centroids[k,:])**2\n",
    "        distance_for_n += (aux.sum(axis=1)**0.5).sum()\n",
    "    total_distance.append(distance_for_n)"
   ]
  },
  {
   "cell_type": "code",
   "execution_count": null,
   "metadata": {
    "collapsed": false
   },
   "outputs": [],
   "source": [
    "fig = plt.figure(figsize=(16,8))\n",
    "plt.plot(clusters, total_distance, 'rs')\n",
    "plt.xlim(min(clusters)-1, max(clusters)+1)\n",
    "#plt.ylim(0, max(total_distance)*1.1)\n",
    "plt.show()"
   ]
  }
 ],
 "metadata": {
  "celltoolbar": "Slideshow",
  "kernelspec": {
   "display_name": "Python 2",
   "language": "python",
   "name": "python2"
  },
  "language_info": {
   "codemirror_mode": {
    "name": "ipython",
    "version": 2
   },
   "file_extension": ".py",
   "mimetype": "text/x-python",
   "name": "python",
   "nbconvert_exporter": "python",
   "pygments_lexer": "ipython2",
   "version": "2.7.6"
  }
 },
 "nbformat": 4,
 "nbformat_minor": 0
}
