{
 "cells": [
  {
   "cell_type": "markdown",
   "metadata": {
    "slideshow": {
     "slide_type": "slide"
    }
   },
   "source": [
    "<header class=\"w3-container w3-teal\">\n",
    "<img src=\"images/utfsm.png\" alt=\"\" height=\"100px\" align=\"left\"/>\n",
    "<img src=\"images/mat.png\" alt=\"\" height=\"100px\" align=\"right\"/>\n",
    "</header>\n",
    "<br/><br/><br/><br/><br/>\n",
    "# MAT281\n",
    "## Laboratorio Aplicaciones de la Matemática en la Ingeniería\n",
    "### Modelamiento y Errores"
   ]
  },
  {
   "cell_type": "markdown",
   "metadata": {
    "slideshow": {
     "slide_type": "slide"
    }
   },
   "source": [
    "## INSTRUCCIONES\n",
    "* Anoten su nombre y rol en la celda siguiente.\n",
    "* Desarrollen los problemas de manera secuencial.\n",
    "* Guarden constantemente con ***Ctr-S*** para evitar sorpresas.\n",
    "* Reemplacen en las celdas de código donde diga #FIX_ME por el código correspondiente.\n",
    "* Ejecuten cada celda de código utilizando ***Ctr-Enter***"
   ]
  },
  {
   "cell_type": "code",
   "execution_count": null,
   "metadata": {
    "collapsed": false,
    "slideshow": {
     "slide_type": "skip"
    }
   },
   "outputs": [],
   "source": [
    "#Configuracion para recargar módulos y librerías cada vez \n",
    "%reload_ext autoreload\n",
    "%autoreload 2\n",
    "                                                                                                                                                                                                                                                                                                                                                                                                                                                                                                                                                                                                                                                                                \n",
    "%matplotlib inline\n",
    "                                                                                                                                                                                                                                                                                                                                                                                                                                                                                                                                                                                                                                                                                                                                                                                                                                                                                                                                                                                                                                                                                                                                                                                                                                                                                                                                                                                                                                                                                                                                                                                                                                                                                                                                                                                                                                                                                                                                                                                                                                                                                                                                                                                                                                                                                                                                                                                                                                                                                                                                                                                                                                                                                                                                                                                                                                                                                                                                                                                                                                                                                                                                                                                                                                                                                                                                                                                                                                                                                                                                                                                                                                                                                                                                                                                                                                                                                                                                                                                                                                                                                                                                                                                                                                                                                                                                                                                                                                                                                                                                                                                                                                                                                                                                                                                                                                                                                                                                                                                                                                                                                                                                                                                                                                                                                                                                                                                                                                                                                                                                                                                                                                                                                                                                                                                                                                                                                                                                                                                                                                                                                                                                                                                                                                                                                                                                                                                                                                                                                                                                                                                                                                                                                                                                                                                                                                                                                                                                                                                                                                                                                                                                                                                                                                                                                                                                                                                                                                                                                                                                                                                                                                                                                                                                                                                                                                                                                                                                                                                                                                                                                                                                                                                                                                                                                                                                                                                                                                                                                                                                                                                                                                                                                                                                                                                                                                                                                                                                                                                                                                                                                                                                                                                                                                                                                                                                                                                                                                                                                                                                                                                                                                                                                                                                                                                                                                                                                                                                                                                                                                                                                                                                                                                                                                                                                                                                                                                                                                                                                            \n",
    "from mat281_code.lab import *\n",
    "from IPython.core.display import HTML\n",
    "\n",
    "HTML(open(\"style/mat281.css\", \"r\").read())\n",
    "\n",
    "alumno_1 = (\"Sebastian Flores\", \"2004001-7\")\n",
    "alumno_2 = (\"Maria Jose Vargas\", \"2004007-8\")\n",
    "\n",
    "HTML(greetings(alumno_1, alumno_2))"
   ]
  },
  {
   "cell_type": "markdown",
   "metadata": {},
   "source": [
    "## Problema: Abalone Dataset\n",
    "\n",
    "Los datos Abalone Dataset corresponden a medidas físicas de abulones u orejas marinas (abalones), una especie de caracoles marinos comestibles. Este set de datos fue descrito por Sam Waugh para su tesis de doctorado, en la cual utilizó los datos para ilustrar el comportamiento de algoritmos de clasificación. Desde entonces, se ha utilizado para verificar algoritmos de clasificación y regresión.\n",
    "\n",
    "<img src=\"images/abalone.jpg\" alt=\"\" width=\"600px\" align=\"middle\"/>\n",
    "\n",
    "La base de datos contiene mediciones a 4177 abalones, donde las mediciones posibles son sexo ($S$), largo ($L$), diametro $D$, altura $H$, peso entero $W_1$, peso sin concha $W_2$, peso de visceras $W_3$, peso de concha  $W_4$ y el número de anillos $N$. \n",
    "\n",
    "Buscaremos predecir el número de anillos, utilizando las otras variables."
   ]
  },
  {
   "cell_type": "markdown",
   "metadata": {},
   "source": [
    "## Modelos propuestos\n",
    "\n",
    "Los modelos propuestos son los siguientes:\n",
    "\n",
    "#### Modelo A\n",
    "$$ \\log(A) = \\alpha_0 +  \\alpha_1 W_1 + \\alpha_2 W_2 +\\alpha_3 W_3 +\\alpha_4 W_4 + \\alpha_5 S + \\alpha_6 \\log L + \\alpha_7 \\log D+  \\alpha_8 \\log H$$\n",
    "\n",
    "#### Modelo B\n",
    "$$ \\log(A) = \\beta_0 + \\beta_1 W_1 + \\beta_2 W_2 +\\beta_3 W_3 +\\beta W_4 + \\beta_5 \\log( L  D H ) $$\n",
    "\n",
    "#### Modelo C\n",
    "Si $S=male$:\n",
    "$$ \\log(A) = \\theta_0^M + \\theta_1^M W_2  + \\theta_2^M W_4 + \\theta_3^M \\log( L  D H ) $$\n",
    "Si $S=female$\n",
    "$$ \\log(A) = \\theta_0^F + \\theta_1^F W_2  + \\theta_2^F W_4 + \\theta_3^F \\log( L  D H ) $$\n",
    "Si $S=indefined$\n",
    "$$ \\log(A) = \\theta_0^I + \\theta_1^I W_2  + \\theta_2^I W_4 + \\theta_3^I \\log( L  D H ) $$\n"
   ]
  },
  {
   "cell_type": "markdown",
   "metadata": {},
   "source": [
    "## 1. Descargando los datos\n",
    "Descargue el archivo a analizar desde el siguiente link:\n",
    "http://archive.ics.uci.edu/ml/machine-learning-databases/abalone/abalone.data\n",
    "\n",
    "Guarde el archivo en la carpeta Lab03/data/ con el nombre abalone.data.txt\n"
   ]
  },
  {
   "cell_type": "markdown",
   "metadata": {},
   "source": [
    "## 2. Leyendo los datos\n",
    "A continuación se le provee cierto código para que lea los datos desde el archivo data/abalone.data.txt y los cargue en un arreglo en numpy."
   ]
  },
  {
   "cell_type": "code",
   "execution_count": null,
   "metadata": {
    "collapsed": false
   },
   "outputs": [],
   "source": [
    "%%bash\n",
    "head data/abalone.data.txt"
   ]
  },
  {
   "cell_type": "code",
   "execution_count": null,
   "metadata": {
    "collapsed": false
   },
   "outputs": [],
   "source": [
    "import numpy as np\n",
    "# Cargando los datos\n",
    "data = []\n",
    "fh = open(\"data/abalone.data.txt\",\"r\")\n",
    "# Estructura de datos:\n",
    "# 'sex','length','diameter','height','weight.whole','weight.shucked','weight.viscera','weight.shell','rings'\n",
    "# Ejemplo de linea\n",
    "conversion_sexo = {\"M\":+1, \"I\":0, \"F\":-1}\n",
    "for line in fh:\n",
    "    abalone = line.split(\",\")\n",
    "    abalone[0] = conversion_sexo[abalone[0]]\n",
    "    data.append([float(x) for x in abalone])\n",
    "fh.close()\n",
    "# Convertir lista a array\n",
    "data = np.array(data)\n",
    "# Limpiando datos erroneos (todos los valores excepto sexo deben ser estricamente positivos)\n",
    "mask = np.all(data[:,1:]>0, axis=1)\n",
    "data = data[mask]\n",
    "# Imprimir datos (opcional)\n",
    "#print data[:10]"
   ]
  },
  {
   "cell_type": "markdown",
   "metadata": {},
   "source": [
    "## Desafío 1 (10%)\n",
    "¿Que significado tiene la siguiente expresión en el código para cargar los datos? ¿Porqué se realiza?\n",
    "\n",
    "    abalone[0] = conversion_sexo[abalone[0]]\n",
    "\n",
    "#### Respuesta\n",
    "..."
   ]
  },
  {
   "cell_type": "markdown",
   "metadata": {},
   "source": [
    "## 3. Exploración visual de los datos\n",
    "A continuación se le provee código para generar visualizaciones de los datos. Ejecute secuencialmente e interprete los gráficos."
   ]
  },
  {
   "cell_type": "code",
   "execution_count": null,
   "metadata": {
    "collapsed": false,
    "slideshow": {
     "slide_type": "skip"
    }
   },
   "outputs": [],
   "source": [
    "from matplotlib import pyplot as plt\n",
    "def plot(data, i, j):\n",
    "    label = ['Sexo',\n",
    "             'Largo',\n",
    "             'Diametro',\n",
    "             'Altura',\n",
    "             'Peso Entero',\n",
    "             'Peso Desconchado',\n",
    "             'Peso Viscera',\n",
    "             'Peso Concha',\n",
    "             'Numero Anillos']\n",
    "    M_mask = data[:,0] == +1\n",
    "    I_mask = data[:,0] == 0\n",
    "    F_mask = data[:,0] == -1\n",
    "    plt.figure(figsize=(16,8))\n",
    "    plt.plot(data[:,i][M_mask], data[:,j][M_mask], \"og\", label=\"M\")\n",
    "    plt.plot(data[:,i][F_mask], data[:,j][F_mask], \"sr\", label=\"F\")\n",
    "    plt.plot(data[:,i][I_mask], data[:,j][I_mask], \"<b\", label=\"I\")\n",
    "    plt.xlabel(label[i])\n",
    "    plt.ylabel(label[j])\n",
    "    plt.legend()\n",
    "    plt.show()"
   ]
  },
  {
   "cell_type": "code",
   "execution_count": null,
   "metadata": {
    "collapsed": false,
    "slideshow": {
     "slide_type": "skip"
    }
   },
   "outputs": [],
   "source": [
    "\"\"\"\n",
    "Sandbox: Cambie los parámetros para obtener distintos gráficos\n",
    "\n",
    "Indices:\n",
    "0:'Sexo',\n",
    "1:'Largo',\n",
    "2:'Diametro',\n",
    "3:'Altura',\n",
    "4:'Peso Entero',\n",
    "5:'Peso Desconchado',\n",
    "6:'Peso Viscera',\n",
    "7:'Peso Concha',\n",
    "8:'Numero Anillos'\n",
    "\"\"\"\n",
    "plot(data, 1, 8)\n"
   ]
  },
  {
   "cell_type": "markdown",
   "metadata": {},
   "source": [
    "## Desafío 2 (20%)\n",
    "¿Qué variables parecen a priori más relevantes para explicar el número de anillos? ¿El sexo del abalone es relevante?\n",
    "\n",
    "#### Respuesta\n",
    "...\n",
    "\n"
   ]
  },
  {
   "cell_type": "markdown",
   "metadata": {},
   "source": [
    "## 4. Entrenando y Testeando los Modelos\n",
    "A continuación se entrega el código necesario para entrenar los distintos modelos y realizar una predicción. \n",
    "Se proveen ejemplos de utilización.\n"
   ]
  },
  {
   "cell_type": "markdown",
   "metadata": {},
   "source": [
    "#### Modelo A\n",
    "$$ \\log(A) = \\alpha_0 +  \\alpha_1 W_1 + \\alpha_2 W_2 +\\alpha_3 W_3 +\\alpha_4 W_4 + \\alpha_5 S + \\alpha_6 \\log L + \\alpha_7 \\log D+  \\alpha_8 \\log H$$"
   ]
  },
  {
   "cell_type": "code",
   "execution_count": null,
   "metadata": {
    "collapsed": false
   },
   "outputs": [],
   "source": [
    "# 'sex','length','diameter','height','weight.whole','weight.shucked','weight.viscera','weight.shell','rings'\n",
    "# Entrenando el modelo A\n",
    "def train_model_A(data):\n",
    "    y = np.log(data[:,-1])\n",
    "    X = data.copy()\n",
    "    X[:,0] = 1.0\n",
    "    X[:,1:4] = np.log(X[:,1:4])\n",
    "    coeffs = np.linalg.lstsq(X, y)[0]\n",
    "    return coeffs\n",
    "\n",
    "# Testeando el modelo A\n",
    "def test_model_A(data, coeffs):\n",
    "    X = data.copy()\n",
    "    X[:,0] = 1.0\n",
    "    X[:,1:4] = np.log(X[:,1:4])\n",
    "    ln_anillos = np.dot(X, coeffs)\n",
    "    return np.exp(ln_anillos)\n",
    "\n",
    "# Obtener valores y prediccion\n",
    "coeffs_A = train_model_A(data)\n",
    "y_pred = test_model_A(data, coeffs_A)\n",
    "\n",
    "# Mostrar graficamente\n",
    "y_data = data[:,-1]\n",
    "plt.figure(figsize=(16,8))\n",
    "plt.plot(y_data, y_pred, \"x\")\n",
    "plt.plot(y_data, y_data, \"k-\")\n",
    "plt.show()"
   ]
  },
  {
   "cell_type": "markdown",
   "metadata": {},
   "source": [
    "#### Modelo B\n",
    "$$ \\log(A) = \\beta_0 + \\beta_1 W_1 + \\beta_2 W_2 +\\beta_3 W_3 +\\beta W_4 + \\beta_5 \\log( L  D H ) $$"
   ]
  },
  {
   "cell_type": "code",
   "execution_count": null,
   "metadata": {
    "collapsed": false
   },
   "outputs": [],
   "source": [
    "# 'sex','length','diameter','height','weight.whole','weight.shucked','weight.viscera','weight.shell','rings'\n",
    "# Entrenando el modelo B\n",
    "def train_model_B(data):\n",
    "    y = np.log(data[:,-1])\n",
    "    X = np.ones([data.shape[0],6])\n",
    "    X[:,0] = 1.0\n",
    "    X[:,1:5] = data[:,4:8]\n",
    "    X[:,5] = np.log(data[:,1]*data[:,2]*data[:,3]) \n",
    "    coeffs = np.linalg.lstsq(X, y)[0]\n",
    "    return coeffs\n",
    "\n",
    "# Testeando el modelo B\n",
    "def test_model_B(data, coeffs):\n",
    "    X = np.ones([data.shape[0],6])\n",
    "    X[:,0] = 1.0\n",
    "    X[:,1:5] = data[:,4:8]\n",
    "    X[:,5] = np.log(data[:,1]*data[:,2]*data[:,3]) \n",
    "    ln_anillos = np.dot(X, coeffs)\n",
    "    return np.round(np.exp(ln_anillos))\n",
    "\n",
    "# Obtener valores y prediccion\n",
    "coeffs_B = train_model_B(data)\n",
    "y_pred = test_model_B(data, coeffs_B)\n",
    "\n",
    "# Mostrar graficamente\n",
    "plt.figure(figsize=(16,8))\n",
    "plt.plot(y_data, y_pred, \"x\")\n",
    "plt.plot(y_data, y_data, \"k-\")\n",
    "plt.show()"
   ]
  },
  {
   "cell_type": "markdown",
   "metadata": {},
   "source": [
    "#### Modelo C\n",
    "Si $S=male$:\n",
    "$$ \\log(A) = \\theta_0^M + \\theta_1^M W_2  + \\theta_2^M W_4 + \\theta_3^M \\log( L  D H ) $$\n",
    "Si $S=female$\n",
    "$$ \\log(A) = \\theta_0^F + \\theta_1^F W_2  + \\theta_2^F W_4 + \\theta_3^F \\log( L  D H ) $$\n",
    "Si $S=indefined$\n",
    "$$ \\log(A) = \\theta_0^I + \\theta_1^I W_2  + \\theta_2^I W_4 + \\theta_3^I \\log( L  D H ) $$\n"
   ]
  },
  {
   "cell_type": "code",
   "execution_count": null,
   "metadata": {
    "collapsed": false
   },
   "outputs": [],
   "source": [
    "# 'sex','length','diameter','height','weight.whole','weight.shucked','weight.viscera','weight.shell','rings'\n",
    "# Entrenando el modelo C\n",
    "def train_model_C(data):\n",
    "    mask_I = data[:,0] == 0\n",
    "    mask_M = data[:,0] == +1\n",
    "    mask_F = data[:,0] == -1\n",
    "    y = np.log(data[:,-1])\n",
    "    X = np.ones([data.shape[0], 4])\n",
    "    X[:,0] = 1.0\n",
    "    X[:,1] = data[:,5]\n",
    "    X[:,2] = data[:,7]\n",
    "    X[:,3] = np.log(data[:,1]*data[:,2]*data[:,3]) \n",
    "    coeffs_I = np.linalg.lstsq(X[mask_I], y[mask_I])[0]\n",
    "    coeffs_M = np.linalg.lstsq(X[mask_M], y[mask_M])[0]\n",
    "    coeffs_F = np.linalg.lstsq(X[mask_F], y[mask_F])[0]\n",
    "    return (coeffs_I, coeffs_M, coeffs_F)\n",
    "\n",
    "# Testeando el modelo C\n",
    "def test_model_C(data, coeffs):\n",
    "    mask_I = data[:,0] == 0\n",
    "    mask_M = data[:,0] == +1\n",
    "    mask_F = data[:,0] == -1\n",
    "    y = np.log(data[:,-1])\n",
    "    X = np.ones([data.shape[0], 4])\n",
    "    X[:,0] = 1.0\n",
    "    X[:,1] = data[:,5]\n",
    "    X[:,2] = data[:,7]\n",
    "    X[:,3] = np.log(data[:,1]*data[:,2]*data[:,3]) \n",
    "    # Fill up the solution\n",
    "    ln_anillos = np.zeros(data[:,0].shape)\n",
    "    ln_anillos[mask_I] = np.dot(X[mask_I], coeffs[0])\n",
    "    ln_anillos[mask_M] = np.dot(X[mask_M], coeffs[1])\n",
    "    ln_anillos[mask_F] = np.dot(X[mask_F], coeffs[-1])\n",
    "    return np.round(np.exp(ln_anillos))\n",
    "\n",
    "# Obtener valores y prediccion\n",
    "coeffs_C = train_model_C(data)\n",
    "y_pred = test_model_C(data, coeffs_C)\n",
    "\n",
    "# Mostrar graficamente\n",
    "plt.figure(figsize=(16,8))\n",
    "plt.plot(y_data, y_pred, \"x\")\n",
    "plt.plot(y_data, y_data, \"k-\")\n",
    "plt.show()"
   ]
  },
  {
   "cell_type": "markdown",
   "metadata": {},
   "source": [
    "## Desafío 3 (20%)\n",
    "Realice un gráfico en el cual se comparan simultáneamente el número de anillos reales vs el número de anillos estimados con los modelos A, B y C, únicamente para el caso de los abalones de sexo masculino."
   ]
  },
  {
   "cell_type": "code",
   "execution_count": null,
   "metadata": {
    "collapsed": false
   },
   "outputs": [],
   "source": [
    "# Realice aqui su grafico\n",
    "plt.figure(figsize=(16,8))\n",
    "plt.plot()\n",
    "plt.show()"
   ]
  },
  {
   "cell_type": "markdown",
   "metadata": {},
   "source": [
    "## 5. Obteniendo el error de medición\n",
    "\n",
    "Utilice Holdout Set o Cross Validation para obtener una estimación razonable del error predictivo de los modelos A, B y C. Justifique la decisión realizada. No se entrega la implementación numérica de los métodos, pero puede basarse en los códigos provistos en clases:\n",
    "\n",
    "* [Holdout Set](https://github.com/usantamaria/mat281/blob/master/clases/Unidad3-ModelamientoyError/Clase02-HoldoutSet/HoldoutSet.ipynb)\n",
    "\n",
    "* [Cross Validation](https://github.com/usantamaria/mat281/blob/master/clases/Unidad3-ModelamientoyError/Clase03-CrossValidation/CrossValidationYNormas.ipynb)"
   ]
  },
  {
   "cell_type": "code",
   "execution_count": null,
   "metadata": {
    "collapsed": true
   },
   "outputs": [],
   "source": [
    "# Implemente aquí su algoritmo para obtener el error predictivo de los métodos\n",
    "\n",
    "\n",
    "\n"
   ]
  },
  {
   "cell_type": "markdown",
   "metadata": {
    "slideshow": {
     "slide_type": "slide"
    }
   },
   "source": [
    "## Desafío 4 (50%)\n",
    "\n",
    "#### 1. ¿Cuál es el error predictivo tiene el modelo A?\n",
    "    # FIX ME\n",
    "\n",
    "#### 2. ¿Cuál es el error predictivo tiene el modelo B?\n",
    "    # FIX ME\n",
    "\n",
    "#### 3. ¿Cuál es el error predictivo tiene el modelo C?\n",
    "    # FIX ME\n",
    "\n",
    "#### 4. ¿Cuál modelo resulta mejor? ¿Cuál es su explicación?\n",
    "    # FIX ME\n",
    "\n",
    "#### 5. ¿Existe algún modelo que sea dimensionablemente consistente?\n",
    "    # FIX ME\n"
   ]
  }
 ],
 "metadata": {
  "celltoolbar": "Slideshow",
  "kernelspec": {
   "display_name": "Python 2",
   "language": "python",
   "name": "python2"
  },
  "language_info": {
   "codemirror_mode": {
    "name": "ipython",
    "version": 2
   },
   "file_extension": ".py",
   "mimetype": "text/x-python",
   "name": "python",
   "nbconvert_exporter": "python",
   "pygments_lexer": "ipython2",
   "version": "2.7.6"
  }
 },
 "nbformat": 4,
 "nbformat_minor": 0
}
