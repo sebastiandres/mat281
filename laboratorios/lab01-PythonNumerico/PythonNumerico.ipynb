{
 "cells": [
  {
   "cell_type": "markdown",
   "metadata": {
    "slideshow": {
     "slide_type": "slide"
    }
   },
   "source": [
    "<header class=\"w3-container w3-teal\">\n",
    "<img src=\"images/utfsm.png\" alt=\"\" height=\"100px\" align=\"left\"/>\n",
    "<img src=\"images/mat.png\" alt=\"\" height=\"100px\" align=\"right\"/>\n",
    "</header>\n",
    "<br/><br/><br/><br/><br/>\n",
    "# MAT281\n",
    "## Laboratorio Aplicaciones de la Matemática en la Ingeniería\n",
    "### Python Numérico\n",
    "#### Fecha: Miercoles 28 Octubre 2015"
   ]
  },
  {
   "cell_type": "markdown",
   "metadata": {
    "slideshow": {
     "slide_type": "slide"
    }
   },
   "source": [
    "## INSTRUCCIONES\n",
    "* Anoten su nombre y rol en la celda siguiente.\n",
    "* Desarrollen los problemas de manera secuencial.\n",
    "* Guarden constantemente con ***Ctr-S*** para evitar sorpresas.\n",
    "* Reemplacen en las celdas de código donde diga #FIX_ME por el código correspondiente.\n",
    "* Ejecuten cada celda de código utilizando ***Ctr-Enter***"
   ]
  },
  {
   "cell_type": "code",
   "execution_count": 34,
   "metadata": {
    "collapsed": false,
    "slideshow": {
     "slide_type": "skip"
    }
   },
   "outputs": [
    {
     "data": {
      "text/html": [
       "<b>Alumno</b>: Sebastian Flores               <b>rol</b>: 2004001-7 <br><b>Alumno</b>: Maria Jose Vargas              <b>rol</b>: 2004007-8 <br>Good luck!"
      ],
      "text/plain": [
       "<IPython.core.display.HTML object>"
      ]
     },
     "execution_count": 34,
     "metadata": {},
     "output_type": "execute_result"
    }
   ],
   "source": [
    "#Configuracion para recargar módulos y librerías cada vez \n",
    "%reload_ext autoreload\n",
    "%autoreload 2\n",
    "                                                                                                                                                                                                                                                                                                                                                                                                                                                                                                                                                                                                                                                                                \n",
    "%matplotlib inline\n",
    "                                                                                                                                                                                                                                                                                                                                                                                                                                                                                                                                                                                                                                                                                                                                                                                                                                                                                                                                                                                                                                                                                                                                                                                                                                                                                                                                                                                                                                                                                                                                                                                                                                                                                                                                                                                                                                                                                                                                                                                                                                                                                                                                                                                                                                                                                                                                                                                                                                                                                                                                                                                                                                                                                                                                                                                                                                                                                                                                                                                                                                                                                                                                                                                                                                                                                                                                                                                                                                                                                                                                                                                                                                                                                                                                                                                                                                                                                                                                                                                                                                                                                                                                                                                                                                                                                                                                                                                                                                                                                                                                                                                                                                                                                                                                                                                                                                                                                                                                                                                                                                                                                                                                                                                                                                                                                                                                                                                                                                                                                                                                                                                                                                                                                                                                                                                                                                                                                                                                                                                                                                                                                                                                                                                                                                                                                                                                                                                                                                                                                                                                                                                                                                                                                                                                                                                                                                                                                                                                                                                                                                                                                                                                                                                                                                                                                                                                                                                                                                                                                                                                                                                                                                                                                                                                                                                                                                                                                                                                                                                                                                                                                                                                                                                                                                                                                                                                                                                                                                                                                                                                                                                                                                                                                                                                                                                                                                                                                                                                                                                                                                                                                                                                                                                                                                                                                                                                                                                                                                                                                                                                                                                                                                                                                                                                                                                                                                                                                                                                                                                                                                                                                                                                                                                                                                                                                                                                                                                                                                                                                            \n",
    "from mat281_code.lab import *\n",
    "from IPython.core.display import HTML\n",
    "\n",
    "HTML(open(\"style/mat281.css\", \"r\").read())\n",
    "\n",
    "alumno_1 = (\"Sebastian Flores\", \"2004001-7\")\n",
    "alumno_2 = (\"Maria Jose Vargas\", \"2004007-8\")\n",
    "\n",
    "HTML(greetings(alumno_1, alumno_2))"
   ]
  },
  {
   "cell_type": "markdown",
   "metadata": {},
   "source": [
    "## Contenido\n",
    "1. Overview de Numpy y Scipy\n",
    "2. Librería Numpy\n",
    "  * Arreglos vs Matrices\n",
    "  * Axis\n",
    "  * Funciones basicas.\n",
    "  * Operaciones Vectoriales\n",
    "  * Input y Output\n",
    "3. Tips"
   ]
  },
  {
   "cell_type": "markdown",
   "metadata": {},
   "source": [
    "## Overview de Numpy y scipy\n",
    "\n",
    "ORIGEN, LA HISTORIA.\n",
    "\n",
    "Numpy: Matrices deben contener variables con el mismo tipo de datos: sólo enteros, sólo flotantes, sólo complejos, sólo booleanos o sólo strings. La uniformicidad de los datos es lo que permite acelerar los cálculos con implementaciones en C a bajo nivel."
   ]
  },
  {
   "cell_type": "markdown",
   "metadata": {},
   "source": [
    "## Librería Numpy\n",
    "Siempre importaremos la librería numpy de la siguiente forma:\n",
    "\n",
    "    import numpy as np\n",
    "    \n",
    "Todas las funciones y módulos de numpy quedan a nuestro alcance a 3 carácteres de distancia:\n",
    "\n",
    "    np.array([1,4,9,16])\n",
    "    np.linspace(0.,1.,100)\n",
    "    \n",
    "Evite a todo costo utilizar lo siguiente:\n",
    "\n",
    "    from numpy import *"
   ]
  },
  {
   "cell_type": "code",
   "execution_count": 106,
   "metadata": {
    "collapsed": false
   },
   "outputs": [
    {
     "name": "stdout",
     "output_type": "stream",
     "text": [
      "1.8.2\n"
     ]
    }
   ],
   "source": [
    "import numpy as np\n",
    "print np.version.version # Si alguna vez tienen problemas, verifiquen su version de numpy"
   ]
  },
  {
   "cell_type": "markdown",
   "metadata": {},
   "source": [
    "#### 2. Librería Numpy\n",
    "## 2.1 Array vs Matrix\n",
    "\n",
    "Por defecto, la gran mayoria de las funciones de numpy y de scipy asumen que se les pasará un objeto de tipo **array**. \n",
    "\n",
    "Veremos las diferencias entre los objetos array y matrix, pero recuerden utilizar array mientras sea posible.\n",
    "\n",
    "* **np.matrix**: Se comporta exactamente como una matriz. \n",
    "Si A y B son 2 matrices"
   ]
  },
  {
   "cell_type": "markdown",
   "metadata": {},
   "source": [
    "#### 2.1 Array vs Matrix\n",
    "## Matrix\n",
    "\n",
    "Una matrix de numpy se comporta exactamente como esperaríamos de una matriz:\n",
    "\n",
    "### Pros:\n",
    "* Multiplicación utiliza el signo * como es esperable.\n",
    "* \n",
    "\n",
    "### Contras:\n",
    "* Todas las matrices deben estar completamente alineadas para poder operar correctamente.\n",
    "* Operaciones elementwise son mas dificiles de definir/acceder.\n",
    "* Están exclusivamente definidas en 2D: Un vector fila o un vector columna siguen siendo 2D."
   ]
  },
  {
   "cell_type": "code",
   "execution_count": 41,
   "metadata": {
    "collapsed": false
   },
   "outputs": [
    {
     "name": "stdout",
     "output_type": "stream",
     "text": [
      "A =\n",
      "[[1 2]\n",
      " [3 4]]\n",
      "B =\n",
      "[[ 1.  1.]\n",
      " [ 0.  1.]]\n",
      "x =\n",
      "[[1]\n",
      " [2]]\n",
      "A+B =\n",
      "[[ 2.  3.]\n",
      " [ 3.  5.]]\n",
      "A*B =\n",
      "[[ 1.  3.]\n",
      " [ 3.  7.]]\n",
      "A*x =\n",
      "[[ 5]\n",
      " [11]]\n",
      "A*A = A^2 =\n",
      "[[ 7 10]\n",
      " [15 22]]\n",
      "x.T*A =\n",
      "[[ 7 10]]\n"
     ]
    }
   ],
   "source": [
    "# Operaciones con np.matrix\n",
    "A = np.matrix([[1,2],[3,4]])\n",
    "B = np.matrix([[1, 1],[0,1]], dtype=float)\n",
    "x = np.matrix([[1],[2]])\n",
    "print \"A =\\n\", A\n",
    "print \"B =\\n\", B\n",
    "print \"x =\\n\", x\n",
    "\n",
    "print \"A+B =\\n\", A+B\n",
    "print \"A*B =\\n\", A*B\n",
    "print \"A*x =\\n\", A*x\n",
    "print \"A*A = A^2 =\\n\", A**2\n",
    "print \"x.T*A =\\n\", x.T * A\n"
   ]
  },
  {
   "cell_type": "markdown",
   "metadata": {},
   "source": [
    "#### 2.1 Array vs Matrix\n",
    "## Array\n",
    "\n",
    "Un array de numpy es simplemente un contenedor multidimensional.\n",
    "\n",
    "### Pros:\n",
    "* Es multidimensional: 1D, 2D, 3D, ...\n",
    "* Resulta consistente: todas las operaciones son element-wise a menos que se utilice una función específica.\n",
    "\n",
    "### Contras:\n",
    "* Multiplicación maticial utiliza la función **dot()**"
   ]
  },
  {
   "cell_type": "code",
   "execution_count": 43,
   "metadata": {
    "collapsed": false
   },
   "outputs": [
    {
     "name": "stdout",
     "output_type": "stream",
     "text": [
      "A =\n",
      "[[1 2]\n",
      " [3 4]]\n",
      "B =\n",
      "[[ 1.  1.]\n",
      " [ 0.  1.]]\n",
      "x =\n",
      "[1 2]\n",
      "A+B =\n",
      "[[ 2.  3.]\n",
      " [ 3.  5.]]\n",
      "AoB = (multiplicacion elementwise) \n",
      "[[ 1.  2.]\n",
      " [ 0.  4.]]\n",
      "A*B = (multiplicacion matricial, v1) \n",
      "[[ 1.  3.]\n",
      " [ 3.  7.]]\n",
      "A*B = (multiplicacion matricial, v2) \n",
      "[[ 1.  3.]\n",
      " [ 3.  7.]]\n",
      "A*A = A^2 = (potencia matricial)\n",
      "[[ 1  4]\n",
      " [ 9 16]]\n",
      "AoA = (potencia elementwise)\n",
      "[[ 1  4]\n",
      " [ 9 16]]\n",
      "A*x =\n",
      "[ 5 11]\n",
      "x.T*A =\n",
      "[ 7 10]\n"
     ]
    }
   ],
   "source": [
    "# Operaciones con np.matrix\n",
    "A = np.array([[1,2],[3,4]])\n",
    "B = np.array([[1, 1],[0,1]], dtype=float)\n",
    "x = np.array([1,2]) # No hay necesidad de definir como fila o columna!\n",
    "print \"A =\\n\", A\n",
    "print \"B =\\n\", B\n",
    "print \"x =\\n\", x\n",
    "\n",
    "print \"A+B =\\n\", A+B\n",
    "print \"AoB = (multiplicacion elementwise) \\n\", A*B\n",
    "print \"A*B = (multiplicacion matricial, v1) \\n\", np.dot(A,B)\n",
    "print \"A*B = (multiplicacion matricial, v2) \\n\", A.dot(B)\n",
    "print \"A*A = A^2 = (potencia matricial)\\n\", np.power(A,2)\n",
    "print \"AoA = (potencia elementwise)\\n\", A**2\n",
    "print \"A*x =\\n\", np.dot(A,x)\n",
    "print \"x.T*A =\\n\", np.dot(x,A) # No es necesario transponer."
   ]
  },
  {
   "cell_type": "markdown",
   "metadata": {},
   "source": [
    "Los arrays se indexan de la forma \"tradicional\".\n",
    "\n",
    "* Para un array ***unidimensional***: sólo tiene una indexacion. ¡No es ni fila ni columna!\n",
    "* Para un array ***bidimensional***: primera componente son las filas, segunda componente son las columnas.\n",
    "* Para un array ***tridimensional***: primera componente son las filas, segunda componente son las columnas, tercera componente la siguiente dimension.\n",
    "\n",
    "<img src=\"images/anatomyarray.png\" alt=\"\" height=\"100px\" align=\"left\"/>"
   ]
  },
  {
   "cell_type": "code",
   "execution_count": 45,
   "metadata": {
    "collapsed": false
   },
   "outputs": [
    {
     "name": "stdout",
     "output_type": "stream",
     "text": [
      "x = \n",
      "[0 1 2 3 4 5 6 7 8]\n",
      "A = \n",
      "[[0 1 2]\n",
      " [3 4 5]\n",
      " [6 7 8]]\n",
      "primera fila de A\n",
      "[0 1 2]\n",
      "ultima columna de A\n",
      "[2 5 8]\n"
     ]
    }
   ],
   "source": [
    "x = np.arange(9)   # \"Vector\" con valores del 0 al 8 \n",
    "A = x.reshape(3,3) # Arreglo con valores del 0 al 8, en 3 filas y 3 columnas.\n",
    "print \"x = \\n\", x\n",
    "print \"A = \\n\", A\n",
    "print \"primera fila de A\\n\", A[0,:]\n",
    "print \"ultima columna de A\\n\", A[:,-1]"
   ]
  },
  {
   "cell_type": "markdown",
   "metadata": {},
   "source": [
    "Cabe destacar que al tomar slices (subsecciones) de un arreglo obtenemos siempre un arreglo con menores dimensiones que el original."
   ]
  },
  {
   "cell_type": "markdown",
   "metadata": {},
   "source": [
    "#### 2. Librería Numpy\n",
    "## 2.2 Funciones Básicas\n",
    "\n",
    "Algunas funciones básicas que es conveniente conocer son las siguientes:\n",
    "* **shape**: Entrega las dimensiones del arreglo. Siempre es una tupla.\n",
    "* **len**: Entrega el número de elementos de la primera dimensión del arreglo.\n",
    "* **ones**: Crea un arreglo con las dimensiones provistas e inicializado con valores 1. Por defecto array 1D.\n",
    "* **zeros**: Crea un arreglo con las dimensiones provistas e inicializado con valores 1. Por defecto array 1D.\n",
    "* **eye**: Crea un arreglo con las dimensiones provistas e inicializado con 1 en la diagonal. Por defecto array 2D."
   ]
  },
  {
   "cell_type": "code",
   "execution_count": 70,
   "metadata": {
    "collapsed": false
   },
   "outputs": [
    {
     "name": "stdout",
     "output_type": "stream",
     "text": [
      "A = \n",
      "[ 1.  1.  1.]\n",
      "A.shape = (3,)\n",
      "len(A) = 3\n",
      "B = \n",
      "[ 0.  0.  0.]\n",
      "B.shape = (3,)\n",
      "len(B) = 3\n",
      "C = \n",
      "[[ 1.  0.  0.]]\n",
      "C.shape = (1, 3)\n",
      "len(C) = 1\n"
     ]
    }
   ],
   "source": [
    "#A = np.ones((2,8))\n",
    "A = np.ones(3)\n",
    "print \"A = \\n\", A\n",
    "print \"A.shape =\", A.shape\n",
    "print \"len(A) =\", len(A)\n",
    "B = np.zeros(3)\n",
    "print \"B = \\n\", B\n",
    "print \"B.shape =\", B.shape\n",
    "print \"len(B) =\", len(B)\n",
    "C = np.eye(1,3)\n",
    "print \"C = \\n\", C\n",
    "print \"C.shape =\", C.shape\n",
    "print \"len(C) =\", len(C)"
   ]
  },
  {
   "cell_type": "code",
   "execution_count": 71,
   "metadata": {
    "collapsed": false
   },
   "outputs": [
    {
     "name": "stdout",
     "output_type": "stream",
     "text": [
      "A = \n",
      "[[ 1.  1.  1.]\n",
      " [ 1.  1.  1.]\n",
      " [ 1.  1.  1.]]\n",
      "A.shape = (3, 3)\n",
      "len(A) = 3\n",
      "B = \n",
      "[[ 0.  0.  0.]\n",
      " [ 0.  0.  0.]\n",
      " [ 0.  0.  0.]]\n",
      "B.shape = (3, 3)\n",
      "len(B) = 3\n",
      "C = \n",
      "[[ 1.  0.  0.]\n",
      " [ 0.  1.  0.]\n",
      " [ 0.  0.  1.]]\n",
      "C.shape = (3, 3)\n",
      "len(C) = 3\n"
     ]
    }
   ],
   "source": [
    "#A = np.ones((2,8))\n",
    "A = np.ones((3,3))\n",
    "print \"A = \\n\", A\n",
    "print \"A.shape =\", A.shape\n",
    "print \"len(A) =\", len(A)\n",
    "B = np.zeros((3,3))\n",
    "print \"B = \\n\", B\n",
    "print \"B.shape =\", B.shape\n",
    "print \"len(B) =\", len(B)\n",
    "C = np.eye(3) # Or  np.eye(3,3)\n",
    "print \"C = \\n\", C\n",
    "print \"C.shape =\", C.shape\n",
    "print \"len(C) =\", len(C)\n"
   ]
  },
  {
   "cell_type": "code",
   "execution_count": 73,
   "metadata": {
    "collapsed": false
   },
   "outputs": [
    {
     "name": "stdout",
     "output_type": "stream",
     "text": [
      "A = \n",
      "[[ 1.  1.  1.  1.  1.]\n",
      " [ 1.  1.  1.  1.  1.]]\n",
      "A.shape = (2, 5)\n",
      "len(A) = 2\n",
      "B = \n",
      "[[ 0.  0.  0.  0.  0.]\n",
      " [ 0.  0.  0.  0.  0.]]\n",
      "B.shape = (2, 5)\n",
      "len(B) = 2\n",
      "C = \n",
      "[[ 1.  0.  0.  0.  0.]\n",
      " [ 0.  1.  0.  0.  0.]]\n",
      "C.shape = (2, 5)\n",
      "len(C) = 2\n"
     ]
    }
   ],
   "source": [
    "#A = np.ones((2,8))\n",
    "A = np.ones((2,5))\n",
    "print \"A = \\n\", A\n",
    "print \"A.shape =\", A.shape\n",
    "print \"len(A) =\", len(A)\n",
    "B = np.zeros((2,5))\n",
    "print \"B = \\n\", B\n",
    "print \"B.shape =\", B.shape\n",
    "print \"len(B) =\", len(B)\n",
    "C = np.eye(2,5)\n",
    "print \"C = \\n\", C\n",
    "print \"C.shape =\", C.shape\n",
    "print \"len(C) =\", len(C)"
   ]
  },
  {
   "cell_type": "markdown",
   "metadata": {},
   "source": [
    "#### 2. Librería Numpy\n",
    "## 2.2 Funciones Básicas\n",
    "\n",
    "Algunas funciones básicas que es conveniente conocer son las siguientes:\n",
    "* **reshape**: Convierte arreglo a nueva forma.\n",
    "* **linspace**: Regresa un arreglo con valores linealmente espaciados.\n",
    "* **diag(x)**: Si x es 1D, regresa array 2D con valores en diagonal. Si x es 2D, regresa valores de la diagonal.\n",
    "* **sum**: Suma los valores del arreglo. Puede hacerse en general o a lo largo de un axis.\n",
    "* **mean**: Calcula el promedio de los valores del arreglo. Puede hacerse en general o a lo largo de un axis.\n",
    "* **std**: Calcula la desviación estándar de los valores del arreglo. Puede hacerse en general o a lo largo de un axis."
   ]
  },
  {
   "cell_type": "code",
   "execution_count": 86,
   "metadata": {
    "collapsed": false
   },
   "outputs": [
    {
     "name": "stdout",
     "output_type": "stream",
     "text": [
      "x = \n",
      "[ 0.   0.2  0.4  0.6  0.8  1. ]\n",
      "A = \n",
      "[[ 0.   0.2]\n",
      " [ 0.4  0.6]\n",
      " [ 0.8  1. ]]\n",
      "np.diag(x) = \n",
      "[[ 0.   0.   0.   0.   0.   0. ]\n",
      " [ 0.   0.2  0.   0.   0.   0. ]\n",
      " [ 0.   0.   0.4  0.   0.   0. ]\n",
      " [ 0.   0.   0.   0.6  0.   0. ]\n",
      " [ 0.   0.   0.   0.   0.8  0. ]\n",
      " [ 0.   0.   0.   0.   0.   1. ]]\n",
      "np.diag(B) = \n",
      "[ 0.   0.6]\n",
      "\n",
      "A.sum() =  3.0\n",
      "A.sum(axis=0) =  [ 1.2  1.8]\n",
      "A.sum(axis=1) =  [ 0.2  1.   1.8]\n",
      "\n",
      "A.mean() =  0.5\n",
      "A.mean(axis=0) =  [ 0.4  0.6]\n",
      "A.mean(axis=1) =  [ 0.1  0.5  0.9]\n",
      "\n",
      "A.std() =  0.341565025532\n",
      "A.std(axis=0) =  [ 0.32659863  0.32659863]\n",
      "A.std(axis=1) =  [ 0.1  0.1  0.1]\n"
     ]
    }
   ],
   "source": [
    "x = np.linspace(0., 1., 6)\n",
    "A = x.reshape(3,2)\n",
    "print \"x = \\n\", x\n",
    "print \"A = \\n\", A\n",
    "\n",
    "print \"np.diag(x) = \\n\", np.diag(x)\n",
    "print \"np.diag(B) = \\n\", np.diag(A)\n",
    "\n",
    "print \"\"\n",
    "print \"A.sum() = \", A.sum()\n",
    "print \"A.sum(axis=0) = \", A.sum(axis=0)\n",
    "print \"A.sum(axis=1) = \", A.sum(axis=1)\n",
    "\n",
    "print \"\"\n",
    "print \"A.mean() = \", A.mean()\n",
    "print \"A.mean(axis=0) = \", A.mean(axis=0)\n",
    "print \"A.mean(axis=1) = \", A.mean(axis=1)\n",
    "\n",
    "print \"\"\n",
    "print \"A.std() = \", A.std()\n",
    "print \"A.std(axis=0) = \", A.std(axis=0)\n",
    "print \"A.std(axis=1) = \", A.std(axis=1)"
   ]
  },
  {
   "cell_type": "code",
   "execution_count": 86,
   "metadata": {
    "collapsed": false
   },
   "outputs": [
    {
     "name": "stdout",
     "output_type": "stream",
     "text": [
      "x = \n",
      "[ 0.   0.2  0.4  0.6  0.8  1. ]\n",
      "A = \n",
      "[[ 0.   0.2]\n",
      " [ 0.4  0.6]\n",
      " [ 0.8  1. ]]\n",
      "np.diag(x) = \n",
      "[[ 0.   0.   0.   0.   0.   0. ]\n",
      " [ 0.   0.2  0.   0.   0.   0. ]\n",
      " [ 0.   0.   0.4  0.   0.   0. ]\n",
      " [ 0.   0.   0.   0.6  0.   0. ]\n",
      " [ 0.   0.   0.   0.   0.8  0. ]\n",
      " [ 0.   0.   0.   0.   0.   1. ]]\n",
      "np.diag(B) = \n",
      "[ 0.   0.6]\n",
      "\n",
      "A.sum() =  3.0\n",
      "A.sum(axis=0) =  [ 1.2  1.8]\n",
      "A.sum(axis=1) =  [ 0.2  1.   1.8]\n",
      "\n",
      "A.mean() =  0.5\n",
      "A.mean(axis=0) =  [ 0.4  0.6]\n",
      "A.mean(axis=1) =  [ 0.1  0.5  0.9]\n",
      "\n",
      "A.std() =  0.341565025532\n",
      "A.std(axis=0) =  [ 0.32659863  0.32659863]\n",
      "A.std(axis=1) =  [ 0.1  0.1  0.1]\n"
     ]
    }
   ],
   "source": [
    "x = np.linspace(0., 1., 6)\n",
    "A = x.reshape(3,2)\n",
    "print \"x = \\n\", x\n",
    "print \"A = \\n\", A\n",
    "\n",
    "print \"np.diag(x) = \\n\", np.diag(x)\n",
    "print \"np.diag(B) = \\n\", np.diag(A)\n",
    "\n",
    "print \"\"\n",
    "print \"A.sum() = \", A.sum()\n",
    "print \"A.sum(axis=0) = \", A.sum(axis=0)\n",
    "print \"A.sum(axis=1) = \", A.sum(axis=1)\n",
    "\n",
    "print \"\"\n",
    "print \"A.mean() = \", A.mean()\n",
    "print \"A.mean(axis=0) = \", A.mean(axis=0)\n",
    "print \"A.mean(axis=1) = \", A.mean(axis=1)\n",
    "\n",
    "print \"\"\n",
    "print \"A.std() = \", A.std()\n",
    "print \"A.std(axis=0) = \", A.std(axis=0)\n",
    "print \"A.std(axis=1) = \", A.std(axis=1)"
   ]
  },
  {
   "cell_type": "markdown",
   "metadata": {},
   "source": [
    "# Ejercicio 1\n",
    "\n",
    "Complete el siguiente código:\n",
    "* Se le provee una matriz A\n",
    "* Calcule una matriz B como la multiplicación element-wise de A por si misma.\n",
    "* Calcule una matriz C como la multiplicación matricial de A y B.\n",
    "* Imprima la matriz C resultante.\n",
    "* Calcula la suma, promedio y desviación estándar de los valores en la diagonal."
   ]
  },
  {
   "cell_type": "code",
   "execution_count": 99,
   "metadata": {
    "collapsed": false
   },
   "outputs": [
    {
     "name": "stdout",
     "output_type": "stream",
     "text": [
      "[[0 0 0]\n",
      " [0 1 2]\n",
      " [0 2 4]]\n",
      "[[ 0  0  0]\n",
      " [ 0  1  4]\n",
      " [ 0  4 16]]\n",
      "[[ 0  0  0]\n",
      " [ 0  9 36]\n",
      " [ 0 18 72]]\n",
      "81\n",
      "27.0\n",
      "32.0312347561\n"
     ]
    }
   ],
   "source": [
    "A = np.outer(np.arange(3),np.arange(3))\n",
    "print A\n",
    "B = A*A\n",
    "print B\n",
    "C = np.dot(A, B)\n",
    "print C\n",
    "suma_diag = np.diag(C).sum()\n",
    "mean_diag = np.diag(C).mean()\n",
    "std_diag = np.diag(C).std()\n",
    "print suma_diag\n",
    "print mean_diag\n",
    "print std_diag"
   ]
  },
  {
   "cell_type": "code",
   "execution_count": 101,
   "metadata": {
    "collapsed": false
   },
   "outputs": [
    {
     "data": {
      "text/plain": [
       "True"
      ]
     },
     "execution_count": 101,
     "metadata": {},
     "output_type": "execute_result"
    }
   ],
   "source": [
    "# Verificación\n",
    "suma_diag == 81\n",
    "\n",
    "#81, 27.0, 32.0312347561"
   ]
  },
  {
   "cell_type": "markdown",
   "metadata": {},
   "source": [
    "#### 2. Librería Numpy\n",
    "## 2.5 Inputs y Outputs\n",
    "\n",
    "Numpy permite leer datos en formato array con la función **loadtxt**. Existen variados argumentos opcionales, pero los mas importantes son:\n",
    "* **skiprows**: permite saltarse lineas en la lectura.\n",
    "* **dtype**: declarar que tipo de dato tendra el array resultante"
   ]
  },
  {
   "cell_type": "code",
   "execution_count": 6,
   "metadata": {
    "collapsed": false
   },
   "outputs": [
    {
     "name": "stdout",
     "output_type": "stream",
     "text": [
      "(31, 3)\n",
      "[[  8.3  70.   10.3]\n",
      " [  8.6  65.   10.3]\n",
      " [  8.8  63.   10.2]\n",
      " [ 10.5  72.   16.4]\n",
      " [ 10.7  81.   18.8]\n",
      " [ 10.8  83.   19.7]\n",
      " [ 11.   66.   15.6]\n",
      " [ 11.   75.   18.2]\n",
      " [ 11.1  80.   22.6]\n",
      " [ 11.2  75.   19.9]\n",
      " [ 11.3  79.   24.2]\n",
      " [ 11.4  76.   21. ]\n",
      " [ 11.4  76.   21.4]\n",
      " [ 11.7  69.   21.3]\n",
      " [ 12.   75.   19.1]\n",
      " [ 12.9  74.   22.2]\n",
      " [ 12.9  85.   33.8]\n",
      " [ 13.3  86.   27.4]\n",
      " [ 13.7  71.   25.7]\n",
      " [ 13.8  64.   24.9]\n",
      " [ 14.   78.   34.5]\n",
      " [ 14.2  80.   31.7]\n",
      " [ 14.5  74.   36.3]\n",
      " [ 16.   72.   38.3]\n",
      " [ 16.3  77.   42.6]\n",
      " [ 17.3  81.   55.4]\n",
      " [ 17.5  82.   55.7]\n",
      " [ 17.9  80.   58.3]\n",
      " [ 18.   80.   51.5]\n",
      " [ 18.   80.   51. ]\n",
      " [ 20.6  87.   77. ]]\n"
     ]
    }
   ],
   "source": [
    "# Ejemplo de lectura de datos\n",
    "data = np.loadtxt(\"data/cherry.txt\")\n",
    "print data.shape\n",
    "print data"
   ]
  },
  {
   "cell_type": "code",
   "execution_count": 11,
   "metadata": {
    "collapsed": false
   },
   "outputs": [
    {
     "name": "stdout",
     "output_type": "stream",
     "text": [
      "(21, 3)\n",
      "[[11 79 24]\n",
      " [11 76 21]\n",
      " [11 76 21]\n",
      " [11 69 21]\n",
      " [12 75 19]\n",
      " [12 74 22]\n",
      " [12 85 33]\n",
      " [13 86 27]\n",
      " [13 71 25]\n",
      " [13 64 24]\n",
      " [14 78 34]\n",
      " [14 80 31]\n",
      " [14 74 36]\n",
      " [16 72 38]\n",
      " [16 77 42]\n",
      " [17 81 55]\n",
      " [17 82 55]\n",
      " [17 80 58]\n",
      " [18 80 51]\n",
      " [18 80 51]\n",
      " [20 87 77]]\n"
     ]
    }
   ],
   "source": [
    "# Ejemplo de lectura de datos, saltandose 11 lineas y truncando a enteros\n",
    "data_int = np.loadtxt(\"data/cherry.txt\", skiprows=11, dtype=int)\n",
    "print data_int.shape\n",
    "print data_int"
   ]
  },
  {
   "cell_type": "markdown",
   "metadata": {},
   "source": [
    "#### 2. Librería Numpy\n",
    "## 2.5 Inputs y Outputs\n",
    "\n",
    "Numpy permite guardar datos de manera sencilla con la función **savetxt**: siempre debemos dar el nombre del archivo y el array a guardar. \n",
    "\n",
    "Existen variados argumentos opcionales, pero los mas importantes son:\n",
    "* **header**: Línea a escribir como encabezado de los datos"
   ]
  },
  {
   "cell_type": "code",
   "execution_count": 18,
   "metadata": {
    "collapsed": true
   },
   "outputs": [],
   "source": [
    "# Guardando el archivo con un header en español\n",
    "encabezado = \"Diametro Altura Volumen (Valores truncados a numeros enteros)\"\n",
    "np.savetxt(\"data/cherry_int.txt\", data_int, header=encabezado)"
   ]
  },
  {
   "cell_type": "markdown",
   "metadata": {},
   "source": [
    "Revisemos si el archivo quedó bien escrito:"
   ]
  },
  {
   "cell_type": "code",
   "execution_count": 19,
   "metadata": {
    "collapsed": false
   },
   "outputs": [
    {
     "name": "stdout",
     "output_type": "stream",
     "text": [
      "# Diametro Altura Volumen (Valores truncados a numeros enteros)\n",
      "1.100000000000000000e+01 7.900000000000000000e+01 2.400000000000000000e+01\n",
      "1.100000000000000000e+01 7.600000000000000000e+01 2.100000000000000000e+01\n",
      "1.100000000000000000e+01 7.600000000000000000e+01 2.100000000000000000e+01\n",
      "1.100000000000000000e+01 6.900000000000000000e+01 2.100000000000000000e+01\n",
      "1.200000000000000000e+01 7.500000000000000000e+01 1.900000000000000000e+01\n",
      "1.200000000000000000e+01 7.400000000000000000e+01 2.200000000000000000e+01\n",
      "1.200000000000000000e+01 8.500000000000000000e+01 3.300000000000000000e+01\n",
      "1.300000000000000000e+01 8.600000000000000000e+01 2.700000000000000000e+01\n",
      "1.300000000000000000e+01 7.100000000000000000e+01 2.500000000000000000e+01\n",
      "1.300000000000000000e+01 6.400000000000000000e+01 2.400000000000000000e+01\n",
      "1.400000000000000000e+01 7.800000000000000000e+01 3.400000000000000000e+01\n",
      "1.400000000000000000e+01 8.000000000000000000e+01 3.100000000000000000e+01\n",
      "1.400000000000000000e+01 7.400000000000000000e+01 3.600000000000000000e+01\n",
      "1.600000000000000000e+01 7.200000000000000000e+01 3.800000000000000000e+01\n",
      "1.600000000000000000e+01 7.700000000000000000e+01 4.200000000000000000e+01\n",
      "1.700000000000000000e+01 8.100000000000000000e+01 5.500000000000000000e+01\n",
      "1.700000000000000000e+01 8.200000000000000000e+01 5.500000000000000000e+01\n",
      "1.700000000000000000e+01 8.000000000000000000e+01 5.800000000000000000e+01\n",
      "1.800000000000000000e+01 8.000000000000000000e+01 5.100000000000000000e+01\n",
      "1.800000000000000000e+01 8.000000000000000000e+01 5.100000000000000000e+01\n",
      "2.000000000000000000e+01 8.700000000000000000e+01 7.700000000000000000e+01\n"
     ]
    }
   ],
   "source": [
    "%%bash \n",
    "cat data/cherry_int.txt"
   ]
  },
  {
   "cell_type": "markdown",
   "metadata": {},
   "source": [
    "# Ejercicio 2\n",
    "\n",
    "* Lea el archivo data/cherry.txt\n",
    "* Escale la matriz para tener todas las unidades en metros o metros cubicos.\n",
    "* Guarde la matriz en un nuevo archivo data/cherry_mks.txt, con un encabezado apropiado."
   ]
  },
  {
   "cell_type": "code",
   "execution_count": 102,
   "metadata": {
    "collapsed": true
   },
   "outputs": [],
   "source": [
    "# Leer datos\n",
    "#FIX_ME#\n",
    "\n",
    "# Convertir a mks\n",
    "#FIX_ME#\n",
    "\n",
    "# Guardar en nuevo archivo\n",
    "#FIX_ME#"
   ]
  },
  {
   "cell_type": "markdown",
   "metadata": {},
   "source": [
    "## Tips\n",
    "La práctica y la necesidad hace al maestro.\n",
    "\n",
    "Algunos enlaces útiles:\n",
    "* http://www.labri.fr/perso/nrougier/teaching/numpy.100/ : Lista con 100 recetas prácticas.s\n",
    "* http://sebastianraschka.com/Articles/2014_matlab_vs_numpy.html : Desde el lado oscuro a numpy.\n",
    "* http://pages.physics.cornell.edu/~myers/teaching/ComputationalMethods/python/arrays.html : Otros consejos."
   ]
  }
 ],
 "metadata": {
  "celltoolbar": "Slideshow",
  "kernelspec": {
   "display_name": "Python 2",
   "language": "python",
   "name": "python2"
  },
  "language_info": {
   "codemirror_mode": {
    "name": "ipython",
    "version": 2
   },
   "file_extension": ".py",
   "mimetype": "text/x-python",
   "name": "python",
   "nbconvert_exporter": "python",
   "pygments_lexer": "ipython2",
   "version": "2.7.6"
  }
 },
 "nbformat": 4,
 "nbformat_minor": 0
}
