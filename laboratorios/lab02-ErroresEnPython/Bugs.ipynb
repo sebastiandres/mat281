{
 "cells": [
  {
   "cell_type": "markdown",
   "metadata": {
    "slideshow": {
     "slide_type": "slide"
    }
   },
   "source": [
    "<header class=\"w3-container w3-teal\">\n",
    "<img src=\"images/utfsm.png\" alt=\"\" height=\"100px\" align=\"left\"/>\n",
    "<img src=\"images/mat.png\" alt=\"\" height=\"100px\" align=\"right\"/>\n",
    "</header>\n",
    "<br/><br/><br/><br/><br/>\n",
    "# MAT281\n",
    "## Aplicaciones de la Matemática en la Ingeniería\n",
    "### Laboratorio 2: Bugs, bugs y más bugs\n",
    "\n",
    "## INSTRUCCIONES\n",
    "* Anoten su nombre y rol en la celda siguiente.\n",
    "* Desarrollen los problemas de manera secuencial.\n",
    "* Guarden constantemente con ***Ctr-S*** para evitar sorpresas.\n",
    "* Ejecuten cada celda de código utilizando ***Ctr-Enter***\n",
    "* Pueden utilizar tabulación para obtener ayuda de ipython notebook."
   ]
  },
  {
   "cell_type": "code",
   "execution_count": 1,
   "metadata": {
    "collapsed": false
   },
   "outputs": [
    {
     "data": {
      "text/html": [
       "<b>Alumno</b>: Sebastián Flores              <b>rol</b>: 2004001-7 <br><b>Alumno</b>: María José Vargas            <b>rol</b>: 2004007-8 <br></br>Este es un laboratorio práctico y de aprendizaje:</br>Tome apuntes, intente lo sugerido y pruebe otros cambios.</br></br><b>¡Buena suerte!</b>"
      ],
      "text/plain": [
       "<IPython.core.display.HTML object>"
      ]
     },
     "execution_count": 1,
     "metadata": {},
     "output_type": "execute_result"
    }
   ],
   "source": [
    "#Configuracion para recargar módulos y librerías cada vez \n",
    "%reload_ext autoreload\n",
    "%autoreload 2\n",
    "                                                                                                                                                                                                                                                                                                                                                                                                                                                                                                                                                                                                                                                                                \n",
    "%matplotlib inline\n",
    "                                                                                                                                                                                                                                                                                                                                                                                                                                                                                                                                                                                                                                                                                                                                                                                                                                                                                                                                                                                                                                                                                                                                                                                                                                                                                                                                                                                                                                                                                                                                                                                                                                                                                                                                                                                                                                                                                                                                                                                                                                                                                                                                                                                                                                                                                                                                                                                                                                                                                                                                                                                                                                                                                                                                                                                                                                                                                                                                                                                                                                                                                                                                                                                                                                                                                                                                                                                                                                                                                                                                                                                                                                                                                                                                                                                                                                                                                                                                                                                                                                                                                                                                                                                                                                                                                                                                                                                                                                                                                                                                                                                                                                                                                                                                                                                                                                                                                                                                                                                                                                                                                                                                                                                                                                                                                                                                                                                                                                                                                                                                                                                                                                                                                                                                                                                                                                                                                                                                                                                                                                                                                                                                                                                                                                                                                                                                                                                                                                                                                                                                                                                                                                                                                                                                                                                                                                                                                                                                                                                                                                                                                                                                                                                                                                                                                                                                                                                                                                                                                                                                                                                                                                                                                                                                                                                                                                                                                                                                                                                                                                                                                                                                                                                                                                                                                                                                                                                                                                                                                                                                                                                                                                                                                                                                                                                                                                                                                                                                                                                                                                                                                                                                                                                                                                                                                                                                                                                                                                                                                                                                                                                                                                                                                                                                                                                                                                                                                                                                                                                                                                                                                                                                                                                                                                                                                                                                                                                                                                                                                            \n",
    "from mat281_code.lab import *\n",
    "from IPython.core.display import HTML\n",
    "from matplotlib import pyplot as plt\n",
    "\n",
    "HTML(open(\"style/mat281.css\", \"r\").read())\n",
    "\n",
    "alumno_1 = (r\"Sebastián Flores\", \"2004001-7\") # FIX ME\n",
    "alumno_2 = (r\"María José Vargas\", \"2004007-8\") # FIX ME\n",
    "\n",
    "HTML(greetings(alumno_1, alumno_2))"
   ]
  },
  {
   "cell_type": "markdown",
   "metadata": {
    "slideshow": {
     "slide_type": "slide"
    }
   },
   "source": [
    "## SOBRE EL LABORATORIO\n",
    "Existen 4 desafíos: \n",
    "* En todos los casos, documenten lo encontrado. Escriban como un #comentario o \"\"\"comentario\"\"\" los errores que vayan detectando.\n",
    "* En el desafío 1: Ejecute la celda, lea el output y arregle el código. Comente los 5 errores en la misma celda.\n",
    "* En el desafío 2: Ejecute la celda y encuentre los errores utilizando print. Comente los 3 errores en la misma celda.\n",
    "* En el desafío 3: Ejecute el archivo ./mat281_code/desafio_3.py, y encuentre los 3 errores utilizando pdb.set_trace()\n",
    "* En el desafío 4: Ejecute el archivo ./mat281_code/desafio_4.py, y encuentre los 3 errores utilizando IPython.embed()\n",
    "\n",
    "## AL TERMINAR\n",
    "Enviar por correo, con copia a todos los integrantes del grupo, los siguientes archivos:\n",
    "* Bugs.ipynb (modificado)\n",
    "* desafio_3.py (modificado).\n",
    "* desafio_4.py (modificado)."
   ]
  },
  {
   "cell_type": "markdown",
   "metadata": {
    "collapsed": true,
    "slideshow": {
     "slide_type": "slide"
    }
   },
   "source": [
    "## Introducción\n",
    "\n",
    "**Debugging**: Eliminación de errores de un programa computacional.\n",
    "* Fácilmente 40-60% del tiempo utilizado en la creación de un programa.\n",
    "* Ningún programa está excento de bugs/errores.\n",
    "* Imposible garantizar utilización 100% segura por parte del usuario.\n",
    "* Programas computaciones tienen inconsistencias/errores de implementación.\n",
    "* ¡Hardware también puede tener errores!"
   ]
  },
  {
   "cell_type": "markdown",
   "metadata": {
    "collapsed": true,
    "slideshow": {
     "slide_type": "slide"
    }
   },
   "source": [
    "## 1. Introducción\n",
    "\n",
    "**¿Porqué se le llama bugs?** \n",
    "\n",
    "Existen registros en la correspondencia de Thomas Edisson, en 1848, hablaba de **bugs** para referirse a errores en sus inventos. El término se utilizaba ocasionalmente en el dominio informático. En 1947, el ordenador Mark II presentaba un error. Al buscar el origen del error, los técnicos encontraron una polilla, que se había introducido en la máquina. \n",
    "\n",
    "<img src=\"images/bug.jpg\" alt=\"\" width=\"600px\" align=\"middle\"/>\n",
    "\n",
    "Toda la historia en el siguiente [enlace a wikipedia (ingles)](https://en.wikipedia.org/wiki/Software_bug)."
   ]
  },
  {
   "cell_type": "markdown",
   "metadata": {
    "collapsed": true,
    "slideshow": {
     "slide_type": "slide"
    }
   },
   "source": [
    "## 2. Técnicas para Debug\n",
    "1. Leer output entregado por python para posibles errores\n",
    "2. Utilizando **print**\n",
    "3. Utilizando **pdb**: **p**ython **d**ebu**g**ger\n",
    "4. Lanzamiento condicional de **Ipython embed**"
   ]
  },
  {
   "cell_type": "markdown",
   "metadata": {
    "collapsed": true,
    "slideshow": {
     "slide_type": "slide"
    }
   },
   "source": [
    "## 2.1 Debug: Leer output de errores\n",
    "\n",
    "Cuando el programa no funciona y entrega un error normalmente es fácil solucionarlo. \n",
    "El mensaje de error entregará: la línea donde se detecta el error y el tipo de error.\n",
    "\n",
    "**PROS**:\n",
    "* Explicativo\n",
    "* Fácil de detectar y reparar\n",
    "\n",
    "**CONTRA**:\n",
    "* No todos los errores arrojan error, particularmente los errores conceptuales.\n",
    "\n",
    "## 2.1.1 Lista de errores comunes\n",
    "Los errores más comunes en un programa son los siguientes:\n",
    "* SyntaxError:\n",
    "  * Parentésis no cierran adecuadamente.\n",
    "  * Faltan comillas en un string.\n",
    "  * Falta dos puntos para definir un bloque if-elif-ese, una función, o un ciclo.\n",
    "* NameError:\n",
    "  * Se está usando una variable que no existe (nombre mal escrito o se define después de donde es utilizada)\n",
    "  * Todavía no se ha definido la función o variable.\n",
    "  * No se ha importado el módulo requerido\n",
    "* IOError: El archivo a abrir no existe.\n",
    "* KeyError: La llave no existe en el diccionario.\n",
    "* TypeError: La función no puede aplicarse sobre el objeto. \n",
    "* IndentationError: Los bloques de código no están bien definidos. Revisar la indentación.\n",
    "\n",
    "Un error clásico y que es dificil de detectar es la **asignación involuntaria**: Escribir $a=b$ cuando realmente se quiere testear la igualdad $a==b$."
   ]
  },
  {
   "cell_type": "markdown",
   "metadata": {
    "collapsed": true,
    "slideshow": {
     "slide_type": "slide"
    }
   },
   "source": [
    "## Desafío 1\n",
    "\n",
    "Arregle el siguiente programa en python para que funcione. Contiene 5 errores. Anote los errores como comentarios en el código.\n",
    "\n",
    "Al ejecutar sin errores, debería regresar el valor 0.333384348536"
   ]
  },
  {
   "cell_type": "code",
   "execution_count": 7,
   "metadata": {
    "collapsed": false
   },
   "outputs": [
    {
     "name": "stdout",
     "output_type": "stream",
     "text": [
      "0.333384348536\n"
     ]
    }
   ],
   "source": [
    "import numpy as np\n",
    "def promedio_positivo(a):\n",
    "    pos_mean = a[a>0].mean()\n",
    "    return pos_mean\n",
    "\n",
    "N = 100\n",
    "x = np.linspace(-1,1,N)\n",
    "y = 0.5 - x**2   # No cambiar esta linea\n",
    "print promedio_positivo(y)\n",
    "\n",
    "# Error 1:\n",
    "# Error 2: \n",
    "# Error 3:\n",
    "# Error 4:\n",
    "# Error 5:"
   ]
  },
  {
   "cell_type": "markdown",
   "metadata": {
    "collapsed": true,
    "slideshow": {
     "slide_type": "slide"
    }
   },
   "source": [
    "## 2.2 Debug: Utilización de print\n",
    "Utilizar **print** es la técnica más sencilla y habitual, apropiada si los errores son sencillos.\n",
    "\n",
    "**PRO**:\n",
    "* Fácil y rápido de implementar. \n",
    "* Permite inspeccionar valores de variable a lo largo de todo un programa\n",
    "\n",
    "**CONTRA**:\n",
    "* Requiere escribir expresiones más complicadas para estudiar más de una variable simultáneamente.\n",
    "* Impresión no ayuda para estudiar datos multidimensionales (arreglos, matrices, diccionarios grandes).\n",
    "* Eliminacion de múltiples print puede ser compleja en programa grande.\n",
    "* Inapropiado si la ejecución del programa tarde demasiado (por ejemplo si tiene que leer un archivo de disco), pues habitualmente se van insertando prints a lo largo de varias ejecuciones \"persiguiendo\" el valor de una variable.\n",
    "\n",
    "#### Consejo\n",
    "Si se desea inspeccionar la variable mi_variable_con_error, utilice\n",
    "\n",
    "    print \"!!!\", mi_variable_con_error\n",
    "    \n",
    "De esa forma será más facil ver en el output donde está la variable impresa, y luego de solucionar el bug, será también más fácil eliminar las expresiones print que han sido insertadas para debugear (no se confundirá con los print que sí son necesarios y naturales al programa)."
   ]
  },
  {
   "cell_type": "markdown",
   "metadata": {
    "collapsed": true,
    "slideshow": {
     "slide_type": "slide"
    }
   },
   "source": [
    "## Desafío 2\n",
    "Detecte porqué el programa se comporta de manera inadecuada, utilizando print donde parezca adecuado.\n",
    "\n",
    "No elimine los print que usted haya introducido, sólo coméntelos con #.\n",
    "\n",
    "Arregle el desperfecto e indique con un comentario en el código donde estaba el error."
   ]
  },
  {
   "cell_type": "code",
   "execution_count": null,
   "metadata": {
    "collapsed": false
   },
   "outputs": [],
   "source": [
    "def fibonacci(n):\n",
    "    \"\"\"\n",
    "    Debe regresar la lista con los primeros n numeros de fibonacci.\n",
    "    Para n<1, regresar [].\n",
    "    Para n=1, regresar [1].\n",
    "    Para n=2, regresar [1,1].\n",
    "    Para n=3, regresar [1,1,2].\n",
    "    Para n=4, regresar [1,1,2,3].\n",
    "    Y sucesivamente\n",
    "    \"\"\"\n",
    "    a = 1\n",
    "    b = 1\n",
    "    fib = [a,b]\n",
    "    count = 2\n",
    "    if n<1:\n",
    "        return []\n",
    "    if n=1:\n",
    "        return [1]\n",
    "    while count <= n:\n",
    "        aux = a\n",
    "        a = b\n",
    "        b = aux + b\n",
    "        count += 1\n",
    "        fib.append(aux)\n",
    "    return fib\n",
    "\n",
    "print \"fibonacci(-1):\", fibonacci(-1) # Deberia ser []\n",
    "print \"fibonacci(0):\", fibonacci(0) # Deberia ser []\n",
    "print \"fibonacci(1):\", fibonacci(1) # Deberia ser [1]\n",
    "print \"fibonacci(2):\", fibonacci(2) # Deberia ser [1,1]\n",
    "print \"fibonacci(3):\", fibonacci(3) # Deberia ser [1,1,2]\n",
    "print \"fibonacci(5):\", fibonacci(5) # Deberia ser [1,1,2,3,5]\n",
    "print \"fibonacci(10):\", fibonacci(10) # Deberia ser ...\n",
    "\n",
    "\"\"\"\n",
    "ERRORES DETECTADOS:\n",
    "1)\n",
    "2)\n",
    "3)\n",
    "\"\"\""
   ]
  },
  {
   "cell_type": "markdown",
   "metadata": {
    "collapsed": true,
    "slideshow": {
     "slide_type": "slide"
    }
   },
   "source": [
    "## 2.3 Debug: Utilización de pdb\n",
    "Python trae un debugger por defecto: pdb (**p**ython **d**e**b**ugger), que guarda similaridades con gdb (el debugger de C).\n",
    "\n",
    "**PRO**:\n",
    "* Permite inspeccionar el estado real de la máquina en un instante dado.\n",
    "* Permite ejecutar las instrucciones siguientes.\n",
    "\n",
    "**CONTRA**:\n",
    "* Requiere conocer comandos.\n",
    "* No tiene completación por tabulación como IPython.\n",
    "\n",
    "El funcionamiento de pdb similar a los breakpoints en matlab. \n",
    "\n",
    "Se debe realizar lo siguiente:\n",
    "\n",
    "1. Importar la librería \n",
    "\n",
    "        import pdb\n",
    "\n",
    "2. Solicitar que se ejecute la inspección en las líneas que potencialmente tienen el error. Para ello es necesario insertar en una nueva línea, con el alineamiento adecuado, lo siguiente:\n",
    "\n",
    "        pdb.set_trace()\n",
    "\n",
    "3. Ejecutar el programa como se realizaría normalmente:\n",
    "\n",
    "        $ python mi_programa_con_error.py\n",
    "        \n",
    "Al realizar las acciones anteriores, pdb ejecuta todas las instrucciones hasta el primer pdb.set_trace() y regresa el terminal al usuario, para que inspeccione las variables y revise el código. Los comandos principales a memorizar son:\n",
    "\n",
    "* **n + Enter**: Permite ejecutar la siguiente instrucción (línea). \n",
    "* **c + Enter**: Permite continar la ejecución del programa, hasta el próximo pdb.set_trace() o el final del programa.\n",
    "* **l + Enter**: Permite ver qué línea esta actualmente en ejecución.\n",
    "* **p mi_variable + Enter**: Imprime la variable mi_variable.\n",
    "* **Enter**: Ejecuta la última accion realizada en pdb.         \n",
    "\n",
    "## 2.3.1 Ejemplo\n",
    "\n",
    "Ejecute el archivo ./mat281_code/ejemplo_pdb.py y siga las instrucciones que obtendrá:\n",
    "\n",
    "     $ python  ./mat281_code/ejemplo_pdb.py"
   ]
  },
  {
   "cell_type": "markdown",
   "metadata": {
    "collapsed": true,
    "slideshow": {
     "slide_type": "slide"
    }
   },
   "source": [
    "## Desafío 3\n",
    "\n",
    "Utilice **pdb** para debuggear el archivo ***./mat281_code/desafio_3.py***. \n",
    "\n",
    "El desafío 3 consiste en hallar 3 errores en la implementación defectuosa del método de la secante:\n",
    "[link wikipedia](https://es.wikipedia.org/wiki/M%C3%A9todo_de_la_secante)\n",
    "\n",
    "Instrucciones:\n",
    "* Después de utilizar **pdb.set_trace()** no borre la línea creada, solo coméntela con **#** para poder revisar su utilización.\n",
    "* Anote en la celda a continuación los errores que ha encontrado en el archivo **./mat281_code/desafio_3.py**"
   ]
  },
  {
   "cell_type": "code",
   "execution_count": null,
   "metadata": {
    "collapsed": false
   },
   "outputs": [],
   "source": [
    "# Desafio 3 - Errores encontrados en ./mat281_code/desafio_3.py\n",
    "\"\"\"\n",
    "Se detectaron los siguientes errores:\n",
    "1- FIX ME - COMENTAR AQUI\n",
    "2- FIX ME - COMENTAR AQUI\n",
    "3- FIX ME - COMENTAR AQUI\n",
    "\"\"\"\n"
   ]
  },
  {
   "cell_type": "markdown",
   "metadata": {
    "collapsed": true,
    "slideshow": {
     "slide_type": "slide"
    }
   },
   "source": [
    "## 2.4 Debug: Utilización de IPython\n",
    "\n",
    "\n",
    "**PRO**:\n",
    "* Permite inspeccionar el estado real de la máquina en un instante dado.\n",
    "* Permite calcular cualquier expresión, de manera sencilla.\n",
    "* Permite graficar, imprimir matrices, etc.\n",
    "* Tiene completación por tabulación de IPython.\n",
    "* Tiene todo el poder de IPython (%who, %whos, etc.) \n",
    "\n",
    "**CONTRA**:\n",
    "* No permite avanzar a la próxima instrucción como n+Enter en pdb.\n",
    "\n",
    "El funcionamiento de IPython es el siguiente:\n",
    "\n",
    "1. Importar la librería \n",
    "\n",
    "        import IPython\n",
    "\n",
    "2. Solicitar que se ejecute la inspección en las líneas que potencialmente tienen el error. Para ello es necesario insertar en una nueva línea, con el alineamiento adecuado, lo siguiente:\n",
    "\n",
    "        IPython.embed()\n",
    "\n",
    "3. Ejecutar el programa como se realizaría normalmente:\n",
    "\n",
    "        $ python mi_programa_con_error.py\n",
    "        \n",
    "Al realizar las acciones anteriores, python ejecuta todas las instrucciones hasta el primer IPython.embed() y regresa el terminal interactivo IPython al usuario en el punto seleccionado, para que inspeccione las variables y revise el código.\n",
    "\n",
    "Para salir de IPython es necesario utilizar ***Ctr+d***.\n",
    "\n",
    "## 2.3.1 Ejemplo\n",
    "\n",
    "Ejecute el archivo **./mat281_code/ejemplo_ipython.py** y siga las instrucciones que obtendrá:\n",
    "\n",
    "     $ python  ./mat281_code/ejemplo_ipython.py"
   ]
  },
  {
   "cell_type": "markdown",
   "metadata": {
    "collapsed": true,
    "slideshow": {
     "slide_type": "slide"
    }
   },
   "source": [
    "## Desafío 4\n",
    "\n",
    "Utilice **IPython** para debuggear el archivo ***./mat281_code/desafio_4.py***.\n",
    "\n",
    "El desafío 4 consiste en reparar  una implementación defectuosa del método de bisección:\n",
    "[link wikipedia](https://es.wikipedia.org/wiki/M%C3%A9todo_de_bisecci%C3%B3n)\n",
    "\n",
    "Instrucciones:\n",
    "* Después de utilizar **IPython.embed()** no borre la línea, solo coméntela con # para poder revisar su utilización.\n",
    "* Anote en la celda a continuación los errores que ha encontrado en el archivo **./mat281_code/desafio_4.py**"
   ]
  },
  {
   "cell_type": "code",
   "execution_count": null,
   "metadata": {
    "collapsed": false
   },
   "outputs": [],
   "source": [
    "# Desafio 4 - Errores encontrados en ./mat281_code/desafio_4.py\n",
    "\"\"\"\n",
    "Se detectaron los siguientes errores:\n",
    "1- FIX ME - COMENTAR AQUI\n",
    "2- FIX ME - COMENTAR AQUI\n",
    "3- FIX ME - COMENTAR AQUI\n",
    "\"\"\""
   ]
  },
  {
   "cell_type": "markdown",
   "metadata": {
    "slideshow": {
     "slide_type": "slide"
    }
   },
   "source": [
    "## Resumen\n",
    "El siguiente [blog](http://pythonforbiologists.com/index.php/29-common-beginner-python-errors-on-one-page/) tiene una imagen que resume gran parte de los errores más comunes:\n",
    "\n",
    "<img src=\"images/errores.png\" alt=\"\" width=\"1200px\" align=\"middle\"/>\n"
   ]
  }
 ],
 "metadata": {
  "celltoolbar": "Slideshow",
  "kernelspec": {
   "display_name": "Python 2",
   "language": "python",
   "name": "python2"
  },
  "language_info": {
   "codemirror_mode": {
    "name": "ipython",
    "version": 2
   },
   "file_extension": ".py",
   "mimetype": "text/x-python",
   "name": "python",
   "nbconvert_exporter": "python",
   "pygments_lexer": "ipython2",
   "version": "2.7.6"
  }
 },
 "nbformat": 4,
 "nbformat_minor": 0
}
